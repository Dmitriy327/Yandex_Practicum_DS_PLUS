{
 "cells": [
  {
   "cell_type": "markdown",
   "metadata": {
    "toc": true
   },
   "source": [
    "<h1>Содержание<span class=\"tocSkip\"></span></h1>\n",
    "<div class=\"toc\"><ul class=\"toc-item\"><li><span><a href=\"#Подготовка-данных\" data-toc-modified-id=\"Подготовка-данных-1\"><span class=\"toc-item-num\">1&nbsp;&nbsp;</span>Подготовка данных</a></span><ul class=\"toc-item\"><li><span><a href=\"#Целевой-признак\" data-toc-modified-id=\"Целевой-признак-1.1\"><span class=\"toc-item-num\">1.1&nbsp;&nbsp;</span>Целевой признак</a></span></li><li><span><a href=\"#Преобразование-признаков.\" data-toc-modified-id=\"Преобразование-признаков.-1.2\"><span class=\"toc-item-num\">1.2&nbsp;&nbsp;</span>Преобразование признаков.</a></span></li><li><span><a href=\"#Разбиение-данных-на-выборки\" data-toc-modified-id=\"Разбиение-данных-на-выборки-1.3\"><span class=\"toc-item-num\">1.3&nbsp;&nbsp;</span>Разбиение данных на выборки</a></span></li><li><span><a href=\"#Масшабирование-признаков\" data-toc-modified-id=\"Масшабирование-признаков-1.4\"><span class=\"toc-item-num\">1.4&nbsp;&nbsp;</span>Масшабирование признаков</a></span></li><li><span><a href=\"#Промежуточный-вывод\" data-toc-modified-id=\"Промежуточный-вывод-1.5\"><span class=\"toc-item-num\">1.5&nbsp;&nbsp;</span>Промежуточный вывод</a></span></li></ul></li><li><span><a href=\"#Исследование-задачи\" data-toc-modified-id=\"Исследование-задачи-2\"><span class=\"toc-item-num\">2&nbsp;&nbsp;</span>Исследование задачи</a></span><ul class=\"toc-item\"><li><span><a href=\"#Подберем-гипперпараметр-для-Дерева-решений\" data-toc-modified-id=\"Подберем-гипперпараметр-для-Дерева-решений-2.1\"><span class=\"toc-item-num\">2.1&nbsp;&nbsp;</span>Подберем гипперпараметр для Дерева решений</a></span></li><li><span><a href=\"#Подберем-гипперпараметр-для-Случайного-леса.\" data-toc-modified-id=\"Подберем-гипперпараметр-для-Случайного-леса.-2.2\"><span class=\"toc-item-num\">2.2&nbsp;&nbsp;</span>Подберем гипперпараметр для Случайного леса.</a></span></li><li><span><a href=\"#Результаты-исследования\" data-toc-modified-id=\"Результаты-исследования-2.3\"><span class=\"toc-item-num\">2.3&nbsp;&nbsp;</span>Результаты исследования</a></span></li></ul></li><li><span><a href=\"#Борьба-с-дисбалансом\" data-toc-modified-id=\"Борьба-с-дисбалансом-3\"><span class=\"toc-item-num\">3&nbsp;&nbsp;</span>Борьба с дисбалансом</a></span><ul class=\"toc-item\"><li><span><a href=\"#Увеличение-выборки.\" data-toc-modified-id=\"Увеличение-выборки.-3.1\"><span class=\"toc-item-num\">3.1&nbsp;&nbsp;</span>Увеличение выборки.</a></span></li><li><span><a href=\"#Уменьшение-выборки.\" data-toc-modified-id=\"Уменьшение-выборки.-3.2\"><span class=\"toc-item-num\">3.2&nbsp;&nbsp;</span>Уменьшение выборки.</a></span></li><li><span><a href=\"#Подберем-гипперпарметры-для-лучшей-модели-(Случайный-лес)\" data-toc-modified-id=\"Подберем-гипперпарметры-для-лучшей-модели-(Случайный-лес)-3.3\"><span class=\"toc-item-num\">3.3&nbsp;&nbsp;</span>Подберем гипперпарметры для лучшей модели (Случайный лес)</a></span></li><li><span><a href=\"#Результат\" data-toc-modified-id=\"Результат-3.4\"><span class=\"toc-item-num\">3.4&nbsp;&nbsp;</span>Результат</a></span></li></ul></li><li><span><a href=\"#Тестирование-модели\" data-toc-modified-id=\"Тестирование-модели-4\"><span class=\"toc-item-num\">4&nbsp;&nbsp;</span>Тестирование модели</a></span><ul class=\"toc-item\"><li><span><a href=\"#Итоговый-вывод.\" data-toc-modified-id=\"Итоговый-вывод.-4.1\"><span class=\"toc-item-num\">4.1&nbsp;&nbsp;</span>Итоговый вывод.</a></span></li></ul></li><li><span><a href=\"#Чек-лист-готовности-проекта\" data-toc-modified-id=\"Чек-лист-готовности-проекта-5\"><span class=\"toc-item-num\">5&nbsp;&nbsp;</span>Чек-лист готовности проекта</a></span></li></ul></div>"
   ]
  },
  {
   "cell_type": "markdown",
   "metadata": {},
   "source": [
    "# Отток клиентов"
   ]
  },
  {
   "cell_type": "markdown",
   "metadata": {},
   "source": [
    "Из «Бета-Банка» стали уходить клиенты. Каждый месяц. Немного, но заметно. Банковские маркетологи посчитали: сохранять текущих клиентов дешевле, чем привлекать новых.\n",
    "\n",
    "Нужно спрогнозировать, уйдёт клиент из банка в ближайшее время или нет. Вам предоставлены исторические данные о поведении клиентов и расторжении договоров с банком. \n",
    "\n",
    "Постройте модель с предельно большим значением *F1*-меры. Чтобы сдать проект успешно, нужно довести метрику до 0.59. Проверьте *F1*-меру на тестовой выборке самостоятельно.\n",
    "\n",
    "Дополнительно измеряйте *AUC-ROC*, сравнивайте её значение с *F1*-мерой.\n",
    "\n",
    "Источник данных: [https://www.kaggle.com/barelydedicated/bank-customer-churn-modeling](https://www.kaggle.com/barelydedicated/bank-customer-churn-modeling)"
   ]
  },
  {
   "cell_type": "markdown",
   "metadata": {},
   "source": [
    "## Подготовка данных"
   ]
  },
  {
   "cell_type": "code",
   "execution_count": 86,
   "metadata": {},
   "outputs": [],
   "source": [
    "#импортируем библиотеки\n",
    "import pandas as pd\n",
    "import matplotlib.pyplot as plt\n",
    "\n",
    "from sklearn.dummy import DummyClassifier\n",
    "from sklearn.ensemble import RandomForestClassifier\n",
    "from sklearn.linear_model import LogisticRegression\n",
    "from sklearn.tree import DecisionTreeClassifier\n",
    "\n",
    "from sklearn.metrics import (\n",
    "    accuracy_score, \n",
    "    confusion_matrix, \n",
    "    f1_score,\n",
    "    roc_auc_score,\n",
    "    roc_curve\n",
    ")\n",
    "\n",
    "from sklearn.model_selection import train_test_split\n",
    "from sklearn.preprocessing import StandardScaler\n",
    "from sklearn.utils import shuffle\n",
    "\n",
    "import warnings\n",
    "warnings.filterwarnings('ignore')"
   ]
  },
  {
   "cell_type": "code",
   "execution_count": 87,
   "metadata": {},
   "outputs": [
    {
     "data": {
      "text/html": [
       "<div>\n",
       "<style scoped>\n",
       "    .dataframe tbody tr th:only-of-type {\n",
       "        vertical-align: middle;\n",
       "    }\n",
       "\n",
       "    .dataframe tbody tr th {\n",
       "        vertical-align: top;\n",
       "    }\n",
       "\n",
       "    .dataframe thead th {\n",
       "        text-align: right;\n",
       "    }\n",
       "</style>\n",
       "<table border=\"1\" class=\"dataframe\">\n",
       "  <thead>\n",
       "    <tr style=\"text-align: right;\">\n",
       "      <th></th>\n",
       "      <th>RowNumber</th>\n",
       "      <th>CustomerId</th>\n",
       "      <th>Surname</th>\n",
       "      <th>CreditScore</th>\n",
       "      <th>Geography</th>\n",
       "      <th>Gender</th>\n",
       "      <th>Age</th>\n",
       "      <th>Tenure</th>\n",
       "      <th>Balance</th>\n",
       "      <th>NumOfProducts</th>\n",
       "      <th>HasCrCard</th>\n",
       "      <th>IsActiveMember</th>\n",
       "      <th>EstimatedSalary</th>\n",
       "      <th>Exited</th>\n",
       "    </tr>\n",
       "  </thead>\n",
       "  <tbody>\n",
       "    <tr>\n",
       "      <th>0</th>\n",
       "      <td>1</td>\n",
       "      <td>15634602</td>\n",
       "      <td>Hargrave</td>\n",
       "      <td>619</td>\n",
       "      <td>France</td>\n",
       "      <td>Female</td>\n",
       "      <td>42</td>\n",
       "      <td>2</td>\n",
       "      <td>0.00</td>\n",
       "      <td>1</td>\n",
       "      <td>1</td>\n",
       "      <td>1</td>\n",
       "      <td>101348.88</td>\n",
       "      <td>1</td>\n",
       "    </tr>\n",
       "    <tr>\n",
       "      <th>1</th>\n",
       "      <td>2</td>\n",
       "      <td>15647311</td>\n",
       "      <td>Hill</td>\n",
       "      <td>608</td>\n",
       "      <td>Spain</td>\n",
       "      <td>Female</td>\n",
       "      <td>41</td>\n",
       "      <td>1</td>\n",
       "      <td>83807.86</td>\n",
       "      <td>1</td>\n",
       "      <td>0</td>\n",
       "      <td>1</td>\n",
       "      <td>112542.58</td>\n",
       "      <td>0</td>\n",
       "    </tr>\n",
       "    <tr>\n",
       "      <th>2</th>\n",
       "      <td>3</td>\n",
       "      <td>15619304</td>\n",
       "      <td>Onio</td>\n",
       "      <td>502</td>\n",
       "      <td>France</td>\n",
       "      <td>Female</td>\n",
       "      <td>42</td>\n",
       "      <td>8</td>\n",
       "      <td>159660.80</td>\n",
       "      <td>3</td>\n",
       "      <td>1</td>\n",
       "      <td>0</td>\n",
       "      <td>113931.57</td>\n",
       "      <td>1</td>\n",
       "    </tr>\n",
       "    <tr>\n",
       "      <th>3</th>\n",
       "      <td>4</td>\n",
       "      <td>15701354</td>\n",
       "      <td>Boni</td>\n",
       "      <td>699</td>\n",
       "      <td>France</td>\n",
       "      <td>Female</td>\n",
       "      <td>39</td>\n",
       "      <td>1</td>\n",
       "      <td>0.00</td>\n",
       "      <td>2</td>\n",
       "      <td>0</td>\n",
       "      <td>0</td>\n",
       "      <td>93826.63</td>\n",
       "      <td>0</td>\n",
       "    </tr>\n",
       "    <tr>\n",
       "      <th>4</th>\n",
       "      <td>5</td>\n",
       "      <td>15737888</td>\n",
       "      <td>Mitchell</td>\n",
       "      <td>850</td>\n",
       "      <td>Spain</td>\n",
       "      <td>Female</td>\n",
       "      <td>43</td>\n",
       "      <td>2</td>\n",
       "      <td>125510.82</td>\n",
       "      <td>1</td>\n",
       "      <td>1</td>\n",
       "      <td>1</td>\n",
       "      <td>79084.10</td>\n",
       "      <td>0</td>\n",
       "    </tr>\n",
       "  </tbody>\n",
       "</table>\n",
       "</div>"
      ],
      "text/plain": [
       "   RowNumber  CustomerId   Surname  CreditScore Geography  Gender  Age  \\\n",
       "0          1    15634602  Hargrave          619    France  Female   42   \n",
       "1          2    15647311      Hill          608     Spain  Female   41   \n",
       "2          3    15619304      Onio          502    France  Female   42   \n",
       "3          4    15701354      Boni          699    France  Female   39   \n",
       "4          5    15737888  Mitchell          850     Spain  Female   43   \n",
       "\n",
       "   Tenure    Balance  NumOfProducts  HasCrCard  IsActiveMember  \\\n",
       "0       2       0.00              1          1               1   \n",
       "1       1   83807.86              1          0               1   \n",
       "2       8  159660.80              3          1               0   \n",
       "3       1       0.00              2          0               0   \n",
       "4       2  125510.82              1          1               1   \n",
       "\n",
       "   EstimatedSalary  Exited  \n",
       "0        101348.88       1  \n",
       "1        112542.58       0  \n",
       "2        113931.57       1  \n",
       "3         93826.63       0  \n",
       "4         79084.10       0  "
      ]
     },
     "metadata": {},
     "output_type": "display_data"
    },
    {
     "data": {
      "text/html": [
       "<div>\n",
       "<style scoped>\n",
       "    .dataframe tbody tr th:only-of-type {\n",
       "        vertical-align: middle;\n",
       "    }\n",
       "\n",
       "    .dataframe tbody tr th {\n",
       "        vertical-align: top;\n",
       "    }\n",
       "\n",
       "    .dataframe thead th {\n",
       "        text-align: right;\n",
       "    }\n",
       "</style>\n",
       "<table border=\"1\" class=\"dataframe\">\n",
       "  <thead>\n",
       "    <tr style=\"text-align: right;\">\n",
       "      <th></th>\n",
       "      <th>RowNumber</th>\n",
       "      <th>CustomerId</th>\n",
       "      <th>Surname</th>\n",
       "      <th>CreditScore</th>\n",
       "      <th>Geography</th>\n",
       "      <th>Gender</th>\n",
       "      <th>Age</th>\n",
       "      <th>Tenure</th>\n",
       "      <th>Balance</th>\n",
       "      <th>NumOfProducts</th>\n",
       "      <th>HasCrCard</th>\n",
       "      <th>IsActiveMember</th>\n",
       "      <th>EstimatedSalary</th>\n",
       "      <th>Exited</th>\n",
       "    </tr>\n",
       "  </thead>\n",
       "  <tbody>\n",
       "    <tr>\n",
       "      <th>9995</th>\n",
       "      <td>9996</td>\n",
       "      <td>15606229</td>\n",
       "      <td>Obijiaku</td>\n",
       "      <td>771</td>\n",
       "      <td>France</td>\n",
       "      <td>Male</td>\n",
       "      <td>39</td>\n",
       "      <td>5</td>\n",
       "      <td>0.00</td>\n",
       "      <td>2</td>\n",
       "      <td>1</td>\n",
       "      <td>0</td>\n",
       "      <td>96270.64</td>\n",
       "      <td>0</td>\n",
       "    </tr>\n",
       "    <tr>\n",
       "      <th>9996</th>\n",
       "      <td>9997</td>\n",
       "      <td>15569892</td>\n",
       "      <td>Johnstone</td>\n",
       "      <td>516</td>\n",
       "      <td>France</td>\n",
       "      <td>Male</td>\n",
       "      <td>35</td>\n",
       "      <td>10</td>\n",
       "      <td>57369.61</td>\n",
       "      <td>1</td>\n",
       "      <td>1</td>\n",
       "      <td>1</td>\n",
       "      <td>101699.77</td>\n",
       "      <td>0</td>\n",
       "    </tr>\n",
       "    <tr>\n",
       "      <th>9997</th>\n",
       "      <td>9998</td>\n",
       "      <td>15584532</td>\n",
       "      <td>Liu</td>\n",
       "      <td>709</td>\n",
       "      <td>France</td>\n",
       "      <td>Female</td>\n",
       "      <td>36</td>\n",
       "      <td>7</td>\n",
       "      <td>0.00</td>\n",
       "      <td>1</td>\n",
       "      <td>0</td>\n",
       "      <td>1</td>\n",
       "      <td>42085.58</td>\n",
       "      <td>1</td>\n",
       "    </tr>\n",
       "    <tr>\n",
       "      <th>9998</th>\n",
       "      <td>9999</td>\n",
       "      <td>15682355</td>\n",
       "      <td>Sabbatini</td>\n",
       "      <td>772</td>\n",
       "      <td>Germany</td>\n",
       "      <td>Male</td>\n",
       "      <td>42</td>\n",
       "      <td>3</td>\n",
       "      <td>75075.31</td>\n",
       "      <td>2</td>\n",
       "      <td>1</td>\n",
       "      <td>0</td>\n",
       "      <td>92888.52</td>\n",
       "      <td>1</td>\n",
       "    </tr>\n",
       "    <tr>\n",
       "      <th>9999</th>\n",
       "      <td>10000</td>\n",
       "      <td>15628319</td>\n",
       "      <td>Walker</td>\n",
       "      <td>792</td>\n",
       "      <td>France</td>\n",
       "      <td>Female</td>\n",
       "      <td>28</td>\n",
       "      <td>4</td>\n",
       "      <td>130142.79</td>\n",
       "      <td>1</td>\n",
       "      <td>1</td>\n",
       "      <td>0</td>\n",
       "      <td>38190.78</td>\n",
       "      <td>0</td>\n",
       "    </tr>\n",
       "  </tbody>\n",
       "</table>\n",
       "</div>"
      ],
      "text/plain": [
       "      RowNumber  CustomerId    Surname  CreditScore Geography  Gender  Age  \\\n",
       "9995       9996    15606229   Obijiaku          771    France    Male   39   \n",
       "9996       9997    15569892  Johnstone          516    France    Male   35   \n",
       "9997       9998    15584532        Liu          709    France  Female   36   \n",
       "9998       9999    15682355  Sabbatini          772   Germany    Male   42   \n",
       "9999      10000    15628319     Walker          792    France  Female   28   \n",
       "\n",
       "      Tenure    Balance  NumOfProducts  HasCrCard  IsActiveMember  \\\n",
       "9995       5       0.00              2          1               0   \n",
       "9996      10   57369.61              1          1               1   \n",
       "9997       7       0.00              1          0               1   \n",
       "9998       3   75075.31              2          1               0   \n",
       "9999       4  130142.79              1          1               0   \n",
       "\n",
       "      EstimatedSalary  Exited  \n",
       "9995         96270.64       0  \n",
       "9996        101699.77       0  \n",
       "9997         42085.58       1  \n",
       "9998         92888.52       1  \n",
       "9999         38190.78       0  "
      ]
     },
     "metadata": {},
     "output_type": "display_data"
    }
   ],
   "source": [
    "#откроем и изучим файл с данными\n",
    "data = pd.read_csv('Churn_Modelling.csv')\n",
    "#посмотрим первые и последнии 5 строк \n",
    "display(data.head())\n",
    "display(data.tail())"
   ]
  },
  {
   "cell_type": "code",
   "execution_count": 88,
   "metadata": {},
   "outputs": [
    {
     "name": "stdout",
     "output_type": "stream",
     "text": [
      "<class 'pandas.core.frame.DataFrame'>\n",
      "RangeIndex: 10000 entries, 0 to 9999\n",
      "Data columns (total 14 columns):\n",
      " #   Column           Non-Null Count  Dtype  \n",
      "---  ------           --------------  -----  \n",
      " 0   RowNumber        10000 non-null  int64  \n",
      " 1   CustomerId       10000 non-null  int64  \n",
      " 2   Surname          10000 non-null  object \n",
      " 3   CreditScore      10000 non-null  int64  \n",
      " 4   Geography        10000 non-null  object \n",
      " 5   Gender           10000 non-null  object \n",
      " 6   Age              10000 non-null  int64  \n",
      " 7   Tenure           10000 non-null  int64  \n",
      " 8   Balance          10000 non-null  float64\n",
      " 9   NumOfProducts    10000 non-null  int64  \n",
      " 10  HasCrCard        10000 non-null  int64  \n",
      " 11  IsActiveMember   10000 non-null  int64  \n",
      " 12  EstimatedSalary  10000 non-null  float64\n",
      " 13  Exited           10000 non-null  int64  \n",
      "dtypes: float64(2), int64(9), object(3)\n",
      "memory usage: 1.1+ MB\n"
     ]
    }
   ],
   "source": [
    "data.info()"
   ]
  },
  {
   "cell_type": "markdown",
   "metadata": {},
   "source": [
    "### Целевой признак"
   ]
  },
  {
   "cell_type": "markdown",
   "metadata": {},
   "source": [
    "Целевым признаком будет уход клиента ('1' - ушел, '0' - остался)"
   ]
  },
  {
   "cell_type": "markdown",
   "metadata": {},
   "source": [
    "Наш датафрейм содержит 13 признаков(10-количественные, 3-качественные) и 10000 строк."
   ]
  },
  {
   "cell_type": "code",
   "execution_count": 89,
   "metadata": {},
   "outputs": [
    {
     "data": {
      "text/html": [
       "<div>\n",
       "<style scoped>\n",
       "    .dataframe tbody tr th:only-of-type {\n",
       "        vertical-align: middle;\n",
       "    }\n",
       "\n",
       "    .dataframe tbody tr th {\n",
       "        vertical-align: top;\n",
       "    }\n",
       "\n",
       "    .dataframe thead th {\n",
       "        text-align: right;\n",
       "    }\n",
       "</style>\n",
       "<table border=\"1\" class=\"dataframe\">\n",
       "  <thead>\n",
       "    <tr style=\"text-align: right;\">\n",
       "      <th></th>\n",
       "      <th>RowNumber</th>\n",
       "      <th>CustomerId</th>\n",
       "      <th>CreditScore</th>\n",
       "      <th>Age</th>\n",
       "      <th>Tenure</th>\n",
       "      <th>Balance</th>\n",
       "      <th>NumOfProducts</th>\n",
       "      <th>HasCrCard</th>\n",
       "      <th>IsActiveMember</th>\n",
       "      <th>EstimatedSalary</th>\n",
       "      <th>Exited</th>\n",
       "    </tr>\n",
       "  </thead>\n",
       "  <tbody>\n",
       "    <tr>\n",
       "      <th>count</th>\n",
       "      <td>10000.00000</td>\n",
       "      <td>1.000000e+04</td>\n",
       "      <td>10000.000000</td>\n",
       "      <td>10000.000000</td>\n",
       "      <td>10000.000000</td>\n",
       "      <td>10000.000000</td>\n",
       "      <td>10000.000000</td>\n",
       "      <td>10000.00000</td>\n",
       "      <td>10000.000000</td>\n",
       "      <td>10000.000000</td>\n",
       "      <td>10000.000000</td>\n",
       "    </tr>\n",
       "    <tr>\n",
       "      <th>mean</th>\n",
       "      <td>5000.50000</td>\n",
       "      <td>1.569094e+07</td>\n",
       "      <td>650.528800</td>\n",
       "      <td>38.921800</td>\n",
       "      <td>5.012800</td>\n",
       "      <td>76485.889288</td>\n",
       "      <td>1.530200</td>\n",
       "      <td>0.70550</td>\n",
       "      <td>0.515100</td>\n",
       "      <td>100090.239881</td>\n",
       "      <td>0.203700</td>\n",
       "    </tr>\n",
       "    <tr>\n",
       "      <th>std</th>\n",
       "      <td>2886.89568</td>\n",
       "      <td>7.193619e+04</td>\n",
       "      <td>96.653299</td>\n",
       "      <td>10.487806</td>\n",
       "      <td>2.892174</td>\n",
       "      <td>62397.405202</td>\n",
       "      <td>0.581654</td>\n",
       "      <td>0.45584</td>\n",
       "      <td>0.499797</td>\n",
       "      <td>57510.492818</td>\n",
       "      <td>0.402769</td>\n",
       "    </tr>\n",
       "    <tr>\n",
       "      <th>min</th>\n",
       "      <td>1.00000</td>\n",
       "      <td>1.556570e+07</td>\n",
       "      <td>350.000000</td>\n",
       "      <td>18.000000</td>\n",
       "      <td>0.000000</td>\n",
       "      <td>0.000000</td>\n",
       "      <td>1.000000</td>\n",
       "      <td>0.00000</td>\n",
       "      <td>0.000000</td>\n",
       "      <td>11.580000</td>\n",
       "      <td>0.000000</td>\n",
       "    </tr>\n",
       "    <tr>\n",
       "      <th>25%</th>\n",
       "      <td>2500.75000</td>\n",
       "      <td>1.562853e+07</td>\n",
       "      <td>584.000000</td>\n",
       "      <td>32.000000</td>\n",
       "      <td>3.000000</td>\n",
       "      <td>0.000000</td>\n",
       "      <td>1.000000</td>\n",
       "      <td>0.00000</td>\n",
       "      <td>0.000000</td>\n",
       "      <td>51002.110000</td>\n",
       "      <td>0.000000</td>\n",
       "    </tr>\n",
       "    <tr>\n",
       "      <th>50%</th>\n",
       "      <td>5000.50000</td>\n",
       "      <td>1.569074e+07</td>\n",
       "      <td>652.000000</td>\n",
       "      <td>37.000000</td>\n",
       "      <td>5.000000</td>\n",
       "      <td>97198.540000</td>\n",
       "      <td>1.000000</td>\n",
       "      <td>1.00000</td>\n",
       "      <td>1.000000</td>\n",
       "      <td>100193.915000</td>\n",
       "      <td>0.000000</td>\n",
       "    </tr>\n",
       "    <tr>\n",
       "      <th>75%</th>\n",
       "      <td>7500.25000</td>\n",
       "      <td>1.575323e+07</td>\n",
       "      <td>718.000000</td>\n",
       "      <td>44.000000</td>\n",
       "      <td>7.000000</td>\n",
       "      <td>127644.240000</td>\n",
       "      <td>2.000000</td>\n",
       "      <td>1.00000</td>\n",
       "      <td>1.000000</td>\n",
       "      <td>149388.247500</td>\n",
       "      <td>0.000000</td>\n",
       "    </tr>\n",
       "    <tr>\n",
       "      <th>max</th>\n",
       "      <td>10000.00000</td>\n",
       "      <td>1.581569e+07</td>\n",
       "      <td>850.000000</td>\n",
       "      <td>92.000000</td>\n",
       "      <td>10.000000</td>\n",
       "      <td>250898.090000</td>\n",
       "      <td>4.000000</td>\n",
       "      <td>1.00000</td>\n",
       "      <td>1.000000</td>\n",
       "      <td>199992.480000</td>\n",
       "      <td>1.000000</td>\n",
       "    </tr>\n",
       "  </tbody>\n",
       "</table>\n",
       "</div>"
      ],
      "text/plain": [
       "         RowNumber    CustomerId   CreditScore           Age        Tenure  \\\n",
       "count  10000.00000  1.000000e+04  10000.000000  10000.000000  10000.000000   \n",
       "mean    5000.50000  1.569094e+07    650.528800     38.921800      5.012800   \n",
       "std     2886.89568  7.193619e+04     96.653299     10.487806      2.892174   \n",
       "min        1.00000  1.556570e+07    350.000000     18.000000      0.000000   \n",
       "25%     2500.75000  1.562853e+07    584.000000     32.000000      3.000000   \n",
       "50%     5000.50000  1.569074e+07    652.000000     37.000000      5.000000   \n",
       "75%     7500.25000  1.575323e+07    718.000000     44.000000      7.000000   \n",
       "max    10000.00000  1.581569e+07    850.000000     92.000000     10.000000   \n",
       "\n",
       "             Balance  NumOfProducts    HasCrCard  IsActiveMember  \\\n",
       "count   10000.000000   10000.000000  10000.00000    10000.000000   \n",
       "mean    76485.889288       1.530200      0.70550        0.515100   \n",
       "std     62397.405202       0.581654      0.45584        0.499797   \n",
       "min         0.000000       1.000000      0.00000        0.000000   \n",
       "25%         0.000000       1.000000      0.00000        0.000000   \n",
       "50%     97198.540000       1.000000      1.00000        1.000000   \n",
       "75%    127644.240000       2.000000      1.00000        1.000000   \n",
       "max    250898.090000       4.000000      1.00000        1.000000   \n",
       "\n",
       "       EstimatedSalary        Exited  \n",
       "count     10000.000000  10000.000000  \n",
       "mean     100090.239881      0.203700  \n",
       "std       57510.492818      0.402769  \n",
       "min          11.580000      0.000000  \n",
       "25%       51002.110000      0.000000  \n",
       "50%      100193.915000      0.000000  \n",
       "75%      149388.247500      0.000000  \n",
       "max      199992.480000      1.000000  "
      ]
     },
     "execution_count": 89,
     "metadata": {},
     "output_type": "execute_result"
    }
   ],
   "source": [
    "#выведем болле подробную информацию о наших признаков\n",
    "data.describe()"
   ]
  },
  {
   "cell_type": "markdown",
   "metadata": {},
   "source": [
    "Можем заменить , что признаки CreditScore, Age, Balance и EstimatedSalary имеют большой разброс.Нужно будет сделать масштабирование признаков."
   ]
  },
  {
   "cell_type": "markdown",
   "metadata": {},
   "source": [
    "Проверим ,есть ли у нас пропущенные значения"
   ]
  },
  {
   "cell_type": "code",
   "execution_count": 90,
   "metadata": {},
   "outputs": [
    {
     "data": {
      "text/plain": [
       "RowNumber          0\n",
       "CustomerId         0\n",
       "Surname            0\n",
       "CreditScore        0\n",
       "Geography          0\n",
       "Gender             0\n",
       "Age                0\n",
       "Tenure             0\n",
       "Balance            0\n",
       "NumOfProducts      0\n",
       "HasCrCard          0\n",
       "IsActiveMember     0\n",
       "EstimatedSalary    0\n",
       "Exited             0\n",
       "dtype: int64"
      ]
     },
     "execution_count": 90,
     "metadata": {},
     "output_type": "execute_result"
    }
   ],
   "source": [
    "data.isnull().sum()"
   ]
  },
  {
   "cell_type": "markdown",
   "metadata": {},
   "source": [
    "Удалим слолбцы Surname, CustomerId, RowNumber, так как при преобразование признаков будутбольшие и ненужные данные."
   ]
  },
  {
   "cell_type": "code",
   "execution_count": 91,
   "metadata": {},
   "outputs": [],
   "source": [
    "data = data.drop(['Surname','CustomerId', 'RowNumber'], axis=1)"
   ]
  },
  {
   "cell_type": "markdown",
   "metadata": {},
   "source": [
    "Данные готовы для дальнешей работы с ним."
   ]
  },
  {
   "cell_type": "markdown",
   "metadata": {},
   "source": [
    "### Преобразование признаков."
   ]
  },
  {
   "cell_type": "markdown",
   "metadata": {},
   "source": [
    "Для того чтобы преобразовать категориальные признаки в количественные воспользуемся функцией из библиотеки sklearm get_dummies с параметров drop_first, это поможет нам избежать Дамми-ловушку , так не позволит создать больше признаков."
   ]
  },
  {
   "cell_type": "code",
   "execution_count": 92,
   "metadata": {},
   "outputs": [
    {
     "data": {
      "text/html": [
       "<div>\n",
       "<style scoped>\n",
       "    .dataframe tbody tr th:only-of-type {\n",
       "        vertical-align: middle;\n",
       "    }\n",
       "\n",
       "    .dataframe tbody tr th {\n",
       "        vertical-align: top;\n",
       "    }\n",
       "\n",
       "    .dataframe thead th {\n",
       "        text-align: right;\n",
       "    }\n",
       "</style>\n",
       "<table border=\"1\" class=\"dataframe\">\n",
       "  <thead>\n",
       "    <tr style=\"text-align: right;\">\n",
       "      <th></th>\n",
       "      <th>CreditScore</th>\n",
       "      <th>Age</th>\n",
       "      <th>Tenure</th>\n",
       "      <th>Balance</th>\n",
       "      <th>NumOfProducts</th>\n",
       "      <th>HasCrCard</th>\n",
       "      <th>IsActiveMember</th>\n",
       "      <th>EstimatedSalary</th>\n",
       "      <th>Exited</th>\n",
       "      <th>Geography_Germany</th>\n",
       "      <th>Geography_Spain</th>\n",
       "      <th>Gender_Male</th>\n",
       "    </tr>\n",
       "  </thead>\n",
       "  <tbody>\n",
       "    <tr>\n",
       "      <th>0</th>\n",
       "      <td>619</td>\n",
       "      <td>42</td>\n",
       "      <td>2</td>\n",
       "      <td>0.00</td>\n",
       "      <td>1</td>\n",
       "      <td>1</td>\n",
       "      <td>1</td>\n",
       "      <td>101348.88</td>\n",
       "      <td>1</td>\n",
       "      <td>0</td>\n",
       "      <td>0</td>\n",
       "      <td>0</td>\n",
       "    </tr>\n",
       "    <tr>\n",
       "      <th>1</th>\n",
       "      <td>608</td>\n",
       "      <td>41</td>\n",
       "      <td>1</td>\n",
       "      <td>83807.86</td>\n",
       "      <td>1</td>\n",
       "      <td>0</td>\n",
       "      <td>1</td>\n",
       "      <td>112542.58</td>\n",
       "      <td>0</td>\n",
       "      <td>0</td>\n",
       "      <td>1</td>\n",
       "      <td>0</td>\n",
       "    </tr>\n",
       "    <tr>\n",
       "      <th>2</th>\n",
       "      <td>502</td>\n",
       "      <td>42</td>\n",
       "      <td>8</td>\n",
       "      <td>159660.80</td>\n",
       "      <td>3</td>\n",
       "      <td>1</td>\n",
       "      <td>0</td>\n",
       "      <td>113931.57</td>\n",
       "      <td>1</td>\n",
       "      <td>0</td>\n",
       "      <td>0</td>\n",
       "      <td>0</td>\n",
       "    </tr>\n",
       "    <tr>\n",
       "      <th>3</th>\n",
       "      <td>699</td>\n",
       "      <td>39</td>\n",
       "      <td>1</td>\n",
       "      <td>0.00</td>\n",
       "      <td>2</td>\n",
       "      <td>0</td>\n",
       "      <td>0</td>\n",
       "      <td>93826.63</td>\n",
       "      <td>0</td>\n",
       "      <td>0</td>\n",
       "      <td>0</td>\n",
       "      <td>0</td>\n",
       "    </tr>\n",
       "    <tr>\n",
       "      <th>4</th>\n",
       "      <td>850</td>\n",
       "      <td>43</td>\n",
       "      <td>2</td>\n",
       "      <td>125510.82</td>\n",
       "      <td>1</td>\n",
       "      <td>1</td>\n",
       "      <td>1</td>\n",
       "      <td>79084.10</td>\n",
       "      <td>0</td>\n",
       "      <td>0</td>\n",
       "      <td>1</td>\n",
       "      <td>0</td>\n",
       "    </tr>\n",
       "  </tbody>\n",
       "</table>\n",
       "</div>"
      ],
      "text/plain": [
       "   CreditScore  Age  Tenure    Balance  NumOfProducts  HasCrCard  \\\n",
       "0          619   42       2       0.00              1          1   \n",
       "1          608   41       1   83807.86              1          0   \n",
       "2          502   42       8  159660.80              3          1   \n",
       "3          699   39       1       0.00              2          0   \n",
       "4          850   43       2  125510.82              1          1   \n",
       "\n",
       "   IsActiveMember  EstimatedSalary  Exited  Geography_Germany  \\\n",
       "0               1        101348.88       1                  0   \n",
       "1               1        112542.58       0                  0   \n",
       "2               0        113931.57       1                  0   \n",
       "3               0         93826.63       0                  0   \n",
       "4               1         79084.10       0                  0   \n",
       "\n",
       "   Geography_Spain  Gender_Male  \n",
       "0                0            0  \n",
       "1                1            0  \n",
       "2                0            0  \n",
       "3                0            0  \n",
       "4                1            0  "
      ]
     },
     "metadata": {},
     "output_type": "display_data"
    }
   ],
   "source": [
    "df_ohe = pd.get_dummies(data, drop_first=True)\n",
    "display(df_ohe.head())"
   ]
  },
  {
   "cell_type": "markdown",
   "metadata": {},
   "source": [
    "Проверим наш результат."
   ]
  },
  {
   "cell_type": "code",
   "execution_count": 93,
   "metadata": {
    "scrolled": true
   },
   "outputs": [
    {
     "data": {
      "text/plain": [
       "CreditScore            int64\n",
       "Age                    int64\n",
       "Tenure                 int64\n",
       "Balance              float64\n",
       "NumOfProducts          int64\n",
       "HasCrCard              int64\n",
       "IsActiveMember         int64\n",
       "EstimatedSalary      float64\n",
       "Exited                 int64\n",
       "Geography_Germany      uint8\n",
       "Geography_Spain        uint8\n",
       "Gender_Male            uint8\n",
       "dtype: object"
      ]
     },
     "execution_count": 93,
     "metadata": {},
     "output_type": "execute_result"
    }
   ],
   "source": [
    "df_ohe.dtypes"
   ]
  },
  {
   "cell_type": "markdown",
   "metadata": {},
   "source": [
    "Все супер."
   ]
  },
  {
   "cell_type": "markdown",
   "metadata": {},
   "source": [
    "### Разбиение данных на выборки"
   ]
  },
  {
   "cell_type": "markdown",
   "metadata": {},
   "source": [
    "Разделим данные на 3 выборки "
   ]
  },
  {
   "cell_type": "code",
   "execution_count": 94,
   "metadata": {},
   "outputs": [],
   "source": [
    "features = df_ohe.drop('Exited', axis = 1)\n",
    "target = df_ohe['Exited']"
   ]
  },
  {
   "cell_type": "code",
   "execution_count": 95,
   "metadata": {},
   "outputs": [],
   "source": [
    "features_train, features_valid, target_train, target_valid = train_test_split(features, \n",
    "                                                                              target,  \n",
    "                                                                              test_size=0.40, \n",
    "                                                                              random_state=12345\n",
    "                                                                              )\n",
    "features_valid, features_test, target_valid, target_test = train_test_split(features_valid, \n",
    "                                                                            target_valid, \n",
    "                                                                            test_size=0.50, \n",
    "                                                                            random_state=12345\n",
    "                                                                            )"
   ]
  },
  {
   "cell_type": "markdown",
   "metadata": {},
   "source": [
    "Проверим наш результат"
   ]
  },
  {
   "cell_type": "code",
   "execution_count": 96,
   "metadata": {},
   "outputs": [
    {
     "name": "stdout",
     "output_type": "stream",
     "text": [
      "Размер тестовой выборки: (6000, 11)\n",
      "Размер валидационной выборки: (2000, 11)\n",
      "Размер тестовой выборки: (2000, 11)\n"
     ]
    }
   ],
   "source": [
    "print('Размер тестовой выборки:', features_train.shape)\n",
    "print('Размер валидационной выборки:', features_valid.shape)\n",
    "print('Размер тестовой выборки:', features_test.shape)"
   ]
  },
  {
   "cell_type": "markdown",
   "metadata": {},
   "source": [
    "### Масшабирование признаков"
   ]
  },
  {
   "cell_type": "code",
   "execution_count": 97,
   "metadata": {
    "scrolled": true
   },
   "outputs": [
    {
     "data": {
      "text/html": [
       "<div>\n",
       "<style scoped>\n",
       "    .dataframe tbody tr th:only-of-type {\n",
       "        vertical-align: middle;\n",
       "    }\n",
       "\n",
       "    .dataframe tbody tr th {\n",
       "        vertical-align: top;\n",
       "    }\n",
       "\n",
       "    .dataframe thead th {\n",
       "        text-align: right;\n",
       "    }\n",
       "</style>\n",
       "<table border=\"1\" class=\"dataframe\">\n",
       "  <thead>\n",
       "    <tr style=\"text-align: right;\">\n",
       "      <th></th>\n",
       "      <th>CreditScore</th>\n",
       "      <th>Age</th>\n",
       "      <th>Tenure</th>\n",
       "      <th>Balance</th>\n",
       "      <th>NumOfProducts</th>\n",
       "      <th>HasCrCard</th>\n",
       "      <th>IsActiveMember</th>\n",
       "      <th>EstimatedSalary</th>\n",
       "      <th>Exited</th>\n",
       "      <th>Geography_Germany</th>\n",
       "      <th>Geography_Spain</th>\n",
       "      <th>Gender_Male</th>\n",
       "    </tr>\n",
       "  </thead>\n",
       "  <tbody>\n",
       "    <tr>\n",
       "      <th>0</th>\n",
       "      <td>619</td>\n",
       "      <td>42</td>\n",
       "      <td>2</td>\n",
       "      <td>0.00</td>\n",
       "      <td>1</td>\n",
       "      <td>1</td>\n",
       "      <td>1</td>\n",
       "      <td>101348.88</td>\n",
       "      <td>1</td>\n",
       "      <td>0</td>\n",
       "      <td>0</td>\n",
       "      <td>0</td>\n",
       "    </tr>\n",
       "    <tr>\n",
       "      <th>1</th>\n",
       "      <td>608</td>\n",
       "      <td>41</td>\n",
       "      <td>1</td>\n",
       "      <td>83807.86</td>\n",
       "      <td>1</td>\n",
       "      <td>0</td>\n",
       "      <td>1</td>\n",
       "      <td>112542.58</td>\n",
       "      <td>0</td>\n",
       "      <td>0</td>\n",
       "      <td>1</td>\n",
       "      <td>0</td>\n",
       "    </tr>\n",
       "    <tr>\n",
       "      <th>2</th>\n",
       "      <td>502</td>\n",
       "      <td>42</td>\n",
       "      <td>8</td>\n",
       "      <td>159660.80</td>\n",
       "      <td>3</td>\n",
       "      <td>1</td>\n",
       "      <td>0</td>\n",
       "      <td>113931.57</td>\n",
       "      <td>1</td>\n",
       "      <td>0</td>\n",
       "      <td>0</td>\n",
       "      <td>0</td>\n",
       "    </tr>\n",
       "    <tr>\n",
       "      <th>3</th>\n",
       "      <td>699</td>\n",
       "      <td>39</td>\n",
       "      <td>1</td>\n",
       "      <td>0.00</td>\n",
       "      <td>2</td>\n",
       "      <td>0</td>\n",
       "      <td>0</td>\n",
       "      <td>93826.63</td>\n",
       "      <td>0</td>\n",
       "      <td>0</td>\n",
       "      <td>0</td>\n",
       "      <td>0</td>\n",
       "    </tr>\n",
       "    <tr>\n",
       "      <th>4</th>\n",
       "      <td>850</td>\n",
       "      <td>43</td>\n",
       "      <td>2</td>\n",
       "      <td>125510.82</td>\n",
       "      <td>1</td>\n",
       "      <td>1</td>\n",
       "      <td>1</td>\n",
       "      <td>79084.10</td>\n",
       "      <td>0</td>\n",
       "      <td>0</td>\n",
       "      <td>1</td>\n",
       "      <td>0</td>\n",
       "    </tr>\n",
       "  </tbody>\n",
       "</table>\n",
       "</div>"
      ],
      "text/plain": [
       "   CreditScore  Age  Tenure    Balance  NumOfProducts  HasCrCard  \\\n",
       "0          619   42       2       0.00              1          1   \n",
       "1          608   41       1   83807.86              1          0   \n",
       "2          502   42       8  159660.80              3          1   \n",
       "3          699   39       1       0.00              2          0   \n",
       "4          850   43       2  125510.82              1          1   \n",
       "\n",
       "   IsActiveMember  EstimatedSalary  Exited  Geography_Germany  \\\n",
       "0               1        101348.88       1                  0   \n",
       "1               1        112542.58       0                  0   \n",
       "2               0        113931.57       1                  0   \n",
       "3               0         93826.63       0                  0   \n",
       "4               1         79084.10       0                  0   \n",
       "\n",
       "   Geography_Spain  Gender_Male  \n",
       "0                0            0  \n",
       "1                1            0  \n",
       "2                0            0  \n",
       "3                0            0  \n",
       "4                1            0  "
      ]
     },
     "metadata": {},
     "output_type": "display_data"
    }
   ],
   "source": [
    "display(df_ohe.head())"
   ]
  },
  {
   "cell_type": "markdown",
   "metadata": {},
   "source": [
    "Приведем признаки к одному масштабу при помощи StandardScaler"
   ]
  },
  {
   "cell_type": "code",
   "execution_count": 98,
   "metadata": {},
   "outputs": [],
   "source": [
    "numeric = ['CreditScore', 'Age', 'Tenure', 'Balance', 'NumOfProducts', 'EstimatedSalary']"
   ]
  },
  {
   "cell_type": "code",
   "execution_count": 99,
   "metadata": {},
   "outputs": [
    {
     "data": {
      "text/plain": [
       "StandardScaler()"
      ]
     },
     "execution_count": 99,
     "metadata": {},
     "output_type": "execute_result"
    }
   ],
   "source": [
    "scaler = StandardScaler()\n",
    "scaler.fit(features_train[numeric])"
   ]
  },
  {
   "cell_type": "markdown",
   "metadata": {},
   "source": [
    "Преобразуем обучающую , валидационную и тестовую выборку функцией transform"
   ]
  },
  {
   "cell_type": "code",
   "execution_count": 100,
   "metadata": {},
   "outputs": [],
   "source": [
    "features_train[numeric] = scaler.transform(features_train[numeric])\n",
    "features_valid[numeric] = scaler.transform(features_valid[numeric])\n",
    "features_test[numeric] = scaler.transform(features_test[numeric])"
   ]
  },
  {
   "cell_type": "markdown",
   "metadata": {},
   "source": [
    "Проверим"
   ]
  },
  {
   "cell_type": "code",
   "execution_count": 101,
   "metadata": {},
   "outputs": [
    {
     "data": {
      "text/html": [
       "<div>\n",
       "<style scoped>\n",
       "    .dataframe tbody tr th:only-of-type {\n",
       "        vertical-align: middle;\n",
       "    }\n",
       "\n",
       "    .dataframe tbody tr th {\n",
       "        vertical-align: top;\n",
       "    }\n",
       "\n",
       "    .dataframe thead th {\n",
       "        text-align: right;\n",
       "    }\n",
       "</style>\n",
       "<table border=\"1\" class=\"dataframe\">\n",
       "  <thead>\n",
       "    <tr style=\"text-align: right;\">\n",
       "      <th></th>\n",
       "      <th>CreditScore</th>\n",
       "      <th>Age</th>\n",
       "      <th>Tenure</th>\n",
       "      <th>Balance</th>\n",
       "      <th>NumOfProducts</th>\n",
       "      <th>HasCrCard</th>\n",
       "      <th>IsActiveMember</th>\n",
       "      <th>EstimatedSalary</th>\n",
       "      <th>Geography_Germany</th>\n",
       "      <th>Geography_Spain</th>\n",
       "      <th>Gender_Male</th>\n",
       "    </tr>\n",
       "  </thead>\n",
       "  <tbody>\n",
       "    <tr>\n",
       "      <th>7479</th>\n",
       "      <td>-0.886751</td>\n",
       "      <td>-0.373192</td>\n",
       "      <td>1.027273</td>\n",
       "      <td>1.232271</td>\n",
       "      <td>-0.891560</td>\n",
       "      <td>1</td>\n",
       "      <td>0</td>\n",
       "      <td>-0.187705</td>\n",
       "      <td>0</td>\n",
       "      <td>1</td>\n",
       "      <td>1</td>\n",
       "    </tr>\n",
       "    <tr>\n",
       "      <th>3411</th>\n",
       "      <td>0.608663</td>\n",
       "      <td>-0.183385</td>\n",
       "      <td>1.027273</td>\n",
       "      <td>0.600563</td>\n",
       "      <td>-0.891560</td>\n",
       "      <td>0</td>\n",
       "      <td>0</td>\n",
       "      <td>-0.333945</td>\n",
       "      <td>0</td>\n",
       "      <td>0</td>\n",
       "      <td>0</td>\n",
       "    </tr>\n",
       "    <tr>\n",
       "      <th>6027</th>\n",
       "      <td>2.052152</td>\n",
       "      <td>0.480939</td>\n",
       "      <td>-0.707790</td>\n",
       "      <td>1.027098</td>\n",
       "      <td>0.830152</td>\n",
       "      <td>0</td>\n",
       "      <td>1</td>\n",
       "      <td>1.503095</td>\n",
       "      <td>1</td>\n",
       "      <td>0</td>\n",
       "      <td>1</td>\n",
       "    </tr>\n",
       "    <tr>\n",
       "      <th>1247</th>\n",
       "      <td>-1.457915</td>\n",
       "      <td>-1.417129</td>\n",
       "      <td>0.333248</td>\n",
       "      <td>-1.233163</td>\n",
       "      <td>0.830152</td>\n",
       "      <td>1</td>\n",
       "      <td>0</td>\n",
       "      <td>-1.071061</td>\n",
       "      <td>0</td>\n",
       "      <td>0</td>\n",
       "      <td>1</td>\n",
       "    </tr>\n",
       "    <tr>\n",
       "      <th>3716</th>\n",
       "      <td>0.130961</td>\n",
       "      <td>-1.132419</td>\n",
       "      <td>-1.054802</td>\n",
       "      <td>1.140475</td>\n",
       "      <td>-0.891560</td>\n",
       "      <td>0</td>\n",
       "      <td>0</td>\n",
       "      <td>1.524268</td>\n",
       "      <td>1</td>\n",
       "      <td>0</td>\n",
       "      <td>0</td>\n",
       "    </tr>\n",
       "  </tbody>\n",
       "</table>\n",
       "</div>"
      ],
      "text/plain": [
       "      CreditScore       Age    Tenure   Balance  NumOfProducts  HasCrCard  \\\n",
       "7479    -0.886751 -0.373192  1.027273  1.232271      -0.891560          1   \n",
       "3411     0.608663 -0.183385  1.027273  0.600563      -0.891560          0   \n",
       "6027     2.052152  0.480939 -0.707790  1.027098       0.830152          0   \n",
       "1247    -1.457915 -1.417129  0.333248 -1.233163       0.830152          1   \n",
       "3716     0.130961 -1.132419 -1.054802  1.140475      -0.891560          0   \n",
       "\n",
       "      IsActiveMember  EstimatedSalary  Geography_Germany  Geography_Spain  \\\n",
       "7479               0        -0.187705                  0                1   \n",
       "3411               0        -0.333945                  0                0   \n",
       "6027               1         1.503095                  1                0   \n",
       "1247               0        -1.071061                  0                0   \n",
       "3716               0         1.524268                  1                0   \n",
       "\n",
       "      Gender_Male  \n",
       "7479            1  \n",
       "3411            0  \n",
       "6027            1  \n",
       "1247            1  \n",
       "3716            0  "
      ]
     },
     "execution_count": 101,
     "metadata": {},
     "output_type": "execute_result"
    }
   ],
   "source": [
    "features_train.head()"
   ]
  },
  {
   "cell_type": "markdown",
   "metadata": {},
   "source": [
    "### Промежуточный вывод"
   ]
  },
  {
   "cell_type": "markdown",
   "metadata": {},
   "source": [
    "В подготовке данных мы сделали:\n",
    "1) Исследовали данные  \n",
    "2) Преобразовали признаки  \n",
    "3) Разбили данные на три выборки(тестовую , валидационную, обучающую)  \n",
    "4) Масштабирование признаков  "
   ]
  },
  {
   "cell_type": "markdown",
   "metadata": {},
   "source": [
    "## Исследование задачи"
   ]
  },
  {
   "cell_type": "markdown",
   "metadata": {},
   "source": [
    "Исследуем баланс классов"
   ]
  },
  {
   "cell_type": "code",
   "execution_count": 102,
   "metadata": {},
   "outputs": [
    {
     "data": {
      "text/html": [
       "<div>\n",
       "<style scoped>\n",
       "    .dataframe tbody tr th:only-of-type {\n",
       "        vertical-align: middle;\n",
       "    }\n",
       "\n",
       "    .dataframe tbody tr th {\n",
       "        vertical-align: top;\n",
       "    }\n",
       "\n",
       "    .dataframe thead th {\n",
       "        text-align: right;\n",
       "    }\n",
       "</style>\n",
       "<table border=\"1\" class=\"dataframe\">\n",
       "  <thead>\n",
       "    <tr style=\"text-align: right;\">\n",
       "      <th></th>\n",
       "      <th>Boolean</th>\n",
       "      <th>Count</th>\n",
       "      <th>Proc</th>\n",
       "    </tr>\n",
       "  </thead>\n",
       "  <tbody>\n",
       "    <tr>\n",
       "      <th>0</th>\n",
       "      <td>0</td>\n",
       "      <td>7963</td>\n",
       "      <td>0.7963</td>\n",
       "    </tr>\n",
       "    <tr>\n",
       "      <th>1</th>\n",
       "      <td>1</td>\n",
       "      <td>2037</td>\n",
       "      <td>0.2037</td>\n",
       "    </tr>\n",
       "  </tbody>\n",
       "</table>\n",
       "</div>"
      ],
      "text/plain": [
       "   Boolean  Count    Proc\n",
       "0        0   7963  0.7963\n",
       "1        1   2037  0.2037"
      ]
     },
     "execution_count": 102,
     "metadata": {},
     "output_type": "execute_result"
    }
   ],
   "source": [
    "values = df_ohe['Exited'].value_counts()\n",
    "values = values.to_frame().reset_index()\n",
    "values.columns = ['Boolean', 'Count']\n",
    "values['Proc'] = df_ohe['Exited'].value_counts(normalize=True)\n",
    "pd.DataFrame(values)\n"
   ]
  },
  {
   "cell_type": "markdown",
   "metadata": {},
   "source": [
    "Видим , что классы не сбалансированы  \n",
    "Обучим разные модели без учета дисбаланса"
   ]
  },
  {
   "cell_type": "code",
   "execution_count": 103,
   "metadata": {},
   "outputs": [
    {
     "data": {
      "text/html": [
       "<div>\n",
       "<style scoped>\n",
       "    .dataframe tbody tr th:only-of-type {\n",
       "        vertical-align: middle;\n",
       "    }\n",
       "\n",
       "    .dataframe tbody tr th {\n",
       "        vertical-align: top;\n",
       "    }\n",
       "\n",
       "    .dataframe thead th {\n",
       "        text-align: right;\n",
       "    }\n",
       "</style>\n",
       "<table border=\"1\" class=\"dataframe\">\n",
       "  <thead>\n",
       "    <tr style=\"text-align: right;\">\n",
       "      <th></th>\n",
       "      <th>Model</th>\n",
       "      <th>Accuracy</th>\n",
       "      <th>F1</th>\n",
       "      <th>ROC</th>\n",
       "    </tr>\n",
       "  </thead>\n",
       "  <tbody>\n",
       "    <tr>\n",
       "      <th>0</th>\n",
       "      <td>LogisticRegression</td>\n",
       "      <td>0.803</td>\n",
       "      <td>0.334459</td>\n",
       "      <td>0.758475</td>\n",
       "    </tr>\n",
       "    <tr>\n",
       "      <th>1</th>\n",
       "      <td>DecisionTreeClassifier</td>\n",
       "      <td>0.787</td>\n",
       "      <td>0.491647</td>\n",
       "      <td>0.678776</td>\n",
       "    </tr>\n",
       "    <tr>\n",
       "      <th>2</th>\n",
       "      <td>RandomForestClassifier</td>\n",
       "      <td>0.862</td>\n",
       "      <td>0.584337</td>\n",
       "      <td>0.840208</td>\n",
       "    </tr>\n",
       "  </tbody>\n",
       "</table>\n",
       "</div>"
      ],
      "text/plain": [
       "                    Model  Accuracy        F1       ROC\n",
       "0      LogisticRegression     0.803  0.334459  0.758475\n",
       "1  DecisionTreeClassifier     0.787  0.491647  0.678776\n",
       "2  RandomForestClassifier     0.862  0.584337  0.840208"
      ]
     },
     "execution_count": 103,
     "metadata": {},
     "output_type": "execute_result"
    }
   ],
   "source": [
    "models = [LogisticRegression(random_state=12345), \n",
    "          DecisionTreeClassifier(random_state=12345), \n",
    "          RandomForestClassifier(random_state=12345)]\n",
    "\n",
    "results_imbalanced = []\n",
    "\n",
    "for model in models:\n",
    "    model.fit(features_train, target_train)\n",
    "    predictions_valid = model.predict(features_valid)\n",
    "    probabilities_valid = model.predict_proba(features_valid)\n",
    "    accuracy = accuracy_score(target_valid, predictions_valid)\n",
    "    f1 = f1_score(target_valid, predictions_valid)\n",
    "    roc_auc = roc_auc_score(target_valid, probabilities_valid[:,1])\n",
    "    results_imbalanced.append({'Model': model.__class__.__name__, \n",
    "                               'Accuracy': accuracy, \n",
    "                               'F1': f1, \n",
    "                               'ROC': roc_auc})\n",
    "pd.DataFrame(results_imbalanced)"
   ]
  },
  {
   "cell_type": "markdown",
   "metadata": {},
   "source": [
    "Наилучший результат показала модель Случайного леса."
   ]
  },
  {
   "cell_type": "markdown",
   "metadata": {},
   "source": [
    "### Подберем гипперпараметр для Дерева решений"
   ]
  },
  {
   "cell_type": "code",
   "execution_count": 104,
   "metadata": {
    "scrolled": true
   },
   "outputs": [
    {
     "name": "stdout",
     "output_type": "stream",
     "text": [
      "CPU times: user 201 ms, sys: 0 ns, total: 201 ms\n",
      "Wall time: 202 ms\n"
     ]
    },
    {
     "data": {
      "text/html": [
       "<style  type=\"text/css\" >\n",
       "#T_06cd3_row4_col4,#T_06cd3_row5_col2,#T_06cd3_row8_col3{\n",
       "            background-color:  red;\n",
       "        }</style><table id=\"T_06cd3_\" ><thead>    <tr>        <th class=\"blank level0\" ></th>        <th class=\"col_heading level0 col0\" >Model</th>        <th class=\"col_heading level0 col1\" >Hyperparameters</th>        <th class=\"col_heading level0 col2\" >Accuracy</th>        <th class=\"col_heading level0 col3\" >F1</th>        <th class=\"col_heading level0 col4\" >ROC AUC</th>    </tr></thead><tbody>\n",
       "                <tr>\n",
       "                        <th id=\"T_06cd3_level0_row0\" class=\"row_heading level0 row0\" >0</th>\n",
       "                        <td id=\"T_06cd3_row0_col0\" class=\"data row0 col0\" >DecisionTreeClassifier</td>\n",
       "                        <td id=\"T_06cd3_row0_col1\" class=\"data row0 col1\" >{'random_state': 12345, 'max_depth': 1}</td>\n",
       "                        <td id=\"T_06cd3_row0_col2\" class=\"data row0 col2\" >0.791000</td>\n",
       "                        <td id=\"T_06cd3_row0_col3\" class=\"data row0 col3\" >0.000000</td>\n",
       "                        <td id=\"T_06cd3_row0_col4\" class=\"data row0 col4\" >0.692557</td>\n",
       "            </tr>\n",
       "            <tr>\n",
       "                        <th id=\"T_06cd3_level0_row1\" class=\"row_heading level0 row1\" >1</th>\n",
       "                        <td id=\"T_06cd3_row1_col0\" class=\"data row1 col0\" >DecisionTreeClassifier</td>\n",
       "                        <td id=\"T_06cd3_row1_col1\" class=\"data row1 col1\" >{'random_state': 12345, 'max_depth': 2}</td>\n",
       "                        <td id=\"T_06cd3_row1_col2\" class=\"data row1 col2\" >0.824000</td>\n",
       "                        <td id=\"T_06cd3_row1_col3\" class=\"data row1 col3\" >0.521739</td>\n",
       "                        <td id=\"T_06cd3_row1_col4\" class=\"data row1 col4\" >0.750181</td>\n",
       "            </tr>\n",
       "            <tr>\n",
       "                        <th id=\"T_06cd3_level0_row2\" class=\"row_heading level0 row2\" >2</th>\n",
       "                        <td id=\"T_06cd3_row2_col0\" class=\"data row2 col0\" >DecisionTreeClassifier</td>\n",
       "                        <td id=\"T_06cd3_row2_col1\" class=\"data row2 col1\" >{'random_state': 12345, 'max_depth': 3}</td>\n",
       "                        <td id=\"T_06cd3_row2_col2\" class=\"data row2 col2\" >0.838000</td>\n",
       "                        <td id=\"T_06cd3_row2_col3\" class=\"data row2 col3\" >0.423488</td>\n",
       "                        <td id=\"T_06cd3_row2_col4\" class=\"data row2 col4\" >0.797344</td>\n",
       "            </tr>\n",
       "            <tr>\n",
       "                        <th id=\"T_06cd3_level0_row3\" class=\"row_heading level0 row3\" >3</th>\n",
       "                        <td id=\"T_06cd3_row3_col0\" class=\"data row3 col0\" >DecisionTreeClassifier</td>\n",
       "                        <td id=\"T_06cd3_row3_col1\" class=\"data row3 col1\" >{'random_state': 12345, 'max_depth': 4}</td>\n",
       "                        <td id=\"T_06cd3_row3_col2\" class=\"data row3 col2\" >0.852000</td>\n",
       "                        <td id=\"T_06cd3_row3_col3\" class=\"data row3 col3\" >0.552870</td>\n",
       "                        <td id=\"T_06cd3_row3_col4\" class=\"data row3 col4\" >0.813428</td>\n",
       "            </tr>\n",
       "            <tr>\n",
       "                        <th id=\"T_06cd3_level0_row4\" class=\"row_heading level0 row4\" >4</th>\n",
       "                        <td id=\"T_06cd3_row4_col0\" class=\"data row4 col0\" >DecisionTreeClassifier</td>\n",
       "                        <td id=\"T_06cd3_row4_col1\" class=\"data row4 col1\" >{'random_state': 12345, 'max_depth': 5}</td>\n",
       "                        <td id=\"T_06cd3_row4_col2\" class=\"data row4 col2\" >0.853000</td>\n",
       "                        <td id=\"T_06cd3_row4_col3\" class=\"data row4 col3\" >0.540625</td>\n",
       "                        <td id=\"T_06cd3_row4_col4\" class=\"data row4 col4\" >0.822168</td>\n",
       "            </tr>\n",
       "            <tr>\n",
       "                        <th id=\"T_06cd3_level0_row5\" class=\"row_heading level0 row5\" >5</th>\n",
       "                        <td id=\"T_06cd3_row5_col0\" class=\"data row5 col0\" >DecisionTreeClassifier</td>\n",
       "                        <td id=\"T_06cd3_row5_col1\" class=\"data row5 col1\" >{'random_state': 12345, 'max_depth': 6}</td>\n",
       "                        <td id=\"T_06cd3_row5_col2\" class=\"data row5 col2\" >0.858000</td>\n",
       "                        <td id=\"T_06cd3_row5_col3\" class=\"data row5 col3\" >0.569697</td>\n",
       "                        <td id=\"T_06cd3_row5_col4\" class=\"data row5 col4\" >0.816463</td>\n",
       "            </tr>\n",
       "            <tr>\n",
       "                        <th id=\"T_06cd3_level0_row6\" class=\"row_heading level0 row6\" >6</th>\n",
       "                        <td id=\"T_06cd3_row6_col0\" class=\"data row6 col0\" >DecisionTreeClassifier</td>\n",
       "                        <td id=\"T_06cd3_row6_col1\" class=\"data row6 col1\" >{'random_state': 12345, 'max_depth': 7}</td>\n",
       "                        <td id=\"T_06cd3_row6_col2\" class=\"data row6 col2\" >0.850500</td>\n",
       "                        <td id=\"T_06cd3_row6_col3\" class=\"data row6 col3\" >0.532081</td>\n",
       "                        <td id=\"T_06cd3_row6_col4\" class=\"data row6 col4\" >0.815232</td>\n",
       "            </tr>\n",
       "            <tr>\n",
       "                        <th id=\"T_06cd3_level0_row7\" class=\"row_heading level0 row7\" >7</th>\n",
       "                        <td id=\"T_06cd3_row7_col0\" class=\"data row7 col0\" >DecisionTreeClassifier</td>\n",
       "                        <td id=\"T_06cd3_row7_col1\" class=\"data row7 col1\" >{'random_state': 12345, 'max_depth': 8}</td>\n",
       "                        <td id=\"T_06cd3_row7_col2\" class=\"data row7 col2\" >0.850500</td>\n",
       "                        <td id=\"T_06cd3_row7_col3\" class=\"data row7 col3\" >0.543511</td>\n",
       "                        <td id=\"T_06cd3_row7_col4\" class=\"data row7 col4\" >0.809057</td>\n",
       "            </tr>\n",
       "            <tr>\n",
       "                        <th id=\"T_06cd3_level0_row8\" class=\"row_heading level0 row8\" >8</th>\n",
       "                        <td id=\"T_06cd3_row8_col0\" class=\"data row8 col0\" >DecisionTreeClassifier</td>\n",
       "                        <td id=\"T_06cd3_row8_col1\" class=\"data row8 col1\" >{'random_state': 12345, 'max_depth': 9}</td>\n",
       "                        <td id=\"T_06cd3_row8_col2\" class=\"data row8 col2\" >0.852000</td>\n",
       "                        <td id=\"T_06cd3_row8_col3\" class=\"data row8 col3\" >0.572254</td>\n",
       "                        <td id=\"T_06cd3_row8_col4\" class=\"data row8 col4\" >0.783247</td>\n",
       "            </tr>\n",
       "            <tr>\n",
       "                        <th id=\"T_06cd3_level0_row9\" class=\"row_heading level0 row9\" >9</th>\n",
       "                        <td id=\"T_06cd3_row9_col0\" class=\"data row9 col0\" >DecisionTreeClassifier</td>\n",
       "                        <td id=\"T_06cd3_row9_col1\" class=\"data row9 col1\" >{'random_state': 12345, 'max_depth': 10}</td>\n",
       "                        <td id=\"T_06cd3_row9_col2\" class=\"data row9 col2\" >0.834000</td>\n",
       "                        <td id=\"T_06cd3_row9_col3\" class=\"data row9 col3\" >0.538889</td>\n",
       "                        <td id=\"T_06cd3_row9_col4\" class=\"data row9 col4\" >0.768530</td>\n",
       "            </tr>\n",
       "    </tbody></table>"
      ],
      "text/plain": [
       "<pandas.io.formats.style.Styler at 0x7fe26aff89a0>"
      ]
     },
     "execution_count": 104,
     "metadata": {},
     "output_type": "execute_result"
    }
   ],
   "source": [
    "%%time\n",
    "test_hyperpar_DTC = []\n",
    "\n",
    "for depth in range(1,11):\n",
    "    model = DecisionTreeClassifier(random_state=12345, max_depth=depth)\n",
    "    model.fit(features_train, target_train)\n",
    "    predictions_valid = model.predict(features_valid)\n",
    "    probabilities_valid = model.predict_proba(features_valid)\n",
    "    accuracy = accuracy_score(target_valid, predictions_valid)        \n",
    "    f1 = f1_score(target_valid, predictions_valid)\n",
    "    roc_auc = roc_auc_score(target_valid, probabilities_valid[:,1])       \n",
    "    test_hyperpar_DTC.append({'Model': 'DecisionTreeClassifier', \n",
    "                        'Hyperparameters': {'random_state': 12345, 'max_depth':depth},\n",
    "                        'Accuracy': accuracy, \n",
    "                        'F1': f1, \n",
    "                        'ROC AUC': roc_auc})\n",
    "\n",
    "pd.DataFrame(test_hyperpar_DTC).style.highlight_max(color = 'red', axis = 0)"
   ]
  },
  {
   "cell_type": "markdown",
   "metadata": {},
   "source": [
    "Наилучшеей значение мтерики F1 наблюдается при глубине 9."
   ]
  },
  {
   "cell_type": "markdown",
   "metadata": {},
   "source": [
    "Что-то даже при подборе гипперпараметров Случайный лес выглядит лучше."
   ]
  },
  {
   "cell_type": "markdown",
   "metadata": {},
   "source": [
    "### Подберем гипперпараметр для Случайного леса."
   ]
  },
  {
   "cell_type": "code",
   "execution_count": 105,
   "metadata": {},
   "outputs": [
    {
     "name": "stdout",
     "output_type": "stream",
     "text": [
      "CPU times: user 36.9 s, sys: 59.8 ms, total: 37 s\n",
      "Wall time: 37 s\n"
     ]
    },
    {
     "data": {
      "text/html": [
       "<style  type=\"text/css\" >\n",
       "#T_bff65_row79_col4,#T_bff65_row114_col3,#T_bff65_row119_col2{\n",
       "            background-color:  red;\n",
       "        }</style><table id=\"T_bff65_\" ><thead>    <tr>        <th class=\"blank level0\" ></th>        <th class=\"col_heading level0 col0\" >Model</th>        <th class=\"col_heading level0 col1\" >Hyperparameters</th>        <th class=\"col_heading level0 col2\" >Accuracy</th>        <th class=\"col_heading level0 col3\" >F1</th>        <th class=\"col_heading level0 col4\" >ROC AUC</th>    </tr></thead><tbody>\n",
       "                <tr>\n",
       "                        <th id=\"T_bff65_level0_row0\" class=\"row_heading level0 row0\" >0</th>\n",
       "                        <td id=\"T_bff65_row0_col0\" class=\"data row0 col0\" >RandomForestClassifier</td>\n",
       "                        <td id=\"T_bff65_row0_col1\" class=\"data row0 col1\" >{'random_state': 12345, 'n_estimators': 10, 'max_depth': 1}</td>\n",
       "                        <td id=\"T_bff65_row0_col2\" class=\"data row0 col2\" >0.791000</td>\n",
       "                        <td id=\"T_bff65_row0_col3\" class=\"data row0 col3\" >0.000000</td>\n",
       "                        <td id=\"T_bff65_row0_col4\" class=\"data row0 col4\" >0.759249</td>\n",
       "            </tr>\n",
       "            <tr>\n",
       "                        <th id=\"T_bff65_level0_row1\" class=\"row_heading level0 row1\" >1</th>\n",
       "                        <td id=\"T_bff65_row1_col0\" class=\"data row1 col0\" >RandomForestClassifier</td>\n",
       "                        <td id=\"T_bff65_row1_col1\" class=\"data row1 col1\" >{'random_state': 12345, 'n_estimators': 20, 'max_depth': 1}</td>\n",
       "                        <td id=\"T_bff65_row1_col2\" class=\"data row1 col2\" >0.791000</td>\n",
       "                        <td id=\"T_bff65_row1_col3\" class=\"data row1 col3\" >0.000000</td>\n",
       "                        <td id=\"T_bff65_row1_col4\" class=\"data row1 col4\" >0.783150</td>\n",
       "            </tr>\n",
       "            <tr>\n",
       "                        <th id=\"T_bff65_level0_row2\" class=\"row_heading level0 row2\" >2</th>\n",
       "                        <td id=\"T_bff65_row2_col0\" class=\"data row2 col0\" >RandomForestClassifier</td>\n",
       "                        <td id=\"T_bff65_row2_col1\" class=\"data row2 col1\" >{'random_state': 12345, 'n_estimators': 30, 'max_depth': 1}</td>\n",
       "                        <td id=\"T_bff65_row2_col2\" class=\"data row2 col2\" >0.791000</td>\n",
       "                        <td id=\"T_bff65_row2_col3\" class=\"data row2 col3\" >0.000000</td>\n",
       "                        <td id=\"T_bff65_row2_col4\" class=\"data row2 col4\" >0.794104</td>\n",
       "            </tr>\n",
       "            <tr>\n",
       "                        <th id=\"T_bff65_level0_row3\" class=\"row_heading level0 row3\" >3</th>\n",
       "                        <td id=\"T_bff65_row3_col0\" class=\"data row3 col0\" >RandomForestClassifier</td>\n",
       "                        <td id=\"T_bff65_row3_col1\" class=\"data row3 col1\" >{'random_state': 12345, 'n_estimators': 40, 'max_depth': 1}</td>\n",
       "                        <td id=\"T_bff65_row3_col2\" class=\"data row3 col2\" >0.791000</td>\n",
       "                        <td id=\"T_bff65_row3_col3\" class=\"data row3 col3\" >0.000000</td>\n",
       "                        <td id=\"T_bff65_row3_col4\" class=\"data row3 col4\" >0.797829</td>\n",
       "            </tr>\n",
       "            <tr>\n",
       "                        <th id=\"T_bff65_level0_row4\" class=\"row_heading level0 row4\" >4</th>\n",
       "                        <td id=\"T_bff65_row4_col0\" class=\"data row4 col0\" >RandomForestClassifier</td>\n",
       "                        <td id=\"T_bff65_row4_col1\" class=\"data row4 col1\" >{'random_state': 12345, 'n_estimators': 50, 'max_depth': 1}</td>\n",
       "                        <td id=\"T_bff65_row4_col2\" class=\"data row4 col2\" >0.791000</td>\n",
       "                        <td id=\"T_bff65_row4_col3\" class=\"data row4 col3\" >0.000000</td>\n",
       "                        <td id=\"T_bff65_row4_col4\" class=\"data row4 col4\" >0.799306</td>\n",
       "            </tr>\n",
       "            <tr>\n",
       "                        <th id=\"T_bff65_level0_row5\" class=\"row_heading level0 row5\" >5</th>\n",
       "                        <td id=\"T_bff65_row5_col0\" class=\"data row5 col0\" >RandomForestClassifier</td>\n",
       "                        <td id=\"T_bff65_row5_col1\" class=\"data row5 col1\" >{'random_state': 12345, 'n_estimators': 60, 'max_depth': 1}</td>\n",
       "                        <td id=\"T_bff65_row5_col2\" class=\"data row5 col2\" >0.791000</td>\n",
       "                        <td id=\"T_bff65_row5_col3\" class=\"data row5 col3\" >0.000000</td>\n",
       "                        <td id=\"T_bff65_row5_col4\" class=\"data row5 col4\" >0.800180</td>\n",
       "            </tr>\n",
       "            <tr>\n",
       "                        <th id=\"T_bff65_level0_row6\" class=\"row_heading level0 row6\" >6</th>\n",
       "                        <td id=\"T_bff65_row6_col0\" class=\"data row6 col0\" >RandomForestClassifier</td>\n",
       "                        <td id=\"T_bff65_row6_col1\" class=\"data row6 col1\" >{'random_state': 12345, 'n_estimators': 70, 'max_depth': 1}</td>\n",
       "                        <td id=\"T_bff65_row6_col2\" class=\"data row6 col2\" >0.791000</td>\n",
       "                        <td id=\"T_bff65_row6_col3\" class=\"data row6 col3\" >0.000000</td>\n",
       "                        <td id=\"T_bff65_row6_col4\" class=\"data row6 col4\" >0.798360</td>\n",
       "            </tr>\n",
       "            <tr>\n",
       "                        <th id=\"T_bff65_level0_row7\" class=\"row_heading level0 row7\" >7</th>\n",
       "                        <td id=\"T_bff65_row7_col0\" class=\"data row7 col0\" >RandomForestClassifier</td>\n",
       "                        <td id=\"T_bff65_row7_col1\" class=\"data row7 col1\" >{'random_state': 12345, 'n_estimators': 80, 'max_depth': 1}</td>\n",
       "                        <td id=\"T_bff65_row7_col2\" class=\"data row7 col2\" >0.791000</td>\n",
       "                        <td id=\"T_bff65_row7_col3\" class=\"data row7 col3\" >0.000000</td>\n",
       "                        <td id=\"T_bff65_row7_col4\" class=\"data row7 col4\" >0.797312</td>\n",
       "            </tr>\n",
       "            <tr>\n",
       "                        <th id=\"T_bff65_level0_row8\" class=\"row_heading level0 row8\" >8</th>\n",
       "                        <td id=\"T_bff65_row8_col0\" class=\"data row8 col0\" >RandomForestClassifier</td>\n",
       "                        <td id=\"T_bff65_row8_col1\" class=\"data row8 col1\" >{'random_state': 12345, 'n_estimators': 90, 'max_depth': 1}</td>\n",
       "                        <td id=\"T_bff65_row8_col2\" class=\"data row8 col2\" >0.791000</td>\n",
       "                        <td id=\"T_bff65_row8_col3\" class=\"data row8 col3\" >0.000000</td>\n",
       "                        <td id=\"T_bff65_row8_col4\" class=\"data row8 col4\" >0.798313</td>\n",
       "            </tr>\n",
       "            <tr>\n",
       "                        <th id=\"T_bff65_level0_row9\" class=\"row_heading level0 row9\" >9</th>\n",
       "                        <td id=\"T_bff65_row9_col0\" class=\"data row9 col0\" >RandomForestClassifier</td>\n",
       "                        <td id=\"T_bff65_row9_col1\" class=\"data row9 col1\" >{'random_state': 12345, 'n_estimators': 100, 'max_depth': 1}</td>\n",
       "                        <td id=\"T_bff65_row9_col2\" class=\"data row9 col2\" >0.791000</td>\n",
       "                        <td id=\"T_bff65_row9_col3\" class=\"data row9 col3\" >0.000000</td>\n",
       "                        <td id=\"T_bff65_row9_col4\" class=\"data row9 col4\" >0.797857</td>\n",
       "            </tr>\n",
       "            <tr>\n",
       "                        <th id=\"T_bff65_level0_row10\" class=\"row_heading level0 row10\" >10</th>\n",
       "                        <td id=\"T_bff65_row10_col0\" class=\"data row10 col0\" >RandomForestClassifier</td>\n",
       "                        <td id=\"T_bff65_row10_col1\" class=\"data row10 col1\" >{'random_state': 12345, 'n_estimators': 10, 'max_depth': 2}</td>\n",
       "                        <td id=\"T_bff65_row10_col2\" class=\"data row10 col2\" >0.812000</td>\n",
       "                        <td id=\"T_bff65_row10_col3\" class=\"data row10 col3\" >0.200000</td>\n",
       "                        <td id=\"T_bff65_row10_col4\" class=\"data row10 col4\" >0.796758</td>\n",
       "            </tr>\n",
       "            <tr>\n",
       "                        <th id=\"T_bff65_level0_row11\" class=\"row_heading level0 row11\" >11</th>\n",
       "                        <td id=\"T_bff65_row11_col0\" class=\"data row11 col0\" >RandomForestClassifier</td>\n",
       "                        <td id=\"T_bff65_row11_col1\" class=\"data row11 col1\" >{'random_state': 12345, 'n_estimators': 20, 'max_depth': 2}</td>\n",
       "                        <td id=\"T_bff65_row11_col2\" class=\"data row11 col2\" >0.808000</td>\n",
       "                        <td id=\"T_bff65_row11_col3\" class=\"data row11 col3\" >0.157895</td>\n",
       "                        <td id=\"T_bff65_row11_col4\" class=\"data row11 col4\" >0.797802</td>\n",
       "            </tr>\n",
       "            <tr>\n",
       "                        <th id=\"T_bff65_level0_row12\" class=\"row_heading level0 row12\" >12</th>\n",
       "                        <td id=\"T_bff65_row12_col0\" class=\"data row12 col0\" >RandomForestClassifier</td>\n",
       "                        <td id=\"T_bff65_row12_col1\" class=\"data row12 col1\" >{'random_state': 12345, 'n_estimators': 30, 'max_depth': 2}</td>\n",
       "                        <td id=\"T_bff65_row12_col2\" class=\"data row12 col2\" >0.807000</td>\n",
       "                        <td id=\"T_bff65_row12_col3\" class=\"data row12 col3\" >0.142222</td>\n",
       "                        <td id=\"T_bff65_row12_col4\" class=\"data row12 col4\" >0.804028</td>\n",
       "            </tr>\n",
       "            <tr>\n",
       "                        <th id=\"T_bff65_level0_row13\" class=\"row_heading level0 row13\" >13</th>\n",
       "                        <td id=\"T_bff65_row13_col0\" class=\"data row13 col0\" >RandomForestClassifier</td>\n",
       "                        <td id=\"T_bff65_row13_col1\" class=\"data row13 col1\" >{'random_state': 12345, 'n_estimators': 40, 'max_depth': 2}</td>\n",
       "                        <td id=\"T_bff65_row13_col2\" class=\"data row13 col2\" >0.810000</td>\n",
       "                        <td id=\"T_bff65_row13_col3\" class=\"data row13 col3\" >0.173913</td>\n",
       "                        <td id=\"T_bff65_row13_col4\" class=\"data row13 col4\" >0.814824</td>\n",
       "            </tr>\n",
       "            <tr>\n",
       "                        <th id=\"T_bff65_level0_row14\" class=\"row_heading level0 row14\" >14</th>\n",
       "                        <td id=\"T_bff65_row14_col0\" class=\"data row14 col0\" >RandomForestClassifier</td>\n",
       "                        <td id=\"T_bff65_row14_col1\" class=\"data row14 col1\" >{'random_state': 12345, 'n_estimators': 50, 'max_depth': 2}</td>\n",
       "                        <td id=\"T_bff65_row14_col2\" class=\"data row14 col2\" >0.811000</td>\n",
       "                        <td id=\"T_bff65_row14_col3\" class=\"data row14 col3\" >0.185345</td>\n",
       "                        <td id=\"T_bff65_row14_col4\" class=\"data row14 col4\" >0.812034</td>\n",
       "            </tr>\n",
       "            <tr>\n",
       "                        <th id=\"T_bff65_level0_row15\" class=\"row_heading level0 row15\" >15</th>\n",
       "                        <td id=\"T_bff65_row15_col0\" class=\"data row15 col0\" >RandomForestClassifier</td>\n",
       "                        <td id=\"T_bff65_row15_col1\" class=\"data row15 col1\" >{'random_state': 12345, 'n_estimators': 60, 'max_depth': 2}</td>\n",
       "                        <td id=\"T_bff65_row15_col2\" class=\"data row15 col2\" >0.808000</td>\n",
       "                        <td id=\"T_bff65_row15_col3\" class=\"data row15 col3\" >0.154185</td>\n",
       "                        <td id=\"T_bff65_row15_col4\" class=\"data row15 col4\" >0.811263</td>\n",
       "            </tr>\n",
       "            <tr>\n",
       "                        <th id=\"T_bff65_level0_row16\" class=\"row_heading level0 row16\" >16</th>\n",
       "                        <td id=\"T_bff65_row16_col0\" class=\"data row16 col0\" >RandomForestClassifier</td>\n",
       "                        <td id=\"T_bff65_row16_col1\" class=\"data row16 col1\" >{'random_state': 12345, 'n_estimators': 70, 'max_depth': 2}</td>\n",
       "                        <td id=\"T_bff65_row16_col2\" class=\"data row16 col2\" >0.803500</td>\n",
       "                        <td id=\"T_bff65_row16_col3\" class=\"data row16 col3\" >0.112867</td>\n",
       "                        <td id=\"T_bff65_row16_col4\" class=\"data row16 col4\" >0.814267</td>\n",
       "            </tr>\n",
       "            <tr>\n",
       "                        <th id=\"T_bff65_level0_row17\" class=\"row_heading level0 row17\" >17</th>\n",
       "                        <td id=\"T_bff65_row17_col0\" class=\"data row17 col0\" >RandomForestClassifier</td>\n",
       "                        <td id=\"T_bff65_row17_col1\" class=\"data row17 col1\" >{'random_state': 12345, 'n_estimators': 80, 'max_depth': 2}</td>\n",
       "                        <td id=\"T_bff65_row17_col2\" class=\"data row17 col2\" >0.805500</td>\n",
       "                        <td id=\"T_bff65_row17_col3\" class=\"data row17 col3\" >0.129754</td>\n",
       "                        <td id=\"T_bff65_row17_col4\" class=\"data row17 col4\" >0.814242</td>\n",
       "            </tr>\n",
       "            <tr>\n",
       "                        <th id=\"T_bff65_level0_row18\" class=\"row_heading level0 row18\" >18</th>\n",
       "                        <td id=\"T_bff65_row18_col0\" class=\"data row18 col0\" >RandomForestClassifier</td>\n",
       "                        <td id=\"T_bff65_row18_col1\" class=\"data row18 col1\" >{'random_state': 12345, 'n_estimators': 90, 'max_depth': 2}</td>\n",
       "                        <td id=\"T_bff65_row18_col2\" class=\"data row18 col2\" >0.803500</td>\n",
       "                        <td id=\"T_bff65_row18_col3\" class=\"data row18 col3\" >0.112867</td>\n",
       "                        <td id=\"T_bff65_row18_col4\" class=\"data row18 col4\" >0.814891</td>\n",
       "            </tr>\n",
       "            <tr>\n",
       "                        <th id=\"T_bff65_level0_row19\" class=\"row_heading level0 row19\" >19</th>\n",
       "                        <td id=\"T_bff65_row19_col0\" class=\"data row19 col0\" >RandomForestClassifier</td>\n",
       "                        <td id=\"T_bff65_row19_col1\" class=\"data row19 col1\" >{'random_state': 12345, 'n_estimators': 100, 'max_depth': 2}</td>\n",
       "                        <td id=\"T_bff65_row19_col2\" class=\"data row19 col2\" >0.805000</td>\n",
       "                        <td id=\"T_bff65_row19_col3\" class=\"data row19 col3\" >0.129464</td>\n",
       "                        <td id=\"T_bff65_row19_col4\" class=\"data row19 col4\" >0.814509</td>\n",
       "            </tr>\n",
       "            <tr>\n",
       "                        <th id=\"T_bff65_level0_row20\" class=\"row_heading level0 row20\" >20</th>\n",
       "                        <td id=\"T_bff65_row20_col0\" class=\"data row20 col0\" >RandomForestClassifier</td>\n",
       "                        <td id=\"T_bff65_row20_col1\" class=\"data row20 col1\" >{'random_state': 12345, 'n_estimators': 10, 'max_depth': 3}</td>\n",
       "                        <td id=\"T_bff65_row20_col2\" class=\"data row20 col2\" >0.818000</td>\n",
       "                        <td id=\"T_bff65_row20_col3\" class=\"data row20 col3\" >0.251029</td>\n",
       "                        <td id=\"T_bff65_row20_col4\" class=\"data row20 col4\" >0.805911</td>\n",
       "            </tr>\n",
       "            <tr>\n",
       "                        <th id=\"T_bff65_level0_row21\" class=\"row_heading level0 row21\" >21</th>\n",
       "                        <td id=\"T_bff65_row21_col0\" class=\"data row21 col0\" >RandomForestClassifier</td>\n",
       "                        <td id=\"T_bff65_row21_col1\" class=\"data row21 col1\" >{'random_state': 12345, 'n_estimators': 20, 'max_depth': 3}</td>\n",
       "                        <td id=\"T_bff65_row21_col2\" class=\"data row21 col2\" >0.815500</td>\n",
       "                        <td id=\"T_bff65_row21_col3\" class=\"data row21 col3\" >0.232848</td>\n",
       "                        <td id=\"T_bff65_row21_col4\" class=\"data row21 col4\" >0.811263</td>\n",
       "            </tr>\n",
       "            <tr>\n",
       "                        <th id=\"T_bff65_level0_row22\" class=\"row_heading level0 row22\" >22</th>\n",
       "                        <td id=\"T_bff65_row22_col0\" class=\"data row22 col0\" >RandomForestClassifier</td>\n",
       "                        <td id=\"T_bff65_row22_col1\" class=\"data row22 col1\" >{'random_state': 12345, 'n_estimators': 30, 'max_depth': 3}</td>\n",
       "                        <td id=\"T_bff65_row22_col2\" class=\"data row22 col2\" >0.815000</td>\n",
       "                        <td id=\"T_bff65_row22_col3\" class=\"data row22 col3\" >0.222689</td>\n",
       "                        <td id=\"T_bff65_row22_col4\" class=\"data row22 col4\" >0.814867</td>\n",
       "            </tr>\n",
       "            <tr>\n",
       "                        <th id=\"T_bff65_level0_row23\" class=\"row_heading level0 row23\" >23</th>\n",
       "                        <td id=\"T_bff65_row23_col0\" class=\"data row23 col0\" >RandomForestClassifier</td>\n",
       "                        <td id=\"T_bff65_row23_col1\" class=\"data row23 col1\" >{'random_state': 12345, 'n_estimators': 40, 'max_depth': 3}</td>\n",
       "                        <td id=\"T_bff65_row23_col2\" class=\"data row23 col2\" >0.815500</td>\n",
       "                        <td id=\"T_bff65_row23_col3\" class=\"data row23 col3\" >0.223158</td>\n",
       "                        <td id=\"T_bff65_row23_col4\" class=\"data row23 col4\" >0.822822</td>\n",
       "            </tr>\n",
       "            <tr>\n",
       "                        <th id=\"T_bff65_level0_row24\" class=\"row_heading level0 row24\" >24</th>\n",
       "                        <td id=\"T_bff65_row24_col0\" class=\"data row24 col0\" >RandomForestClassifier</td>\n",
       "                        <td id=\"T_bff65_row24_col1\" class=\"data row24 col1\" >{'random_state': 12345, 'n_estimators': 50, 'max_depth': 3}</td>\n",
       "                        <td id=\"T_bff65_row24_col2\" class=\"data row24 col2\" >0.821000</td>\n",
       "                        <td id=\"T_bff65_row24_col3\" class=\"data row24 col3\" >0.266393</td>\n",
       "                        <td id=\"T_bff65_row24_col4\" class=\"data row24 col4\" >0.823642</td>\n",
       "            </tr>\n",
       "            <tr>\n",
       "                        <th id=\"T_bff65_level0_row25\" class=\"row_heading level0 row25\" >25</th>\n",
       "                        <td id=\"T_bff65_row25_col0\" class=\"data row25 col0\" >RandomForestClassifier</td>\n",
       "                        <td id=\"T_bff65_row25_col1\" class=\"data row25 col1\" >{'random_state': 12345, 'n_estimators': 60, 'max_depth': 3}</td>\n",
       "                        <td id=\"T_bff65_row25_col2\" class=\"data row25 col2\" >0.817500</td>\n",
       "                        <td id=\"T_bff65_row25_col3\" class=\"data row25 col3\" >0.241164</td>\n",
       "                        <td id=\"T_bff65_row25_col4\" class=\"data row25 col4\" >0.825712</td>\n",
       "            </tr>\n",
       "            <tr>\n",
       "                        <th id=\"T_bff65_level0_row26\" class=\"row_heading level0 row26\" >26</th>\n",
       "                        <td id=\"T_bff65_row26_col0\" class=\"data row26 col0\" >RandomForestClassifier</td>\n",
       "                        <td id=\"T_bff65_row26_col1\" class=\"data row26 col1\" >{'random_state': 12345, 'n_estimators': 70, 'max_depth': 3}</td>\n",
       "                        <td id=\"T_bff65_row26_col2\" class=\"data row26 col2\" >0.818000</td>\n",
       "                        <td id=\"T_bff65_row26_col3\" class=\"data row26 col3\" >0.241667</td>\n",
       "                        <td id=\"T_bff65_row26_col4\" class=\"data row26 col4\" >0.825664</td>\n",
       "            </tr>\n",
       "            <tr>\n",
       "                        <th id=\"T_bff65_level0_row27\" class=\"row_heading level0 row27\" >27</th>\n",
       "                        <td id=\"T_bff65_row27_col0\" class=\"data row27 col0\" >RandomForestClassifier</td>\n",
       "                        <td id=\"T_bff65_row27_col1\" class=\"data row27 col1\" >{'random_state': 12345, 'n_estimators': 80, 'max_depth': 3}</td>\n",
       "                        <td id=\"T_bff65_row27_col2\" class=\"data row27 col2\" >0.816500</td>\n",
       "                        <td id=\"T_bff65_row27_col3\" class=\"data row27 col3\" >0.230608</td>\n",
       "                        <td id=\"T_bff65_row27_col4\" class=\"data row27 col4\" >0.824793</td>\n",
       "            </tr>\n",
       "            <tr>\n",
       "                        <th id=\"T_bff65_level0_row28\" class=\"row_heading level0 row28\" >28</th>\n",
       "                        <td id=\"T_bff65_row28_col0\" class=\"data row28 col0\" >RandomForestClassifier</td>\n",
       "                        <td id=\"T_bff65_row28_col1\" class=\"data row28 col1\" >{'random_state': 12345, 'n_estimators': 90, 'max_depth': 3}</td>\n",
       "                        <td id=\"T_bff65_row28_col2\" class=\"data row28 col2\" >0.816000</td>\n",
       "                        <td id=\"T_bff65_row28_col3\" class=\"data row28 col3\" >0.226891</td>\n",
       "                        <td id=\"T_bff65_row28_col4\" class=\"data row28 col4\" >0.826226</td>\n",
       "            </tr>\n",
       "            <tr>\n",
       "                        <th id=\"T_bff65_level0_row29\" class=\"row_heading level0 row29\" >29</th>\n",
       "                        <td id=\"T_bff65_row29_col0\" class=\"data row29 col0\" >RandomForestClassifier</td>\n",
       "                        <td id=\"T_bff65_row29_col1\" class=\"data row29 col1\" >{'random_state': 12345, 'n_estimators': 100, 'max_depth': 3}</td>\n",
       "                        <td id=\"T_bff65_row29_col2\" class=\"data row29 col2\" >0.817000</td>\n",
       "                        <td id=\"T_bff65_row29_col3\" class=\"data row29 col3\" >0.237500</td>\n",
       "                        <td id=\"T_bff65_row29_col4\" class=\"data row29 col4\" >0.826712</td>\n",
       "            </tr>\n",
       "            <tr>\n",
       "                        <th id=\"T_bff65_level0_row30\" class=\"row_heading level0 row30\" >30</th>\n",
       "                        <td id=\"T_bff65_row30_col0\" class=\"data row30 col0\" >RandomForestClassifier</td>\n",
       "                        <td id=\"T_bff65_row30_col1\" class=\"data row30 col1\" >{'random_state': 12345, 'n_estimators': 10, 'max_depth': 4}</td>\n",
       "                        <td id=\"T_bff65_row30_col2\" class=\"data row30 col2\" >0.850500</td>\n",
       "                        <td id=\"T_bff65_row30_col3\" class=\"data row30 col3\" >0.495784</td>\n",
       "                        <td id=\"T_bff65_row30_col4\" class=\"data row30 col4\" >0.832128</td>\n",
       "            </tr>\n",
       "            <tr>\n",
       "                        <th id=\"T_bff65_level0_row31\" class=\"row_heading level0 row31\" >31</th>\n",
       "                        <td id=\"T_bff65_row31_col0\" class=\"data row31 col0\" >RandomForestClassifier</td>\n",
       "                        <td id=\"T_bff65_row31_col1\" class=\"data row31 col1\" >{'random_state': 12345, 'n_estimators': 20, 'max_depth': 4}</td>\n",
       "                        <td id=\"T_bff65_row31_col2\" class=\"data row31 col2\" >0.840000</td>\n",
       "                        <td id=\"T_bff65_row31_col3\" class=\"data row31 col3\" >0.426523</td>\n",
       "                        <td id=\"T_bff65_row31_col4\" class=\"data row31 col4\" >0.832656</td>\n",
       "            </tr>\n",
       "            <tr>\n",
       "                        <th id=\"T_bff65_level0_row32\" class=\"row_heading level0 row32\" >32</th>\n",
       "                        <td id=\"T_bff65_row32_col0\" class=\"data row32 col0\" >RandomForestClassifier</td>\n",
       "                        <td id=\"T_bff65_row32_col1\" class=\"data row32 col1\" >{'random_state': 12345, 'n_estimators': 30, 'max_depth': 4}</td>\n",
       "                        <td id=\"T_bff65_row32_col2\" class=\"data row32 col2\" >0.832500</td>\n",
       "                        <td id=\"T_bff65_row32_col3\" class=\"data row32 col3\" >0.376164</td>\n",
       "                        <td id=\"T_bff65_row32_col4\" class=\"data row32 col4\" >0.834456</td>\n",
       "            </tr>\n",
       "            <tr>\n",
       "                        <th id=\"T_bff65_level0_row33\" class=\"row_heading level0 row33\" >33</th>\n",
       "                        <td id=\"T_bff65_row33_col0\" class=\"data row33 col0\" >RandomForestClassifier</td>\n",
       "                        <td id=\"T_bff65_row33_col1\" class=\"data row33 col1\" >{'random_state': 12345, 'n_estimators': 40, 'max_depth': 4}</td>\n",
       "                        <td id=\"T_bff65_row33_col2\" class=\"data row33 col2\" >0.836500</td>\n",
       "                        <td id=\"T_bff65_row33_col3\" class=\"data row33 col3\" >0.395564</td>\n",
       "                        <td id=\"T_bff65_row33_col4\" class=\"data row33 col4\" >0.838343</td>\n",
       "            </tr>\n",
       "            <tr>\n",
       "                        <th id=\"T_bff65_level0_row34\" class=\"row_heading level0 row34\" >34</th>\n",
       "                        <td id=\"T_bff65_row34_col0\" class=\"data row34 col0\" >RandomForestClassifier</td>\n",
       "                        <td id=\"T_bff65_row34_col1\" class=\"data row34 col1\" >{'random_state': 12345, 'n_estimators': 50, 'max_depth': 4}</td>\n",
       "                        <td id=\"T_bff65_row34_col2\" class=\"data row34 col2\" >0.837000</td>\n",
       "                        <td id=\"T_bff65_row34_col3\" class=\"data row34 col3\" >0.402930</td>\n",
       "                        <td id=\"T_bff65_row34_col4\" class=\"data row34 col4\" >0.838353</td>\n",
       "            </tr>\n",
       "            <tr>\n",
       "                        <th id=\"T_bff65_level0_row35\" class=\"row_heading level0 row35\" >35</th>\n",
       "                        <td id=\"T_bff65_row35_col0\" class=\"data row35 col0\" >RandomForestClassifier</td>\n",
       "                        <td id=\"T_bff65_row35_col1\" class=\"data row35 col1\" >{'random_state': 12345, 'n_estimators': 60, 'max_depth': 4}</td>\n",
       "                        <td id=\"T_bff65_row35_col2\" class=\"data row35 col2\" >0.837000</td>\n",
       "                        <td id=\"T_bff65_row35_col3\" class=\"data row35 col3\" >0.402930</td>\n",
       "                        <td id=\"T_bff65_row35_col4\" class=\"data row35 col4\" >0.839165</td>\n",
       "            </tr>\n",
       "            <tr>\n",
       "                        <th id=\"T_bff65_level0_row36\" class=\"row_heading level0 row36\" >36</th>\n",
       "                        <td id=\"T_bff65_row36_col0\" class=\"data row36 col0\" >RandomForestClassifier</td>\n",
       "                        <td id=\"T_bff65_row36_col1\" class=\"data row36 col1\" >{'random_state': 12345, 'n_estimators': 70, 'max_depth': 4}</td>\n",
       "                        <td id=\"T_bff65_row36_col2\" class=\"data row36 col2\" >0.834500</td>\n",
       "                        <td id=\"T_bff65_row36_col3\" class=\"data row36 col3\" >0.388170</td>\n",
       "                        <td id=\"T_bff65_row36_col4\" class=\"data row36 col4\" >0.838895</td>\n",
       "            </tr>\n",
       "            <tr>\n",
       "                        <th id=\"T_bff65_level0_row37\" class=\"row_heading level0 row37\" >37</th>\n",
       "                        <td id=\"T_bff65_row37_col0\" class=\"data row37 col0\" >RandomForestClassifier</td>\n",
       "                        <td id=\"T_bff65_row37_col1\" class=\"data row37 col1\" >{'random_state': 12345, 'n_estimators': 80, 'max_depth': 4}</td>\n",
       "                        <td id=\"T_bff65_row37_col2\" class=\"data row37 col2\" >0.836000</td>\n",
       "                        <td id=\"T_bff65_row37_col3\" class=\"data row37 col3\" >0.390335</td>\n",
       "                        <td id=\"T_bff65_row37_col4\" class=\"data row37 col4\" >0.839272</td>\n",
       "            </tr>\n",
       "            <tr>\n",
       "                        <th id=\"T_bff65_level0_row38\" class=\"row_heading level0 row38\" >38</th>\n",
       "                        <td id=\"T_bff65_row38_col0\" class=\"data row38 col0\" >RandomForestClassifier</td>\n",
       "                        <td id=\"T_bff65_row38_col1\" class=\"data row38 col1\" >{'random_state': 12345, 'n_estimators': 90, 'max_depth': 4}</td>\n",
       "                        <td id=\"T_bff65_row38_col2\" class=\"data row38 col2\" >0.833000</td>\n",
       "                        <td id=\"T_bff65_row38_col3\" class=\"data row38 col3\" >0.379182</td>\n",
       "                        <td id=\"T_bff65_row38_col4\" class=\"data row38 col4\" >0.839351</td>\n",
       "            </tr>\n",
       "            <tr>\n",
       "                        <th id=\"T_bff65_level0_row39\" class=\"row_heading level0 row39\" >39</th>\n",
       "                        <td id=\"T_bff65_row39_col0\" class=\"data row39 col0\" >RandomForestClassifier</td>\n",
       "                        <td id=\"T_bff65_row39_col1\" class=\"data row39 col1\" >{'random_state': 12345, 'n_estimators': 100, 'max_depth': 4}</td>\n",
       "                        <td id=\"T_bff65_row39_col2\" class=\"data row39 col2\" >0.833500</td>\n",
       "                        <td id=\"T_bff65_row39_col3\" class=\"data row39 col3\" >0.379888</td>\n",
       "                        <td id=\"T_bff65_row39_col4\" class=\"data row39 col4\" >0.839492</td>\n",
       "            </tr>\n",
       "            <tr>\n",
       "                        <th id=\"T_bff65_level0_row40\" class=\"row_heading level0 row40\" >40</th>\n",
       "                        <td id=\"T_bff65_row40_col0\" class=\"data row40 col0\" >RandomForestClassifier</td>\n",
       "                        <td id=\"T_bff65_row40_col1\" class=\"data row40 col1\" >{'random_state': 12345, 'n_estimators': 10, 'max_depth': 5}</td>\n",
       "                        <td id=\"T_bff65_row40_col2\" class=\"data row40 col2\" >0.852000</td>\n",
       "                        <td id=\"T_bff65_row40_col3\" class=\"data row40 col3\" >0.519481</td>\n",
       "                        <td id=\"T_bff65_row40_col4\" class=\"data row40 col4\" >0.832487</td>\n",
       "            </tr>\n",
       "            <tr>\n",
       "                        <th id=\"T_bff65_level0_row41\" class=\"row_heading level0 row41\" >41</th>\n",
       "                        <td id=\"T_bff65_row41_col0\" class=\"data row41 col0\" >RandomForestClassifier</td>\n",
       "                        <td id=\"T_bff65_row41_col1\" class=\"data row41 col1\" >{'random_state': 12345, 'n_estimators': 20, 'max_depth': 5}</td>\n",
       "                        <td id=\"T_bff65_row41_col2\" class=\"data row41 col2\" >0.853500</td>\n",
       "                        <td id=\"T_bff65_row41_col3\" class=\"data row41 col3\" >0.518883</td>\n",
       "                        <td id=\"T_bff65_row41_col4\" class=\"data row41 col4\" >0.839458</td>\n",
       "            </tr>\n",
       "            <tr>\n",
       "                        <th id=\"T_bff65_level0_row42\" class=\"row_heading level0 row42\" >42</th>\n",
       "                        <td id=\"T_bff65_row42_col0\" class=\"data row42 col0\" >RandomForestClassifier</td>\n",
       "                        <td id=\"T_bff65_row42_col1\" class=\"data row42 col1\" >{'random_state': 12345, 'n_estimators': 30, 'max_depth': 5}</td>\n",
       "                        <td id=\"T_bff65_row42_col2\" class=\"data row42 col2\" >0.849500</td>\n",
       "                        <td id=\"T_bff65_row42_col3\" class=\"data row42 col3\" >0.495812</td>\n",
       "                        <td id=\"T_bff65_row42_col4\" class=\"data row42 col4\" >0.840979</td>\n",
       "            </tr>\n",
       "            <tr>\n",
       "                        <th id=\"T_bff65_level0_row43\" class=\"row_heading level0 row43\" >43</th>\n",
       "                        <td id=\"T_bff65_row43_col0\" class=\"data row43 col0\" >RandomForestClassifier</td>\n",
       "                        <td id=\"T_bff65_row43_col1\" class=\"data row43 col1\" >{'random_state': 12345, 'n_estimators': 40, 'max_depth': 5}</td>\n",
       "                        <td id=\"T_bff65_row43_col2\" class=\"data row43 col2\" >0.848500</td>\n",
       "                        <td id=\"T_bff65_row43_col3\" class=\"data row43 col3\" >0.487310</td>\n",
       "                        <td id=\"T_bff65_row43_col4\" class=\"data row43 col4\" >0.844687</td>\n",
       "            </tr>\n",
       "            <tr>\n",
       "                        <th id=\"T_bff65_level0_row44\" class=\"row_heading level0 row44\" >44</th>\n",
       "                        <td id=\"T_bff65_row44_col0\" class=\"data row44 col0\" >RandomForestClassifier</td>\n",
       "                        <td id=\"T_bff65_row44_col1\" class=\"data row44 col1\" >{'random_state': 12345, 'n_estimators': 50, 'max_depth': 5}</td>\n",
       "                        <td id=\"T_bff65_row44_col2\" class=\"data row44 col2\" >0.845000</td>\n",
       "                        <td id=\"T_bff65_row44_col3\" class=\"data row44 col3\" >0.467354</td>\n",
       "                        <td id=\"T_bff65_row44_col4\" class=\"data row44 col4\" >0.844975</td>\n",
       "            </tr>\n",
       "            <tr>\n",
       "                        <th id=\"T_bff65_level0_row45\" class=\"row_heading level0 row45\" >45</th>\n",
       "                        <td id=\"T_bff65_row45_col0\" class=\"data row45 col0\" >RandomForestClassifier</td>\n",
       "                        <td id=\"T_bff65_row45_col1\" class=\"data row45 col1\" >{'random_state': 12345, 'n_estimators': 60, 'max_depth': 5}</td>\n",
       "                        <td id=\"T_bff65_row45_col2\" class=\"data row45 col2\" >0.847000</td>\n",
       "                        <td id=\"T_bff65_row45_col3\" class=\"data row45 col3\" >0.477816</td>\n",
       "                        <td id=\"T_bff65_row45_col4\" class=\"data row45 col4\" >0.845165</td>\n",
       "            </tr>\n",
       "            <tr>\n",
       "                        <th id=\"T_bff65_level0_row46\" class=\"row_heading level0 row46\" >46</th>\n",
       "                        <td id=\"T_bff65_row46_col0\" class=\"data row46 col0\" >RandomForestClassifier</td>\n",
       "                        <td id=\"T_bff65_row46_col1\" class=\"data row46 col1\" >{'random_state': 12345, 'n_estimators': 70, 'max_depth': 5}</td>\n",
       "                        <td id=\"T_bff65_row46_col2\" class=\"data row46 col2\" >0.848500</td>\n",
       "                        <td id=\"T_bff65_row46_col3\" class=\"data row46 col3\" >0.480274</td>\n",
       "                        <td id=\"T_bff65_row46_col4\" class=\"data row46 col4\" >0.844752</td>\n",
       "            </tr>\n",
       "            <tr>\n",
       "                        <th id=\"T_bff65_level0_row47\" class=\"row_heading level0 row47\" >47</th>\n",
       "                        <td id=\"T_bff65_row47_col0\" class=\"data row47 col0\" >RandomForestClassifier</td>\n",
       "                        <td id=\"T_bff65_row47_col1\" class=\"data row47 col1\" >{'random_state': 12345, 'n_estimators': 80, 'max_depth': 5}</td>\n",
       "                        <td id=\"T_bff65_row47_col2\" class=\"data row47 col2\" >0.851500</td>\n",
       "                        <td id=\"T_bff65_row47_col3\" class=\"data row47 col3\" >0.494037</td>\n",
       "                        <td id=\"T_bff65_row47_col4\" class=\"data row47 col4\" >0.845019</td>\n",
       "            </tr>\n",
       "            <tr>\n",
       "                        <th id=\"T_bff65_level0_row48\" class=\"row_heading level0 row48\" >48</th>\n",
       "                        <td id=\"T_bff65_row48_col0\" class=\"data row48 col0\" >RandomForestClassifier</td>\n",
       "                        <td id=\"T_bff65_row48_col1\" class=\"data row48 col1\" >{'random_state': 12345, 'n_estimators': 90, 'max_depth': 5}</td>\n",
       "                        <td id=\"T_bff65_row48_col2\" class=\"data row48 col2\" >0.848500</td>\n",
       "                        <td id=\"T_bff65_row48_col3\" class=\"data row48 col3\" >0.476684</td>\n",
       "                        <td id=\"T_bff65_row48_col4\" class=\"data row48 col4\" >0.845078</td>\n",
       "            </tr>\n",
       "            <tr>\n",
       "                        <th id=\"T_bff65_level0_row49\" class=\"row_heading level0 row49\" >49</th>\n",
       "                        <td id=\"T_bff65_row49_col0\" class=\"data row49 col0\" >RandomForestClassifier</td>\n",
       "                        <td id=\"T_bff65_row49_col1\" class=\"data row49 col1\" >{'random_state': 12345, 'n_estimators': 100, 'max_depth': 5}</td>\n",
       "                        <td id=\"T_bff65_row49_col2\" class=\"data row49 col2\" >0.847000</td>\n",
       "                        <td id=\"T_bff65_row49_col3\" class=\"data row49 col3\" >0.465035</td>\n",
       "                        <td id=\"T_bff65_row49_col4\" class=\"data row49 col4\" >0.845909</td>\n",
       "            </tr>\n",
       "            <tr>\n",
       "                        <th id=\"T_bff65_level0_row50\" class=\"row_heading level0 row50\" >50</th>\n",
       "                        <td id=\"T_bff65_row50_col0\" class=\"data row50 col0\" >RandomForestClassifier</td>\n",
       "                        <td id=\"T_bff65_row50_col1\" class=\"data row50 col1\" >{'random_state': 12345, 'n_estimators': 10, 'max_depth': 6}</td>\n",
       "                        <td id=\"T_bff65_row50_col2\" class=\"data row50 col2\" >0.859500</td>\n",
       "                        <td id=\"T_bff65_row50_col3\" class=\"data row50 col3\" >0.541599</td>\n",
       "                        <td id=\"T_bff65_row50_col4\" class=\"data row50 col4\" >0.839510</td>\n",
       "            </tr>\n",
       "            <tr>\n",
       "                        <th id=\"T_bff65_level0_row51\" class=\"row_heading level0 row51\" >51</th>\n",
       "                        <td id=\"T_bff65_row51_col0\" class=\"data row51 col0\" >RandomForestClassifier</td>\n",
       "                        <td id=\"T_bff65_row51_col1\" class=\"data row51 col1\" >{'random_state': 12345, 'n_estimators': 20, 'max_depth': 6}</td>\n",
       "                        <td id=\"T_bff65_row51_col2\" class=\"data row51 col2\" >0.858000</td>\n",
       "                        <td id=\"T_bff65_row51_col3\" class=\"data row51 col3\" >0.534426</td>\n",
       "                        <td id=\"T_bff65_row51_col4\" class=\"data row51 col4\" >0.847653</td>\n",
       "            </tr>\n",
       "            <tr>\n",
       "                        <th id=\"T_bff65_level0_row52\" class=\"row_heading level0 row52\" >52</th>\n",
       "                        <td id=\"T_bff65_row52_col0\" class=\"data row52 col0\" >RandomForestClassifier</td>\n",
       "                        <td id=\"T_bff65_row52_col1\" class=\"data row52 col1\" >{'random_state': 12345, 'n_estimators': 30, 'max_depth': 6}</td>\n",
       "                        <td id=\"T_bff65_row52_col2\" class=\"data row52 col2\" >0.855500</td>\n",
       "                        <td id=\"T_bff65_row52_col3\" class=\"data row52 col3\" >0.525452</td>\n",
       "                        <td id=\"T_bff65_row52_col4\" class=\"data row52 col4\" >0.848137</td>\n",
       "            </tr>\n",
       "            <tr>\n",
       "                        <th id=\"T_bff65_level0_row53\" class=\"row_heading level0 row53\" >53</th>\n",
       "                        <td id=\"T_bff65_row53_col0\" class=\"data row53 col0\" >RandomForestClassifier</td>\n",
       "                        <td id=\"T_bff65_row53_col1\" class=\"data row53 col1\" >{'random_state': 12345, 'n_estimators': 40, 'max_depth': 6}</td>\n",
       "                        <td id=\"T_bff65_row53_col2\" class=\"data row53 col2\" >0.858500</td>\n",
       "                        <td id=\"T_bff65_row53_col3\" class=\"data row53 col3\" >0.533773</td>\n",
       "                        <td id=\"T_bff65_row53_col4\" class=\"data row53 col4\" >0.850388</td>\n",
       "            </tr>\n",
       "            <tr>\n",
       "                        <th id=\"T_bff65_level0_row54\" class=\"row_heading level0 row54\" >54</th>\n",
       "                        <td id=\"T_bff65_row54_col0\" class=\"data row54 col0\" >RandomForestClassifier</td>\n",
       "                        <td id=\"T_bff65_row54_col1\" class=\"data row54 col1\" >{'random_state': 12345, 'n_estimators': 50, 'max_depth': 6}</td>\n",
       "                        <td id=\"T_bff65_row54_col2\" class=\"data row54 col2\" >0.858500</td>\n",
       "                        <td id=\"T_bff65_row54_col3\" class=\"data row54 col3\" >0.533773</td>\n",
       "                        <td id=\"T_bff65_row54_col4\" class=\"data row54 col4\" >0.849716</td>\n",
       "            </tr>\n",
       "            <tr>\n",
       "                        <th id=\"T_bff65_level0_row55\" class=\"row_heading level0 row55\" >55</th>\n",
       "                        <td id=\"T_bff65_row55_col0\" class=\"data row55 col0\" >RandomForestClassifier</td>\n",
       "                        <td id=\"T_bff65_row55_col1\" class=\"data row55 col1\" >{'random_state': 12345, 'n_estimators': 60, 'max_depth': 6}</td>\n",
       "                        <td id=\"T_bff65_row55_col2\" class=\"data row55 col2\" >0.859500</td>\n",
       "                        <td id=\"T_bff65_row55_col3\" class=\"data row55 col3\" >0.537068</td>\n",
       "                        <td id=\"T_bff65_row55_col4\" class=\"data row55 col4\" >0.850852</td>\n",
       "            </tr>\n",
       "            <tr>\n",
       "                        <th id=\"T_bff65_level0_row56\" class=\"row_heading level0 row56\" >56</th>\n",
       "                        <td id=\"T_bff65_row56_col0\" class=\"data row56 col0\" >RandomForestClassifier</td>\n",
       "                        <td id=\"T_bff65_row56_col1\" class=\"data row56 col1\" >{'random_state': 12345, 'n_estimators': 70, 'max_depth': 6}</td>\n",
       "                        <td id=\"T_bff65_row56_col2\" class=\"data row56 col2\" >0.860500</td>\n",
       "                        <td id=\"T_bff65_row56_col3\" class=\"data row56 col3\" >0.540362</td>\n",
       "                        <td id=\"T_bff65_row56_col4\" class=\"data row56 col4\" >0.850509</td>\n",
       "            </tr>\n",
       "            <tr>\n",
       "                        <th id=\"T_bff65_level0_row57\" class=\"row_heading level0 row57\" >57</th>\n",
       "                        <td id=\"T_bff65_row57_col0\" class=\"data row57 col0\" >RandomForestClassifier</td>\n",
       "                        <td id=\"T_bff65_row57_col1\" class=\"data row57 col1\" >{'random_state': 12345, 'n_estimators': 80, 'max_depth': 6}</td>\n",
       "                        <td id=\"T_bff65_row57_col2\" class=\"data row57 col2\" >0.859000</td>\n",
       "                        <td id=\"T_bff65_row57_col3\" class=\"data row57 col3\" >0.534653</td>\n",
       "                        <td id=\"T_bff65_row57_col4\" class=\"data row57 col4\" >0.850878</td>\n",
       "            </tr>\n",
       "            <tr>\n",
       "                        <th id=\"T_bff65_level0_row58\" class=\"row_heading level0 row58\" >58</th>\n",
       "                        <td id=\"T_bff65_row58_col0\" class=\"data row58 col0\" >RandomForestClassifier</td>\n",
       "                        <td id=\"T_bff65_row58_col1\" class=\"data row58 col1\" >{'random_state': 12345, 'n_estimators': 90, 'max_depth': 6}</td>\n",
       "                        <td id=\"T_bff65_row58_col2\" class=\"data row58 col2\" >0.859000</td>\n",
       "                        <td id=\"T_bff65_row58_col3\" class=\"data row58 col3\" >0.536184</td>\n",
       "                        <td id=\"T_bff65_row58_col4\" class=\"data row58 col4\" >0.850943</td>\n",
       "            </tr>\n",
       "            <tr>\n",
       "                        <th id=\"T_bff65_level0_row59\" class=\"row_heading level0 row59\" >59</th>\n",
       "                        <td id=\"T_bff65_row59_col0\" class=\"data row59 col0\" >RandomForestClassifier</td>\n",
       "                        <td id=\"T_bff65_row59_col1\" class=\"data row59 col1\" >{'random_state': 12345, 'n_estimators': 100, 'max_depth': 6}</td>\n",
       "                        <td id=\"T_bff65_row59_col2\" class=\"data row59 col2\" >0.858500</td>\n",
       "                        <td id=\"T_bff65_row59_col3\" class=\"data row59 col3\" >0.533773</td>\n",
       "                        <td id=\"T_bff65_row59_col4\" class=\"data row59 col4\" >0.851477</td>\n",
       "            </tr>\n",
       "            <tr>\n",
       "                        <th id=\"T_bff65_level0_row60\" class=\"row_heading level0 row60\" >60</th>\n",
       "                        <td id=\"T_bff65_row60_col0\" class=\"data row60 col0\" >RandomForestClassifier</td>\n",
       "                        <td id=\"T_bff65_row60_col1\" class=\"data row60 col1\" >{'random_state': 12345, 'n_estimators': 10, 'max_depth': 7}</td>\n",
       "                        <td id=\"T_bff65_row60_col2\" class=\"data row60 col2\" >0.855500</td>\n",
       "                        <td id=\"T_bff65_row60_col3\" class=\"data row60 col3\" >0.553323</td>\n",
       "                        <td id=\"T_bff65_row60_col4\" class=\"data row60 col4\" >0.845388</td>\n",
       "            </tr>\n",
       "            <tr>\n",
       "                        <th id=\"T_bff65_level0_row61\" class=\"row_heading level0 row61\" >61</th>\n",
       "                        <td id=\"T_bff65_row61_col0\" class=\"data row61 col0\" >RandomForestClassifier</td>\n",
       "                        <td id=\"T_bff65_row61_col1\" class=\"data row61 col1\" >{'random_state': 12345, 'n_estimators': 20, 'max_depth': 7}</td>\n",
       "                        <td id=\"T_bff65_row61_col2\" class=\"data row61 col2\" >0.858500</td>\n",
       "                        <td id=\"T_bff65_row61_col3\" class=\"data row61 col3\" >0.555730</td>\n",
       "                        <td id=\"T_bff65_row61_col4\" class=\"data row61 col4\" >0.847650</td>\n",
       "            </tr>\n",
       "            <tr>\n",
       "                        <th id=\"T_bff65_level0_row62\" class=\"row_heading level0 row62\" >62</th>\n",
       "                        <td id=\"T_bff65_row62_col0\" class=\"data row62 col0\" >RandomForestClassifier</td>\n",
       "                        <td id=\"T_bff65_row62_col1\" class=\"data row62 col1\" >{'random_state': 12345, 'n_estimators': 30, 'max_depth': 7}</td>\n",
       "                        <td id=\"T_bff65_row62_col2\" class=\"data row62 col2\" >0.856500</td>\n",
       "                        <td id=\"T_bff65_row62_col3\" class=\"data row62 col3\" >0.540800</td>\n",
       "                        <td id=\"T_bff65_row62_col4\" class=\"data row62 col4\" >0.849549</td>\n",
       "            </tr>\n",
       "            <tr>\n",
       "                        <th id=\"T_bff65_level0_row63\" class=\"row_heading level0 row63\" >63</th>\n",
       "                        <td id=\"T_bff65_row63_col0\" class=\"data row63 col0\" >RandomForestClassifier</td>\n",
       "                        <td id=\"T_bff65_row63_col1\" class=\"data row63 col1\" >{'random_state': 12345, 'n_estimators': 40, 'max_depth': 7}</td>\n",
       "                        <td id=\"T_bff65_row63_col2\" class=\"data row63 col2\" >0.858000</td>\n",
       "                        <td id=\"T_bff65_row63_col3\" class=\"data row63 col3\" >0.544872</td>\n",
       "                        <td id=\"T_bff65_row63_col4\" class=\"data row63 col4\" >0.851048</td>\n",
       "            </tr>\n",
       "            <tr>\n",
       "                        <th id=\"T_bff65_level0_row64\" class=\"row_heading level0 row64\" >64</th>\n",
       "                        <td id=\"T_bff65_row64_col0\" class=\"data row64 col0\" >RandomForestClassifier</td>\n",
       "                        <td id=\"T_bff65_row64_col1\" class=\"data row64 col1\" >{'random_state': 12345, 'n_estimators': 50, 'max_depth': 7}</td>\n",
       "                        <td id=\"T_bff65_row64_col2\" class=\"data row64 col2\" >0.861500</td>\n",
       "                        <td id=\"T_bff65_row64_col3\" class=\"data row64 col3\" >0.558214</td>\n",
       "                        <td id=\"T_bff65_row64_col4\" class=\"data row64 col4\" >0.851291</td>\n",
       "            </tr>\n",
       "            <tr>\n",
       "                        <th id=\"T_bff65_level0_row65\" class=\"row_heading level0 row65\" >65</th>\n",
       "                        <td id=\"T_bff65_row65_col0\" class=\"data row65 col0\" >RandomForestClassifier</td>\n",
       "                        <td id=\"T_bff65_row65_col1\" class=\"data row65 col1\" >{'random_state': 12345, 'n_estimators': 60, 'max_depth': 7}</td>\n",
       "                        <td id=\"T_bff65_row65_col2\" class=\"data row65 col2\" >0.861000</td>\n",
       "                        <td id=\"T_bff65_row65_col3\" class=\"data row65 col3\" >0.555911</td>\n",
       "                        <td id=\"T_bff65_row65_col4\" class=\"data row65 col4\" >0.852854</td>\n",
       "            </tr>\n",
       "            <tr>\n",
       "                        <th id=\"T_bff65_level0_row66\" class=\"row_heading level0 row66\" >66</th>\n",
       "                        <td id=\"T_bff65_row66_col0\" class=\"data row66 col0\" >RandomForestClassifier</td>\n",
       "                        <td id=\"T_bff65_row66_col1\" class=\"data row66 col1\" >{'random_state': 12345, 'n_estimators': 70, 'max_depth': 7}</td>\n",
       "                        <td id=\"T_bff65_row66_col2\" class=\"data row66 col2\" >0.863000</td>\n",
       "                        <td id=\"T_bff65_row66_col3\" class=\"data row66 col3\" >0.565079</td>\n",
       "                        <td id=\"T_bff65_row66_col4\" class=\"data row66 col4\" >0.853063</td>\n",
       "            </tr>\n",
       "            <tr>\n",
       "                        <th id=\"T_bff65_level0_row67\" class=\"row_heading level0 row67\" >67</th>\n",
       "                        <td id=\"T_bff65_row67_col0\" class=\"data row67 col0\" >RandomForestClassifier</td>\n",
       "                        <td id=\"T_bff65_row67_col1\" class=\"data row67 col1\" >{'random_state': 12345, 'n_estimators': 80, 'max_depth': 7}</td>\n",
       "                        <td id=\"T_bff65_row67_col2\" class=\"data row67 col2\" >0.861500</td>\n",
       "                        <td id=\"T_bff65_row67_col3\" class=\"data row67 col3\" >0.556800</td>\n",
       "                        <td id=\"T_bff65_row67_col4\" class=\"data row67 col4\" >0.853459</td>\n",
       "            </tr>\n",
       "            <tr>\n",
       "                        <th id=\"T_bff65_level0_row68\" class=\"row_heading level0 row68\" >68</th>\n",
       "                        <td id=\"T_bff65_row68_col0\" class=\"data row68 col0\" >RandomForestClassifier</td>\n",
       "                        <td id=\"T_bff65_row68_col1\" class=\"data row68 col1\" >{'random_state': 12345, 'n_estimators': 90, 'max_depth': 7}</td>\n",
       "                        <td id=\"T_bff65_row68_col2\" class=\"data row68 col2\" >0.861500</td>\n",
       "                        <td id=\"T_bff65_row68_col3\" class=\"data row68 col3\" >0.555377</td>\n",
       "                        <td id=\"T_bff65_row68_col4\" class=\"data row68 col4\" >0.853470</td>\n",
       "            </tr>\n",
       "            <tr>\n",
       "                        <th id=\"T_bff65_level0_row69\" class=\"row_heading level0 row69\" >69</th>\n",
       "                        <td id=\"T_bff65_row69_col0\" class=\"data row69 col0\" >RandomForestClassifier</td>\n",
       "                        <td id=\"T_bff65_row69_col1\" class=\"data row69 col1\" >{'random_state': 12345, 'n_estimators': 100, 'max_depth': 7}</td>\n",
       "                        <td id=\"T_bff65_row69_col2\" class=\"data row69 col2\" >0.860500</td>\n",
       "                        <td id=\"T_bff65_row69_col3\" class=\"data row69 col3\" >0.552167</td>\n",
       "                        <td id=\"T_bff65_row69_col4\" class=\"data row69 col4\" >0.853374</td>\n",
       "            </tr>\n",
       "            <tr>\n",
       "                        <th id=\"T_bff65_level0_row70\" class=\"row_heading level0 row70\" >70</th>\n",
       "                        <td id=\"T_bff65_row70_col0\" class=\"data row70 col0\" >RandomForestClassifier</td>\n",
       "                        <td id=\"T_bff65_row70_col1\" class=\"data row70 col1\" >{'random_state': 12345, 'n_estimators': 10, 'max_depth': 8}</td>\n",
       "                        <td id=\"T_bff65_row70_col2\" class=\"data row70 col2\" >0.859000</td>\n",
       "                        <td id=\"T_bff65_row70_col3\" class=\"data row70 col3\" >0.566154</td>\n",
       "                        <td id=\"T_bff65_row70_col4\" class=\"data row70 col4\" >0.843982</td>\n",
       "            </tr>\n",
       "            <tr>\n",
       "                        <th id=\"T_bff65_level0_row71\" class=\"row_heading level0 row71\" >71</th>\n",
       "                        <td id=\"T_bff65_row71_col0\" class=\"data row71 col0\" >RandomForestClassifier</td>\n",
       "                        <td id=\"T_bff65_row71_col1\" class=\"data row71 col1\" >{'random_state': 12345, 'n_estimators': 20, 'max_depth': 8}</td>\n",
       "                        <td id=\"T_bff65_row71_col2\" class=\"data row71 col2\" >0.859500</td>\n",
       "                        <td id=\"T_bff65_row71_col3\" class=\"data row71 col3\" >0.562986</td>\n",
       "                        <td id=\"T_bff65_row71_col4\" class=\"data row71 col4\" >0.847744</td>\n",
       "            </tr>\n",
       "            <tr>\n",
       "                        <th id=\"T_bff65_level0_row72\" class=\"row_heading level0 row72\" >72</th>\n",
       "                        <td id=\"T_bff65_row72_col0\" class=\"data row72 col0\" >RandomForestClassifier</td>\n",
       "                        <td id=\"T_bff65_row72_col1\" class=\"data row72 col1\" >{'random_state': 12345, 'n_estimators': 30, 'max_depth': 8}</td>\n",
       "                        <td id=\"T_bff65_row72_col2\" class=\"data row72 col2\" >0.860500</td>\n",
       "                        <td id=\"T_bff65_row72_col3\" class=\"data row72 col3\" >0.562009</td>\n",
       "                        <td id=\"T_bff65_row72_col4\" class=\"data row72 col4\" >0.849273</td>\n",
       "            </tr>\n",
       "            <tr>\n",
       "                        <th id=\"T_bff65_level0_row73\" class=\"row_heading level0 row73\" >73</th>\n",
       "                        <td id=\"T_bff65_row73_col0\" class=\"data row73 col0\" >RandomForestClassifier</td>\n",
       "                        <td id=\"T_bff65_row73_col1\" class=\"data row73 col1\" >{'random_state': 12345, 'n_estimators': 40, 'max_depth': 8}</td>\n",
       "                        <td id=\"T_bff65_row73_col2\" class=\"data row73 col2\" >0.863500</td>\n",
       "                        <td id=\"T_bff65_row73_col3\" class=\"data row73 col3\" >0.570079</td>\n",
       "                        <td id=\"T_bff65_row73_col4\" class=\"data row73 col4\" >0.851708</td>\n",
       "            </tr>\n",
       "            <tr>\n",
       "                        <th id=\"T_bff65_level0_row74\" class=\"row_heading level0 row74\" >74</th>\n",
       "                        <td id=\"T_bff65_row74_col0\" class=\"data row74 col0\" >RandomForestClassifier</td>\n",
       "                        <td id=\"T_bff65_row74_col1\" class=\"data row74 col1\" >{'random_state': 12345, 'n_estimators': 50, 'max_depth': 8}</td>\n",
       "                        <td id=\"T_bff65_row74_col2\" class=\"data row74 col2\" >0.860500</td>\n",
       "                        <td id=\"T_bff65_row74_col3\" class=\"data row74 col3\" >0.557845</td>\n",
       "                        <td id=\"T_bff65_row74_col4\" class=\"data row74 col4\" >0.851634</td>\n",
       "            </tr>\n",
       "            <tr>\n",
       "                        <th id=\"T_bff65_level0_row75\" class=\"row_heading level0 row75\" >75</th>\n",
       "                        <td id=\"T_bff65_row75_col0\" class=\"data row75 col0\" >RandomForestClassifier</td>\n",
       "                        <td id=\"T_bff65_row75_col1\" class=\"data row75 col1\" >{'random_state': 12345, 'n_estimators': 60, 'max_depth': 8}</td>\n",
       "                        <td id=\"T_bff65_row75_col2\" class=\"data row75 col2\" >0.862000</td>\n",
       "                        <td id=\"T_bff65_row75_col3\" class=\"data row75 col3\" >0.564669</td>\n",
       "                        <td id=\"T_bff65_row75_col4\" class=\"data row75 col4\" >0.852098</td>\n",
       "            </tr>\n",
       "            <tr>\n",
       "                        <th id=\"T_bff65_level0_row76\" class=\"row_heading level0 row76\" >76</th>\n",
       "                        <td id=\"T_bff65_row76_col0\" class=\"data row76 col0\" >RandomForestClassifier</td>\n",
       "                        <td id=\"T_bff65_row76_col1\" class=\"data row76 col1\" >{'random_state': 12345, 'n_estimators': 70, 'max_depth': 8}</td>\n",
       "                        <td id=\"T_bff65_row76_col2\" class=\"data row76 col2\" >0.861000</td>\n",
       "                        <td id=\"T_bff65_row76_col3\" class=\"data row76 col3\" >0.558730</td>\n",
       "                        <td id=\"T_bff65_row76_col4\" class=\"data row76 col4\" >0.852617</td>\n",
       "            </tr>\n",
       "            <tr>\n",
       "                        <th id=\"T_bff65_level0_row77\" class=\"row_heading level0 row77\" >77</th>\n",
       "                        <td id=\"T_bff65_row77_col0\" class=\"data row77 col0\" >RandomForestClassifier</td>\n",
       "                        <td id=\"T_bff65_row77_col1\" class=\"data row77 col1\" >{'random_state': 12345, 'n_estimators': 80, 'max_depth': 8}</td>\n",
       "                        <td id=\"T_bff65_row77_col2\" class=\"data row77 col2\" >0.860000</td>\n",
       "                        <td id=\"T_bff65_row77_col3\" class=\"data row77 col3\" >0.555556</td>\n",
       "                        <td id=\"T_bff65_row77_col4\" class=\"data row77 col4\" >0.853569</td>\n",
       "            </tr>\n",
       "            <tr>\n",
       "                        <th id=\"T_bff65_level0_row78\" class=\"row_heading level0 row78\" >78</th>\n",
       "                        <td id=\"T_bff65_row78_col0\" class=\"data row78 col0\" >RandomForestClassifier</td>\n",
       "                        <td id=\"T_bff65_row78_col1\" class=\"data row78 col1\" >{'random_state': 12345, 'n_estimators': 90, 'max_depth': 8}</td>\n",
       "                        <td id=\"T_bff65_row78_col2\" class=\"data row78 col2\" >0.860000</td>\n",
       "                        <td id=\"T_bff65_row78_col3\" class=\"data row78 col3\" >0.555556</td>\n",
       "                        <td id=\"T_bff65_row78_col4\" class=\"data row78 col4\" >0.853013</td>\n",
       "            </tr>\n",
       "            <tr>\n",
       "                        <th id=\"T_bff65_level0_row79\" class=\"row_heading level0 row79\" >79</th>\n",
       "                        <td id=\"T_bff65_row79_col0\" class=\"data row79 col0\" >RandomForestClassifier</td>\n",
       "                        <td id=\"T_bff65_row79_col1\" class=\"data row79 col1\" >{'random_state': 12345, 'n_estimators': 100, 'max_depth': 8}</td>\n",
       "                        <td id=\"T_bff65_row79_col2\" class=\"data row79 col2\" >0.859000</td>\n",
       "                        <td id=\"T_bff65_row79_col3\" class=\"data row79 col3\" >0.552381</td>\n",
       "                        <td id=\"T_bff65_row79_col4\" class=\"data row79 col4\" >0.854058</td>\n",
       "            </tr>\n",
       "            <tr>\n",
       "                        <th id=\"T_bff65_level0_row80\" class=\"row_heading level0 row80\" >80</th>\n",
       "                        <td id=\"T_bff65_row80_col0\" class=\"data row80 col0\" >RandomForestClassifier</td>\n",
       "                        <td id=\"T_bff65_row80_col1\" class=\"data row80 col1\" >{'random_state': 12345, 'n_estimators': 10, 'max_depth': 9}</td>\n",
       "                        <td id=\"T_bff65_row80_col2\" class=\"data row80 col2\" >0.858000</td>\n",
       "                        <td id=\"T_bff65_row80_col3\" class=\"data row80 col3\" >0.556250</td>\n",
       "                        <td id=\"T_bff65_row80_col4\" class=\"data row80 col4\" >0.845727</td>\n",
       "            </tr>\n",
       "            <tr>\n",
       "                        <th id=\"T_bff65_level0_row81\" class=\"row_heading level0 row81\" >81</th>\n",
       "                        <td id=\"T_bff65_row81_col0\" class=\"data row81 col0\" >RandomForestClassifier</td>\n",
       "                        <td id=\"T_bff65_row81_col1\" class=\"data row81 col1\" >{'random_state': 12345, 'n_estimators': 20, 'max_depth': 9}</td>\n",
       "                        <td id=\"T_bff65_row81_col2\" class=\"data row81 col2\" >0.858500</td>\n",
       "                        <td id=\"T_bff65_row81_col3\" class=\"data row81 col3\" >0.559876</td>\n",
       "                        <td id=\"T_bff65_row81_col4\" class=\"data row81 col4\" >0.845763</td>\n",
       "            </tr>\n",
       "            <tr>\n",
       "                        <th id=\"T_bff65_level0_row82\" class=\"row_heading level0 row82\" >82</th>\n",
       "                        <td id=\"T_bff65_row82_col0\" class=\"data row82 col0\" >RandomForestClassifier</td>\n",
       "                        <td id=\"T_bff65_row82_col1\" class=\"data row82 col1\" >{'random_state': 12345, 'n_estimators': 30, 'max_depth': 9}</td>\n",
       "                        <td id=\"T_bff65_row82_col2\" class=\"data row82 col2\" >0.858500</td>\n",
       "                        <td id=\"T_bff65_row82_col3\" class=\"data row82 col3\" >0.554331</td>\n",
       "                        <td id=\"T_bff65_row82_col4\" class=\"data row82 col4\" >0.848476</td>\n",
       "            </tr>\n",
       "            <tr>\n",
       "                        <th id=\"T_bff65_level0_row83\" class=\"row_heading level0 row83\" >83</th>\n",
       "                        <td id=\"T_bff65_row83_col0\" class=\"data row83 col0\" >RandomForestClassifier</td>\n",
       "                        <td id=\"T_bff65_row83_col1\" class=\"data row83 col1\" >{'random_state': 12345, 'n_estimators': 40, 'max_depth': 9}</td>\n",
       "                        <td id=\"T_bff65_row83_col2\" class=\"data row83 col2\" >0.860000</td>\n",
       "                        <td id=\"T_bff65_row83_col3\" class=\"data row83 col3\" >0.559748</td>\n",
       "                        <td id=\"T_bff65_row83_col4\" class=\"data row83 col4\" >0.850191</td>\n",
       "            </tr>\n",
       "            <tr>\n",
       "                        <th id=\"T_bff65_level0_row84\" class=\"row_heading level0 row84\" >84</th>\n",
       "                        <td id=\"T_bff65_row84_col0\" class=\"data row84 col0\" >RandomForestClassifier</td>\n",
       "                        <td id=\"T_bff65_row84_col1\" class=\"data row84 col1\" >{'random_state': 12345, 'n_estimators': 50, 'max_depth': 9}</td>\n",
       "                        <td id=\"T_bff65_row84_col2\" class=\"data row84 col2\" >0.863000</td>\n",
       "                        <td id=\"T_bff65_row84_col3\" class=\"data row84 col3\" >0.566456</td>\n",
       "                        <td id=\"T_bff65_row84_col4\" class=\"data row84 col4\" >0.850391</td>\n",
       "            </tr>\n",
       "            <tr>\n",
       "                        <th id=\"T_bff65_level0_row85\" class=\"row_heading level0 row85\" >85</th>\n",
       "                        <td id=\"T_bff65_row85_col0\" class=\"data row85 col0\" >RandomForestClassifier</td>\n",
       "                        <td id=\"T_bff65_row85_col1\" class=\"data row85 col1\" >{'random_state': 12345, 'n_estimators': 60, 'max_depth': 9}</td>\n",
       "                        <td id=\"T_bff65_row85_col2\" class=\"data row85 col2\" >0.862500</td>\n",
       "                        <td id=\"T_bff65_row85_col3\" class=\"data row85 col3\" >0.562798</td>\n",
       "                        <td id=\"T_bff65_row85_col4\" class=\"data row85 col4\" >0.851572</td>\n",
       "            </tr>\n",
       "            <tr>\n",
       "                        <th id=\"T_bff65_level0_row86\" class=\"row_heading level0 row86\" >86</th>\n",
       "                        <td id=\"T_bff65_row86_col0\" class=\"data row86 col0\" >RandomForestClassifier</td>\n",
       "                        <td id=\"T_bff65_row86_col1\" class=\"data row86 col1\" >{'random_state': 12345, 'n_estimators': 70, 'max_depth': 9}</td>\n",
       "                        <td id=\"T_bff65_row86_col2\" class=\"data row86 col2\" >0.861000</td>\n",
       "                        <td id=\"T_bff65_row86_col3\" class=\"data row86 col3\" >0.560127</td>\n",
       "                        <td id=\"T_bff65_row86_col4\" class=\"data row86 col4\" >0.851570</td>\n",
       "            </tr>\n",
       "            <tr>\n",
       "                        <th id=\"T_bff65_level0_row87\" class=\"row_heading level0 row87\" >87</th>\n",
       "                        <td id=\"T_bff65_row87_col0\" class=\"data row87 col0\" >RandomForestClassifier</td>\n",
       "                        <td id=\"T_bff65_row87_col1\" class=\"data row87 col1\" >{'random_state': 12345, 'n_estimators': 80, 'max_depth': 9}</td>\n",
       "                        <td id=\"T_bff65_row87_col2\" class=\"data row87 col2\" >0.862500</td>\n",
       "                        <td id=\"T_bff65_row87_col3\" class=\"data row87 col3\" >0.564184</td>\n",
       "                        <td id=\"T_bff65_row87_col4\" class=\"data row87 col4\" >0.852210</td>\n",
       "            </tr>\n",
       "            <tr>\n",
       "                        <th id=\"T_bff65_level0_row88\" class=\"row_heading level0 row88\" >88</th>\n",
       "                        <td id=\"T_bff65_row88_col0\" class=\"data row88 col0\" >RandomForestClassifier</td>\n",
       "                        <td id=\"T_bff65_row88_col1\" class=\"data row88 col1\" >{'random_state': 12345, 'n_estimators': 90, 'max_depth': 9}</td>\n",
       "                        <td id=\"T_bff65_row88_col2\" class=\"data row88 col2\" >0.863500</td>\n",
       "                        <td id=\"T_bff65_row88_col3\" class=\"data row88 col3\" >0.568720</td>\n",
       "                        <td id=\"T_bff65_row88_col4\" class=\"data row88 col4\" >0.852248</td>\n",
       "            </tr>\n",
       "            <tr>\n",
       "                        <th id=\"T_bff65_level0_row89\" class=\"row_heading level0 row89\" >89</th>\n",
       "                        <td id=\"T_bff65_row89_col0\" class=\"data row89 col0\" >RandomForestClassifier</td>\n",
       "                        <td id=\"T_bff65_row89_col1\" class=\"data row89 col1\" >{'random_state': 12345, 'n_estimators': 100, 'max_depth': 9}</td>\n",
       "                        <td id=\"T_bff65_row89_col2\" class=\"data row89 col2\" >0.863500</td>\n",
       "                        <td id=\"T_bff65_row89_col3\" class=\"data row89 col3\" >0.570079</td>\n",
       "                        <td id=\"T_bff65_row89_col4\" class=\"data row89 col4\" >0.853408</td>\n",
       "            </tr>\n",
       "            <tr>\n",
       "                        <th id=\"T_bff65_level0_row90\" class=\"row_heading level0 row90\" >90</th>\n",
       "                        <td id=\"T_bff65_row90_col0\" class=\"data row90 col0\" >RandomForestClassifier</td>\n",
       "                        <td id=\"T_bff65_row90_col1\" class=\"data row90 col1\" >{'random_state': 12345, 'n_estimators': 10, 'max_depth': 10}</td>\n",
       "                        <td id=\"T_bff65_row90_col2\" class=\"data row90 col2\" >0.858000</td>\n",
       "                        <td id=\"T_bff65_row90_col3\" class=\"data row90 col3\" >0.569697</td>\n",
       "                        <td id=\"T_bff65_row90_col4\" class=\"data row90 col4\" >0.838575</td>\n",
       "            </tr>\n",
       "            <tr>\n",
       "                        <th id=\"T_bff65_level0_row91\" class=\"row_heading level0 row91\" >91</th>\n",
       "                        <td id=\"T_bff65_row91_col0\" class=\"data row91 col0\" >RandomForestClassifier</td>\n",
       "                        <td id=\"T_bff65_row91_col1\" class=\"data row91 col1\" >{'random_state': 12345, 'n_estimators': 20, 'max_depth': 10}</td>\n",
       "                        <td id=\"T_bff65_row91_col2\" class=\"data row91 col2\" >0.860500</td>\n",
       "                        <td id=\"T_bff65_row91_col3\" class=\"data row91 col3\" >0.570108</td>\n",
       "                        <td id=\"T_bff65_row91_col4\" class=\"data row91 col4\" >0.843005</td>\n",
       "            </tr>\n",
       "            <tr>\n",
       "                        <th id=\"T_bff65_level0_row92\" class=\"row_heading level0 row92\" >92</th>\n",
       "                        <td id=\"T_bff65_row92_col0\" class=\"data row92 col0\" >RandomForestClassifier</td>\n",
       "                        <td id=\"T_bff65_row92_col1\" class=\"data row92 col1\" >{'random_state': 12345, 'n_estimators': 30, 'max_depth': 10}</td>\n",
       "                        <td id=\"T_bff65_row92_col2\" class=\"data row92 col2\" >0.858500</td>\n",
       "                        <td id=\"T_bff65_row92_col3\" class=\"data row92 col3\" >0.561240</td>\n",
       "                        <td id=\"T_bff65_row92_col4\" class=\"data row92 col4\" >0.843799</td>\n",
       "            </tr>\n",
       "            <tr>\n",
       "                        <th id=\"T_bff65_level0_row93\" class=\"row_heading level0 row93\" >93</th>\n",
       "                        <td id=\"T_bff65_row93_col0\" class=\"data row93 col0\" >RandomForestClassifier</td>\n",
       "                        <td id=\"T_bff65_row93_col1\" class=\"data row93 col1\" >{'random_state': 12345, 'n_estimators': 40, 'max_depth': 10}</td>\n",
       "                        <td id=\"T_bff65_row93_col2\" class=\"data row93 col2\" >0.860500</td>\n",
       "                        <td id=\"T_bff65_row93_col3\" class=\"data row93 col3\" >0.567442</td>\n",
       "                        <td id=\"T_bff65_row93_col4\" class=\"data row93 col4\" >0.844313</td>\n",
       "            </tr>\n",
       "            <tr>\n",
       "                        <th id=\"T_bff65_level0_row94\" class=\"row_heading level0 row94\" >94</th>\n",
       "                        <td id=\"T_bff65_row94_col0\" class=\"data row94 col0\" >RandomForestClassifier</td>\n",
       "                        <td id=\"T_bff65_row94_col1\" class=\"data row94 col1\" >{'random_state': 12345, 'n_estimators': 50, 'max_depth': 10}</td>\n",
       "                        <td id=\"T_bff65_row94_col2\" class=\"data row94 col2\" >0.862000</td>\n",
       "                        <td id=\"T_bff65_row94_col3\" class=\"data row94 col3\" >0.574074</td>\n",
       "                        <td id=\"T_bff65_row94_col4\" class=\"data row94 col4\" >0.847167</td>\n",
       "            </tr>\n",
       "            <tr>\n",
       "                        <th id=\"T_bff65_level0_row95\" class=\"row_heading level0 row95\" >95</th>\n",
       "                        <td id=\"T_bff65_row95_col0\" class=\"data row95 col0\" >RandomForestClassifier</td>\n",
       "                        <td id=\"T_bff65_row95_col1\" class=\"data row95 col1\" >{'random_state': 12345, 'n_estimators': 60, 'max_depth': 10}</td>\n",
       "                        <td id=\"T_bff65_row95_col2\" class=\"data row95 col2\" >0.861000</td>\n",
       "                        <td id=\"T_bff65_row95_col3\" class=\"data row95 col3\" >0.566978</td>\n",
       "                        <td id=\"T_bff65_row95_col4\" class=\"data row95 col4\" >0.848210</td>\n",
       "            </tr>\n",
       "            <tr>\n",
       "                        <th id=\"T_bff65_level0_row96\" class=\"row_heading level0 row96\" >96</th>\n",
       "                        <td id=\"T_bff65_row96_col0\" class=\"data row96 col0\" >RandomForestClassifier</td>\n",
       "                        <td id=\"T_bff65_row96_col1\" class=\"data row96 col1\" >{'random_state': 12345, 'n_estimators': 70, 'max_depth': 10}</td>\n",
       "                        <td id=\"T_bff65_row96_col2\" class=\"data row96 col2\" >0.863500</td>\n",
       "                        <td id=\"T_bff65_row96_col3\" class=\"data row96 col3\" >0.574103</td>\n",
       "                        <td id=\"T_bff65_row96_col4\" class=\"data row96 col4\" >0.848496</td>\n",
       "            </tr>\n",
       "            <tr>\n",
       "                        <th id=\"T_bff65_level0_row97\" class=\"row_heading level0 row97\" >97</th>\n",
       "                        <td id=\"T_bff65_row97_col0\" class=\"data row97 col0\" >RandomForestClassifier</td>\n",
       "                        <td id=\"T_bff65_row97_col1\" class=\"data row97 col1\" >{'random_state': 12345, 'n_estimators': 80, 'max_depth': 10}</td>\n",
       "                        <td id=\"T_bff65_row97_col2\" class=\"data row97 col2\" >0.863000</td>\n",
       "                        <td id=\"T_bff65_row97_col3\" class=\"data row97 col3\" >0.571875</td>\n",
       "                        <td id=\"T_bff65_row97_col4\" class=\"data row97 col4\" >0.849482</td>\n",
       "            </tr>\n",
       "            <tr>\n",
       "                        <th id=\"T_bff65_level0_row98\" class=\"row_heading level0 row98\" >98</th>\n",
       "                        <td id=\"T_bff65_row98_col0\" class=\"data row98 col0\" >RandomForestClassifier</td>\n",
       "                        <td id=\"T_bff65_row98_col1\" class=\"data row98 col1\" >{'random_state': 12345, 'n_estimators': 90, 'max_depth': 10}</td>\n",
       "                        <td id=\"T_bff65_row98_col2\" class=\"data row98 col2\" >0.864000</td>\n",
       "                        <td id=\"T_bff65_row98_col3\" class=\"data row98 col3\" >0.572327</td>\n",
       "                        <td id=\"T_bff65_row98_col4\" class=\"data row98 col4\" >0.850342</td>\n",
       "            </tr>\n",
       "            <tr>\n",
       "                        <th id=\"T_bff65_level0_row99\" class=\"row_heading level0 row99\" >99</th>\n",
       "                        <td id=\"T_bff65_row99_col0\" class=\"data row99 col0\" >RandomForestClassifier</td>\n",
       "                        <td id=\"T_bff65_row99_col1\" class=\"data row99 col1\" >{'random_state': 12345, 'n_estimators': 100, 'max_depth': 10}</td>\n",
       "                        <td id=\"T_bff65_row99_col2\" class=\"data row99 col2\" >0.862500</td>\n",
       "                        <td id=\"T_bff65_row99_col3\" class=\"data row99 col3\" >0.568289</td>\n",
       "                        <td id=\"T_bff65_row99_col4\" class=\"data row99 col4\" >0.850788</td>\n",
       "            </tr>\n",
       "            <tr>\n",
       "                        <th id=\"T_bff65_level0_row100\" class=\"row_heading level0 row100\" >100</th>\n",
       "                        <td id=\"T_bff65_row100_col0\" class=\"data row100 col0\" >RandomForestClassifier</td>\n",
       "                        <td id=\"T_bff65_row100_col1\" class=\"data row100 col1\" >{'random_state': 12345, 'n_estimators': 10, 'max_depth': 11}</td>\n",
       "                        <td id=\"T_bff65_row100_col2\" class=\"data row100 col2\" >0.860500</td>\n",
       "                        <td id=\"T_bff65_row100_col3\" class=\"data row100 col3\" >0.575342</td>\n",
       "                        <td id=\"T_bff65_row100_col4\" class=\"data row100 col4\" >0.834713</td>\n",
       "            </tr>\n",
       "            <tr>\n",
       "                        <th id=\"T_bff65_level0_row101\" class=\"row_heading level0 row101\" >101</th>\n",
       "                        <td id=\"T_bff65_row101_col0\" class=\"data row101 col0\" >RandomForestClassifier</td>\n",
       "                        <td id=\"T_bff65_row101_col1\" class=\"data row101 col1\" >{'random_state': 12345, 'n_estimators': 20, 'max_depth': 11}</td>\n",
       "                        <td id=\"T_bff65_row101_col2\" class=\"data row101 col2\" >0.860500</td>\n",
       "                        <td id=\"T_bff65_row101_col3\" class=\"data row101 col3\" >0.577912</td>\n",
       "                        <td id=\"T_bff65_row101_col4\" class=\"data row101 col4\" >0.838934</td>\n",
       "            </tr>\n",
       "            <tr>\n",
       "                        <th id=\"T_bff65_level0_row102\" class=\"row_heading level0 row102\" >102</th>\n",
       "                        <td id=\"T_bff65_row102_col0\" class=\"data row102 col0\" >RandomForestClassifier</td>\n",
       "                        <td id=\"T_bff65_row102_col1\" class=\"data row102 col1\" >{'random_state': 12345, 'n_estimators': 30, 'max_depth': 11}</td>\n",
       "                        <td id=\"T_bff65_row102_col2\" class=\"data row102 col2\" >0.858000</td>\n",
       "                        <td id=\"T_bff65_row102_col3\" class=\"data row102 col3\" >0.565749</td>\n",
       "                        <td id=\"T_bff65_row102_col4\" class=\"data row102 col4\" >0.842912</td>\n",
       "            </tr>\n",
       "            <tr>\n",
       "                        <th id=\"T_bff65_level0_row103\" class=\"row_heading level0 row103\" >103</th>\n",
       "                        <td id=\"T_bff65_row103_col0\" class=\"data row103 col0\" >RandomForestClassifier</td>\n",
       "                        <td id=\"T_bff65_row103_col1\" class=\"data row103 col1\" >{'random_state': 12345, 'n_estimators': 40, 'max_depth': 11}</td>\n",
       "                        <td id=\"T_bff65_row103_col2\" class=\"data row103 col2\" >0.862000</td>\n",
       "                        <td id=\"T_bff65_row103_col3\" class=\"data row103 col3\" >0.579268</td>\n",
       "                        <td id=\"T_bff65_row103_col4\" class=\"data row103 col4\" >0.844990</td>\n",
       "            </tr>\n",
       "            <tr>\n",
       "                        <th id=\"T_bff65_level0_row104\" class=\"row_heading level0 row104\" >104</th>\n",
       "                        <td id=\"T_bff65_row104_col0\" class=\"data row104 col0\" >RandomForestClassifier</td>\n",
       "                        <td id=\"T_bff65_row104_col1\" class=\"data row104 col1\" >{'random_state': 12345, 'n_estimators': 50, 'max_depth': 11}</td>\n",
       "                        <td id=\"T_bff65_row104_col2\" class=\"data row104 col2\" >0.861500</td>\n",
       "                        <td id=\"T_bff65_row104_col3\" class=\"data row104 col3\" >0.575804</td>\n",
       "                        <td id=\"T_bff65_row104_col4\" class=\"data row104 col4\" >0.846603</td>\n",
       "            </tr>\n",
       "            <tr>\n",
       "                        <th id=\"T_bff65_level0_row105\" class=\"row_heading level0 row105\" >105</th>\n",
       "                        <td id=\"T_bff65_row105_col0\" class=\"data row105 col0\" >RandomForestClassifier</td>\n",
       "                        <td id=\"T_bff65_row105_col1\" class=\"data row105 col1\" >{'random_state': 12345, 'n_estimators': 60, 'max_depth': 11}</td>\n",
       "                        <td id=\"T_bff65_row105_col2\" class=\"data row105 col2\" >0.861000</td>\n",
       "                        <td id=\"T_bff65_row105_col3\" class=\"data row105 col3\" >0.572308</td>\n",
       "                        <td id=\"T_bff65_row105_col4\" class=\"data row105 col4\" >0.847648</td>\n",
       "            </tr>\n",
       "            <tr>\n",
       "                        <th id=\"T_bff65_level0_row106\" class=\"row_heading level0 row106\" >106</th>\n",
       "                        <td id=\"T_bff65_row106_col0\" class=\"data row106 col0\" >RandomForestClassifier</td>\n",
       "                        <td id=\"T_bff65_row106_col1\" class=\"data row106 col1\" >{'random_state': 12345, 'n_estimators': 70, 'max_depth': 11}</td>\n",
       "                        <td id=\"T_bff65_row106_col2\" class=\"data row106 col2\" >0.860500</td>\n",
       "                        <td id=\"T_bff65_row106_col3\" class=\"data row106 col3\" >0.567442</td>\n",
       "                        <td id=\"T_bff65_row106_col4\" class=\"data row106 col4\" >0.847639</td>\n",
       "            </tr>\n",
       "            <tr>\n",
       "                        <th id=\"T_bff65_level0_row107\" class=\"row_heading level0 row107\" >107</th>\n",
       "                        <td id=\"T_bff65_row107_col0\" class=\"data row107 col0\" >RandomForestClassifier</td>\n",
       "                        <td id=\"T_bff65_row107_col1\" class=\"data row107 col1\" >{'random_state': 12345, 'n_estimators': 80, 'max_depth': 11}</td>\n",
       "                        <td id=\"T_bff65_row107_col2\" class=\"data row107 col2\" >0.861000</td>\n",
       "                        <td id=\"T_bff65_row107_col3\" class=\"data row107 col3\" >0.570988</td>\n",
       "                        <td id=\"T_bff65_row107_col4\" class=\"data row107 col4\" >0.846197</td>\n",
       "            </tr>\n",
       "            <tr>\n",
       "                        <th id=\"T_bff65_level0_row108\" class=\"row_heading level0 row108\" >108</th>\n",
       "                        <td id=\"T_bff65_row108_col0\" class=\"data row108 col0\" >RandomForestClassifier</td>\n",
       "                        <td id=\"T_bff65_row108_col1\" class=\"data row108 col1\" >{'random_state': 12345, 'n_estimators': 90, 'max_depth': 11}</td>\n",
       "                        <td id=\"T_bff65_row108_col2\" class=\"data row108 col2\" >0.862000</td>\n",
       "                        <td id=\"T_bff65_row108_col3\" class=\"data row108 col3\" >0.572755</td>\n",
       "                        <td id=\"T_bff65_row108_col4\" class=\"data row108 col4\" >0.845748</td>\n",
       "            </tr>\n",
       "            <tr>\n",
       "                        <th id=\"T_bff65_level0_row109\" class=\"row_heading level0 row109\" >109</th>\n",
       "                        <td id=\"T_bff65_row109_col0\" class=\"data row109 col0\" >RandomForestClassifier</td>\n",
       "                        <td id=\"T_bff65_row109_col1\" class=\"data row109 col1\" >{'random_state': 12345, 'n_estimators': 100, 'max_depth': 11}</td>\n",
       "                        <td id=\"T_bff65_row109_col2\" class=\"data row109 col2\" >0.861500</td>\n",
       "                        <td id=\"T_bff65_row109_col3\" class=\"data row109 col3\" >0.571870</td>\n",
       "                        <td id=\"T_bff65_row109_col4\" class=\"data row109 col4\" >0.846220</td>\n",
       "            </tr>\n",
       "            <tr>\n",
       "                        <th id=\"T_bff65_level0_row110\" class=\"row_heading level0 row110\" >110</th>\n",
       "                        <td id=\"T_bff65_row110_col0\" class=\"data row110 col0\" >RandomForestClassifier</td>\n",
       "                        <td id=\"T_bff65_row110_col1\" class=\"data row110 col1\" >{'random_state': 12345, 'n_estimators': 10, 'max_depth': 12}</td>\n",
       "                        <td id=\"T_bff65_row110_col2\" class=\"data row110 col2\" >0.856000</td>\n",
       "                        <td id=\"T_bff65_row110_col3\" class=\"data row110 col3\" >0.580175</td>\n",
       "                        <td id=\"T_bff65_row110_col4\" class=\"data row110 col4\" >0.831457</td>\n",
       "            </tr>\n",
       "            <tr>\n",
       "                        <th id=\"T_bff65_level0_row111\" class=\"row_heading level0 row111\" >111</th>\n",
       "                        <td id=\"T_bff65_row111_col0\" class=\"data row111 col0\" >RandomForestClassifier</td>\n",
       "                        <td id=\"T_bff65_row111_col1\" class=\"data row111 col1\" >{'random_state': 12345, 'n_estimators': 20, 'max_depth': 12}</td>\n",
       "                        <td id=\"T_bff65_row111_col2\" class=\"data row111 col2\" >0.862000</td>\n",
       "                        <td id=\"T_bff65_row111_col3\" class=\"data row111 col3\" >0.589286</td>\n",
       "                        <td id=\"T_bff65_row111_col4\" class=\"data row111 col4\" >0.834346</td>\n",
       "            </tr>\n",
       "            <tr>\n",
       "                        <th id=\"T_bff65_level0_row112\" class=\"row_heading level0 row112\" >112</th>\n",
       "                        <td id=\"T_bff65_row112_col0\" class=\"data row112 col0\" >RandomForestClassifier</td>\n",
       "                        <td id=\"T_bff65_row112_col1\" class=\"data row112 col1\" >{'random_state': 12345, 'n_estimators': 30, 'max_depth': 12}</td>\n",
       "                        <td id=\"T_bff65_row112_col2\" class=\"data row112 col2\" >0.861000</td>\n",
       "                        <td id=\"T_bff65_row112_col3\" class=\"data row112 col3\" >0.582583</td>\n",
       "                        <td id=\"T_bff65_row112_col4\" class=\"data row112 col4\" >0.841655</td>\n",
       "            </tr>\n",
       "            <tr>\n",
       "                        <th id=\"T_bff65_level0_row113\" class=\"row_heading level0 row113\" >113</th>\n",
       "                        <td id=\"T_bff65_row113_col0\" class=\"data row113 col0\" >RandomForestClassifier</td>\n",
       "                        <td id=\"T_bff65_row113_col1\" class=\"data row113 col1\" >{'random_state': 12345, 'n_estimators': 40, 'max_depth': 12}</td>\n",
       "                        <td id=\"T_bff65_row113_col2\" class=\"data row113 col2\" >0.861000</td>\n",
       "                        <td id=\"T_bff65_row113_col3\" class=\"data row113 col3\" >0.580060</td>\n",
       "                        <td id=\"T_bff65_row113_col4\" class=\"data row113 col4\" >0.845171</td>\n",
       "            </tr>\n",
       "            <tr>\n",
       "                        <th id=\"T_bff65_level0_row114\" class=\"row_heading level0 row114\" >114</th>\n",
       "                        <td id=\"T_bff65_row114_col0\" class=\"data row114 col0\" >RandomForestClassifier</td>\n",
       "                        <td id=\"T_bff65_row114_col1\" class=\"data row114 col1\" >{'random_state': 12345, 'n_estimators': 50, 'max_depth': 12}</td>\n",
       "                        <td id=\"T_bff65_row114_col2\" class=\"data row114 col2\" >0.863500</td>\n",
       "                        <td id=\"T_bff65_row114_col3\" class=\"data row114 col3\" >0.589474</td>\n",
       "                        <td id=\"T_bff65_row114_col4\" class=\"data row114 col4\" >0.845264</td>\n",
       "            </tr>\n",
       "            <tr>\n",
       "                        <th id=\"T_bff65_level0_row115\" class=\"row_heading level0 row115\" >115</th>\n",
       "                        <td id=\"T_bff65_row115_col0\" class=\"data row115 col0\" >RandomForestClassifier</td>\n",
       "                        <td id=\"T_bff65_row115_col1\" class=\"data row115 col1\" >{'random_state': 12345, 'n_estimators': 60, 'max_depth': 12}</td>\n",
       "                        <td id=\"T_bff65_row115_col2\" class=\"data row115 col2\" >0.862500</td>\n",
       "                        <td id=\"T_bff65_row115_col3\" class=\"data row115 col3\" >0.583964</td>\n",
       "                        <td id=\"T_bff65_row115_col4\" class=\"data row115 col4\" >0.846793</td>\n",
       "            </tr>\n",
       "            <tr>\n",
       "                        <th id=\"T_bff65_level0_row116\" class=\"row_heading level0 row116\" >116</th>\n",
       "                        <td id=\"T_bff65_row116_col0\" class=\"data row116 col0\" >RandomForestClassifier</td>\n",
       "                        <td id=\"T_bff65_row116_col1\" class=\"data row116 col1\" >{'random_state': 12345, 'n_estimators': 70, 'max_depth': 12}</td>\n",
       "                        <td id=\"T_bff65_row116_col2\" class=\"data row116 col2\" >0.863000</td>\n",
       "                        <td id=\"T_bff65_row116_col3\" class=\"data row116 col3\" >0.586103</td>\n",
       "                        <td id=\"T_bff65_row116_col4\" class=\"data row116 col4\" >0.847973</td>\n",
       "            </tr>\n",
       "            <tr>\n",
       "                        <th id=\"T_bff65_level0_row117\" class=\"row_heading level0 row117\" >117</th>\n",
       "                        <td id=\"T_bff65_row117_col0\" class=\"data row117 col0\" >RandomForestClassifier</td>\n",
       "                        <td id=\"T_bff65_row117_col1\" class=\"data row117 col1\" >{'random_state': 12345, 'n_estimators': 80, 'max_depth': 12}</td>\n",
       "                        <td id=\"T_bff65_row117_col2\" class=\"data row117 col2\" >0.862500</td>\n",
       "                        <td id=\"T_bff65_row117_col3\" class=\"data row117 col3\" >0.581431</td>\n",
       "                        <td id=\"T_bff65_row117_col4\" class=\"data row117 col4\" >0.847834</td>\n",
       "            </tr>\n",
       "            <tr>\n",
       "                        <th id=\"T_bff65_level0_row118\" class=\"row_heading level0 row118\" >118</th>\n",
       "                        <td id=\"T_bff65_row118_col0\" class=\"data row118 col0\" >RandomForestClassifier</td>\n",
       "                        <td id=\"T_bff65_row118_col1\" class=\"data row118 col1\" >{'random_state': 12345, 'n_estimators': 90, 'max_depth': 12}</td>\n",
       "                        <td id=\"T_bff65_row118_col2\" class=\"data row118 col2\" >0.863500</td>\n",
       "                        <td id=\"T_bff65_row118_col3\" class=\"data row118 col3\" >0.583206</td>\n",
       "                        <td id=\"T_bff65_row118_col4\" class=\"data row118 col4\" >0.847942</td>\n",
       "            </tr>\n",
       "            <tr>\n",
       "                        <th id=\"T_bff65_level0_row119\" class=\"row_heading level0 row119\" >119</th>\n",
       "                        <td id=\"T_bff65_row119_col0\" class=\"data row119 col0\" >RandomForestClassifier</td>\n",
       "                        <td id=\"T_bff65_row119_col1\" class=\"data row119 col1\" >{'random_state': 12345, 'n_estimators': 100, 'max_depth': 12}</td>\n",
       "                        <td id=\"T_bff65_row119_col2\" class=\"data row119 col2\" >0.865000</td>\n",
       "                        <td id=\"T_bff65_row119_col3\" class=\"data row119 col3\" >0.585890</td>\n",
       "                        <td id=\"T_bff65_row119_col4\" class=\"data row119 col4\" >0.847324</td>\n",
       "            </tr>\n",
       "            <tr>\n",
       "                        <th id=\"T_bff65_level0_row120\" class=\"row_heading level0 row120\" >120</th>\n",
       "                        <td id=\"T_bff65_row120_col0\" class=\"data row120 col0\" >RandomForestClassifier</td>\n",
       "                        <td id=\"T_bff65_row120_col1\" class=\"data row120 col1\" >{'random_state': 12345, 'n_estimators': 10, 'max_depth': 13}</td>\n",
       "                        <td id=\"T_bff65_row120_col2\" class=\"data row120 col2\" >0.851500</td>\n",
       "                        <td id=\"T_bff65_row120_col3\" class=\"data row120 col3\" >0.560000</td>\n",
       "                        <td id=\"T_bff65_row120_col4\" class=\"data row120 col4\" >0.846227</td>\n",
       "            </tr>\n",
       "            <tr>\n",
       "                        <th id=\"T_bff65_level0_row121\" class=\"row_heading level0 row121\" >121</th>\n",
       "                        <td id=\"T_bff65_row121_col0\" class=\"data row121 col0\" >RandomForestClassifier</td>\n",
       "                        <td id=\"T_bff65_row121_col1\" class=\"data row121 col1\" >{'random_state': 12345, 'n_estimators': 20, 'max_depth': 13}</td>\n",
       "                        <td id=\"T_bff65_row121_col2\" class=\"data row121 col2\" >0.857000</td>\n",
       "                        <td id=\"T_bff65_row121_col3\" class=\"data row121 col3\" >0.567976</td>\n",
       "                        <td id=\"T_bff65_row121_col4\" class=\"data row121 col4\" >0.846323</td>\n",
       "            </tr>\n",
       "            <tr>\n",
       "                        <th id=\"T_bff65_level0_row122\" class=\"row_heading level0 row122\" >122</th>\n",
       "                        <td id=\"T_bff65_row122_col0\" class=\"data row122 col0\" >RandomForestClassifier</td>\n",
       "                        <td id=\"T_bff65_row122_col1\" class=\"data row122 col1\" >{'random_state': 12345, 'n_estimators': 30, 'max_depth': 13}</td>\n",
       "                        <td id=\"T_bff65_row122_col2\" class=\"data row122 col2\" >0.857500</td>\n",
       "                        <td id=\"T_bff65_row122_col3\" class=\"data row122 col3\" >0.568835</td>\n",
       "                        <td id=\"T_bff65_row122_col4\" class=\"data row122 col4\" >0.848310</td>\n",
       "            </tr>\n",
       "            <tr>\n",
       "                        <th id=\"T_bff65_level0_row123\" class=\"row_heading level0 row123\" >123</th>\n",
       "                        <td id=\"T_bff65_row123_col0\" class=\"data row123 col0\" >RandomForestClassifier</td>\n",
       "                        <td id=\"T_bff65_row123_col1\" class=\"data row123 col1\" >{'random_state': 12345, 'n_estimators': 40, 'max_depth': 13}</td>\n",
       "                        <td id=\"T_bff65_row123_col2\" class=\"data row123 col2\" >0.859500</td>\n",
       "                        <td id=\"T_bff65_row123_col3\" class=\"data row123 col3\" >0.570992</td>\n",
       "                        <td id=\"T_bff65_row123_col4\" class=\"data row123 col4\" >0.848538</td>\n",
       "            </tr>\n",
       "            <tr>\n",
       "                        <th id=\"T_bff65_level0_row124\" class=\"row_heading level0 row124\" >124</th>\n",
       "                        <td id=\"T_bff65_row124_col0\" class=\"data row124 col0\" >RandomForestClassifier</td>\n",
       "                        <td id=\"T_bff65_row124_col1\" class=\"data row124 col1\" >{'random_state': 12345, 'n_estimators': 50, 'max_depth': 13}</td>\n",
       "                        <td id=\"T_bff65_row124_col2\" class=\"data row124 col2\" >0.858000</td>\n",
       "                        <td id=\"T_bff65_row124_col3\" class=\"data row124 col3\" >0.570997</td>\n",
       "                        <td id=\"T_bff65_row124_col4\" class=\"data row124 col4\" >0.847099</td>\n",
       "            </tr>\n",
       "            <tr>\n",
       "                        <th id=\"T_bff65_level0_row125\" class=\"row_heading level0 row125\" >125</th>\n",
       "                        <td id=\"T_bff65_row125_col0\" class=\"data row125 col0\" >RandomForestClassifier</td>\n",
       "                        <td id=\"T_bff65_row125_col1\" class=\"data row125 col1\" >{'random_state': 12345, 'n_estimators': 60, 'max_depth': 13}</td>\n",
       "                        <td id=\"T_bff65_row125_col2\" class=\"data row125 col2\" >0.861000</td>\n",
       "                        <td id=\"T_bff65_row125_col3\" class=\"data row125 col3\" >0.577508</td>\n",
       "                        <td id=\"T_bff65_row125_col4\" class=\"data row125 col4\" >0.845727</td>\n",
       "            </tr>\n",
       "            <tr>\n",
       "                        <th id=\"T_bff65_level0_row126\" class=\"row_heading level0 row126\" >126</th>\n",
       "                        <td id=\"T_bff65_row126_col0\" class=\"data row126 col0\" >RandomForestClassifier</td>\n",
       "                        <td id=\"T_bff65_row126_col1\" class=\"data row126 col1\" >{'random_state': 12345, 'n_estimators': 70, 'max_depth': 13}</td>\n",
       "                        <td id=\"T_bff65_row126_col2\" class=\"data row126 col2\" >0.861000</td>\n",
       "                        <td id=\"T_bff65_row126_col3\" class=\"data row126 col3\" >0.577508</td>\n",
       "                        <td id=\"T_bff65_row126_col4\" class=\"data row126 col4\" >0.846134</td>\n",
       "            </tr>\n",
       "            <tr>\n",
       "                        <th id=\"T_bff65_level0_row127\" class=\"row_heading level0 row127\" >127</th>\n",
       "                        <td id=\"T_bff65_row127_col0\" class=\"data row127 col0\" >RandomForestClassifier</td>\n",
       "                        <td id=\"T_bff65_row127_col1\" class=\"data row127 col1\" >{'random_state': 12345, 'n_estimators': 80, 'max_depth': 13}</td>\n",
       "                        <td id=\"T_bff65_row127_col2\" class=\"data row127 col2\" >0.860500</td>\n",
       "                        <td id=\"T_bff65_row127_col3\" class=\"data row127 col3\" >0.574046</td>\n",
       "                        <td id=\"T_bff65_row127_col4\" class=\"data row127 col4\" >0.846634</td>\n",
       "            </tr>\n",
       "            <tr>\n",
       "                        <th id=\"T_bff65_level0_row128\" class=\"row_heading level0 row128\" >128</th>\n",
       "                        <td id=\"T_bff65_row128_col0\" class=\"data row128 col0\" >RandomForestClassifier</td>\n",
       "                        <td id=\"T_bff65_row128_col1\" class=\"data row128 col1\" >{'random_state': 12345, 'n_estimators': 90, 'max_depth': 13}</td>\n",
       "                        <td id=\"T_bff65_row128_col2\" class=\"data row128 col2\" >0.859500</td>\n",
       "                        <td id=\"T_bff65_row128_col3\" class=\"data row128 col3\" >0.570992</td>\n",
       "                        <td id=\"T_bff65_row128_col4\" class=\"data row128 col4\" >0.846027</td>\n",
       "            </tr>\n",
       "            <tr>\n",
       "                        <th id=\"T_bff65_level0_row129\" class=\"row_heading level0 row129\" >129</th>\n",
       "                        <td id=\"T_bff65_row129_col0\" class=\"data row129 col0\" >RandomForestClassifier</td>\n",
       "                        <td id=\"T_bff65_row129_col1\" class=\"data row129 col1\" >{'random_state': 12345, 'n_estimators': 100, 'max_depth': 13}</td>\n",
       "                        <td id=\"T_bff65_row129_col2\" class=\"data row129 col2\" >0.857500</td>\n",
       "                        <td id=\"T_bff65_row129_col3\" class=\"data row129 col3\" >0.563553</td>\n",
       "                        <td id=\"T_bff65_row129_col4\" class=\"data row129 col4\" >0.845472</td>\n",
       "            </tr>\n",
       "            <tr>\n",
       "                        <th id=\"T_bff65_level0_row130\" class=\"row_heading level0 row130\" >130</th>\n",
       "                        <td id=\"T_bff65_row130_col0\" class=\"data row130 col0\" >RandomForestClassifier</td>\n",
       "                        <td id=\"T_bff65_row130_col1\" class=\"data row130 col1\" >{'random_state': 12345, 'n_estimators': 10, 'max_depth': 14}</td>\n",
       "                        <td id=\"T_bff65_row130_col2\" class=\"data row130 col2\" >0.853500</td>\n",
       "                        <td id=\"T_bff65_row130_col3\" class=\"data row130 col3\" >0.565926</td>\n",
       "                        <td id=\"T_bff65_row130_col4\" class=\"data row130 col4\" >0.829680</td>\n",
       "            </tr>\n",
       "            <tr>\n",
       "                        <th id=\"T_bff65_level0_row131\" class=\"row_heading level0 row131\" >131</th>\n",
       "                        <td id=\"T_bff65_row131_col0\" class=\"data row131 col0\" >RandomForestClassifier</td>\n",
       "                        <td id=\"T_bff65_row131_col1\" class=\"data row131 col1\" >{'random_state': 12345, 'n_estimators': 20, 'max_depth': 14}</td>\n",
       "                        <td id=\"T_bff65_row131_col2\" class=\"data row131 col2\" >0.859000</td>\n",
       "                        <td id=\"T_bff65_row131_col3\" class=\"data row131 col3\" >0.580357</td>\n",
       "                        <td id=\"T_bff65_row131_col4\" class=\"data row131 col4\" >0.834935</td>\n",
       "            </tr>\n",
       "            <tr>\n",
       "                        <th id=\"T_bff65_level0_row132\" class=\"row_heading level0 row132\" >132</th>\n",
       "                        <td id=\"T_bff65_row132_col0\" class=\"data row132 col0\" >RandomForestClassifier</td>\n",
       "                        <td id=\"T_bff65_row132_col1\" class=\"data row132 col1\" >{'random_state': 12345, 'n_estimators': 30, 'max_depth': 14}</td>\n",
       "                        <td id=\"T_bff65_row132_col2\" class=\"data row132 col2\" >0.858000</td>\n",
       "                        <td id=\"T_bff65_row132_col3\" class=\"data row132 col3\" >0.576119</td>\n",
       "                        <td id=\"T_bff65_row132_col4\" class=\"data row132 col4\" >0.838595</td>\n",
       "            </tr>\n",
       "            <tr>\n",
       "                        <th id=\"T_bff65_level0_row133\" class=\"row_heading level0 row133\" >133</th>\n",
       "                        <td id=\"T_bff65_row133_col0\" class=\"data row133 col0\" >RandomForestClassifier</td>\n",
       "                        <td id=\"T_bff65_row133_col1\" class=\"data row133 col1\" >{'random_state': 12345, 'n_estimators': 40, 'max_depth': 14}</td>\n",
       "                        <td id=\"T_bff65_row133_col2\" class=\"data row133 col2\" >0.860000</td>\n",
       "                        <td id=\"T_bff65_row133_col3\" class=\"data row133 col3\" >0.578313</td>\n",
       "                        <td id=\"T_bff65_row133_col4\" class=\"data row133 col4\" >0.842264</td>\n",
       "            </tr>\n",
       "            <tr>\n",
       "                        <th id=\"T_bff65_level0_row134\" class=\"row_heading level0 row134\" >134</th>\n",
       "                        <td id=\"T_bff65_row134_col0\" class=\"data row134 col0\" >RandomForestClassifier</td>\n",
       "                        <td id=\"T_bff65_row134_col1\" class=\"data row134 col1\" >{'random_state': 12345, 'n_estimators': 50, 'max_depth': 14}</td>\n",
       "                        <td id=\"T_bff65_row134_col2\" class=\"data row134 col2\" >0.861000</td>\n",
       "                        <td id=\"T_bff65_row134_col3\" class=\"data row134 col3\" >0.581325</td>\n",
       "                        <td id=\"T_bff65_row134_col4\" class=\"data row134 col4\" >0.843413</td>\n",
       "            </tr>\n",
       "            <tr>\n",
       "                        <th id=\"T_bff65_level0_row135\" class=\"row_heading level0 row135\" >135</th>\n",
       "                        <td id=\"T_bff65_row135_col0\" class=\"data row135 col0\" >RandomForestClassifier</td>\n",
       "                        <td id=\"T_bff65_row135_col1\" class=\"data row135 col1\" >{'random_state': 12345, 'n_estimators': 60, 'max_depth': 14}</td>\n",
       "                        <td id=\"T_bff65_row135_col2\" class=\"data row135 col2\" >0.862500</td>\n",
       "                        <td id=\"T_bff65_row135_col3\" class=\"data row135 col3\" >0.586466</td>\n",
       "                        <td id=\"T_bff65_row135_col4\" class=\"data row135 col4\" >0.843628</td>\n",
       "            </tr>\n",
       "            <tr>\n",
       "                        <th id=\"T_bff65_level0_row136\" class=\"row_heading level0 row136\" >136</th>\n",
       "                        <td id=\"T_bff65_row136_col0\" class=\"data row136 col0\" >RandomForestClassifier</td>\n",
       "                        <td id=\"T_bff65_row136_col1\" class=\"data row136 col1\" >{'random_state': 12345, 'n_estimators': 70, 'max_depth': 14}</td>\n",
       "                        <td id=\"T_bff65_row136_col2\" class=\"data row136 col2\" >0.860000</td>\n",
       "                        <td id=\"T_bff65_row136_col3\" class=\"data row136 col3\" >0.577039</td>\n",
       "                        <td id=\"T_bff65_row136_col4\" class=\"data row136 col4\" >0.843823</td>\n",
       "            </tr>\n",
       "            <tr>\n",
       "                        <th id=\"T_bff65_level0_row137\" class=\"row_heading level0 row137\" >137</th>\n",
       "                        <td id=\"T_bff65_row137_col0\" class=\"data row137 col0\" >RandomForestClassifier</td>\n",
       "                        <td id=\"T_bff65_row137_col1\" class=\"data row137 col1\" >{'random_state': 12345, 'n_estimators': 80, 'max_depth': 14}</td>\n",
       "                        <td id=\"T_bff65_row137_col2\" class=\"data row137 col2\" >0.861000</td>\n",
       "                        <td id=\"T_bff65_row137_col3\" class=\"data row137 col3\" >0.577508</td>\n",
       "                        <td id=\"T_bff65_row137_col4\" class=\"data row137 col4\" >0.845195</td>\n",
       "            </tr>\n",
       "            <tr>\n",
       "                        <th id=\"T_bff65_level0_row138\" class=\"row_heading level0 row138\" >138</th>\n",
       "                        <td id=\"T_bff65_row138_col0\" class=\"data row138 col0\" >RandomForestClassifier</td>\n",
       "                        <td id=\"T_bff65_row138_col1\" class=\"data row138 col1\" >{'random_state': 12345, 'n_estimators': 90, 'max_depth': 14}</td>\n",
       "                        <td id=\"T_bff65_row138_col2\" class=\"data row138 col2\" >0.860000</td>\n",
       "                        <td id=\"T_bff65_row138_col3\" class=\"data row138 col3\" >0.573171</td>\n",
       "                        <td id=\"T_bff65_row138_col4\" class=\"data row138 col4\" >0.845529</td>\n",
       "            </tr>\n",
       "            <tr>\n",
       "                        <th id=\"T_bff65_level0_row139\" class=\"row_heading level0 row139\" >139</th>\n",
       "                        <td id=\"T_bff65_row139_col0\" class=\"data row139 col0\" >RandomForestClassifier</td>\n",
       "                        <td id=\"T_bff65_row139_col1\" class=\"data row139 col1\" >{'random_state': 12345, 'n_estimators': 100, 'max_depth': 14}</td>\n",
       "                        <td id=\"T_bff65_row139_col2\" class=\"data row139 col2\" >0.860500</td>\n",
       "                        <td id=\"T_bff65_row139_col3\" class=\"data row139 col3\" >0.575342</td>\n",
       "                        <td id=\"T_bff65_row139_col4\" class=\"data row139 col4\" >0.845676</td>\n",
       "            </tr>\n",
       "    </tbody></table>"
      ],
      "text/plain": [
       "<pandas.io.formats.style.Styler at 0x7fe1ef2787f0>"
      ]
     },
     "execution_count": 105,
     "metadata": {},
     "output_type": "execute_result"
    }
   ],
   "source": [
    "%%time\n",
    "test_hyperpar_RFC = []\n",
    "\n",
    "for depth in range(1,15):\n",
    "    for estimator in range(10, 101, 10):\n",
    "        model = RandomForestClassifier(random_state=12345, n_estimators=estimator, max_depth=depth) \n",
    "        model.fit(features_train, target_train)\n",
    "        predictions_valid = model.predict(features_valid)\n",
    "        probabilities_valid = model.predict_proba(features_valid)\n",
    "        accuracy = accuracy_score(target_valid, predictions_valid)        \n",
    "        f1 = f1_score(target_valid, predictions_valid)\n",
    "        roc_auc = roc_auc_score(target_valid, probabilities_valid[:,1])       \n",
    "        test_hyperpar_RFC.append({'Model': 'RandomForestClassifier', \n",
    "                               'Hyperparameters': {'random_state': 12345, \n",
    "                                                   'n_estimators': estimator, \n",
    "                                                   'max_depth':depth}, \n",
    "                               'Accuracy': accuracy,\n",
    "                               'F1': f1, \n",
    "                               'ROC AUC': roc_auc})\n",
    "pd.DataFrame(test_hyperpar_RFC).style.highlight_max(color = 'red', axis = 0)"
   ]
  },
  {
   "cell_type": "markdown",
   "metadata": {},
   "source": [
    "При подборе гипперпараметров наилучий результат F1 = 0.58 при кол-ве деревьев 50, и глубиной дерева 12."
   ]
  },
  {
   "cell_type": "markdown",
   "metadata": {},
   "source": [
    "### Результаты исследования"
   ]
  },
  {
   "cell_type": "markdown",
   "metadata": {},
   "source": [
    "1) Проверили баланс классов  \n",
    "2) Обучили следующие модели без учёта дисбаланса:  \n",
    "   Дерево принятия решений  \n",
    "   Случайный лес  \n",
    "   Логистическая регрессия.  \n",
    "   Для каждой из моделей вывели следующие метрики: accuracy_score, f1_score и roc_auc_score."
   ]
  },
  {
   "cell_type": "markdown",
   "metadata": {},
   "source": [
    "## Борьба с дисбалансом"
   ]
  },
  {
   "cell_type": "markdown",
   "metadata": {},
   "source": [
    "### Увеличение выборки."
   ]
  },
  {
   "cell_type": "code",
   "execution_count": 106,
   "metadata": {},
   "outputs": [],
   "source": [
    "def upsample(features, target, repeat):\n",
    "    features_zeros = features[target == 0]\n",
    "    features_ones = features[target == 1]\n",
    "    target_zeros = target[target == 0]\n",
    "    target_ones = target[target == 1]\n",
    "    features_upsampled = pd.concat([features_zeros] + [features_ones] * repeat)\n",
    "    target_upsampled = pd.concat([target_zeros] + [target_ones] * repeat)\n",
    "    features_upsampled, target_upsampled = shuffle(features_upsampled, target_upsampled, random_state=12345)\n",
    "    return features_upsampled, target_upsampled\n",
    "\n",
    "features_upsampled, target_upsampled = upsample(features_train, target_train, 4)\n",
    "\n"
   ]
  },
  {
   "cell_type": "markdown",
   "metadata": {},
   "source": [
    "Обучим модель уже на сбаланссированных данных."
   ]
  },
  {
   "cell_type": "code",
   "execution_count": 107,
   "metadata": {},
   "outputs": [
    {
     "data": {
      "text/html": [
       "<div>\n",
       "<style scoped>\n",
       "    .dataframe tbody tr th:only-of-type {\n",
       "        vertical-align: middle;\n",
       "    }\n",
       "\n",
       "    .dataframe tbody tr th {\n",
       "        vertical-align: top;\n",
       "    }\n",
       "\n",
       "    .dataframe thead th {\n",
       "        text-align: right;\n",
       "    }\n",
       "</style>\n",
       "<table border=\"1\" class=\"dataframe\">\n",
       "  <thead>\n",
       "    <tr style=\"text-align: right;\">\n",
       "      <th></th>\n",
       "      <th>Model</th>\n",
       "      <th>Accuracy_balance</th>\n",
       "      <th>F1_balance</th>\n",
       "      <th>ROC_balance</th>\n",
       "    </tr>\n",
       "  </thead>\n",
       "  <tbody>\n",
       "    <tr>\n",
       "      <th>0</th>\n",
       "      <td>LogisticRegression</td>\n",
       "      <td>0.6995</td>\n",
       "      <td>0.485004</td>\n",
       "      <td>0.763268</td>\n",
       "    </tr>\n",
       "    <tr>\n",
       "      <th>1</th>\n",
       "      <td>DecisionTreeClassifier</td>\n",
       "      <td>0.7960</td>\n",
       "      <td>0.500000</td>\n",
       "      <td>0.682704</td>\n",
       "    </tr>\n",
       "    <tr>\n",
       "      <th>2</th>\n",
       "      <td>RandomForestClassifier</td>\n",
       "      <td>0.8540</td>\n",
       "      <td>0.613757</td>\n",
       "      <td>0.838698</td>\n",
       "    </tr>\n",
       "  </tbody>\n",
       "</table>\n",
       "</div>"
      ],
      "text/plain": [
       "                    Model  Accuracy_balance  F1_balance  ROC_balance\n",
       "0      LogisticRegression            0.6995    0.485004     0.763268\n",
       "1  DecisionTreeClassifier            0.7960    0.500000     0.682704\n",
       "2  RandomForestClassifier            0.8540    0.613757     0.838698"
      ]
     },
     "metadata": {},
     "output_type": "display_data"
    },
    {
     "data": {
      "text/html": [
       "<div>\n",
       "<style scoped>\n",
       "    .dataframe tbody tr th:only-of-type {\n",
       "        vertical-align: middle;\n",
       "    }\n",
       "\n",
       "    .dataframe tbody tr th {\n",
       "        vertical-align: top;\n",
       "    }\n",
       "\n",
       "    .dataframe thead th {\n",
       "        text-align: right;\n",
       "    }\n",
       "</style>\n",
       "<table border=\"1\" class=\"dataframe\">\n",
       "  <thead>\n",
       "    <tr style=\"text-align: right;\">\n",
       "      <th></th>\n",
       "      <th>Model</th>\n",
       "      <th>Accuracy</th>\n",
       "      <th>F1</th>\n",
       "      <th>ROC</th>\n",
       "    </tr>\n",
       "  </thead>\n",
       "  <tbody>\n",
       "    <tr>\n",
       "      <th>0</th>\n",
       "      <td>LogisticRegression</td>\n",
       "      <td>0.803</td>\n",
       "      <td>0.334459</td>\n",
       "      <td>0.758475</td>\n",
       "    </tr>\n",
       "    <tr>\n",
       "      <th>1</th>\n",
       "      <td>DecisionTreeClassifier</td>\n",
       "      <td>0.787</td>\n",
       "      <td>0.491647</td>\n",
       "      <td>0.678776</td>\n",
       "    </tr>\n",
       "    <tr>\n",
       "      <th>2</th>\n",
       "      <td>RandomForestClassifier</td>\n",
       "      <td>0.862</td>\n",
       "      <td>0.584337</td>\n",
       "      <td>0.840208</td>\n",
       "    </tr>\n",
       "  </tbody>\n",
       "</table>\n",
       "</div>"
      ],
      "text/plain": [
       "                    Model  Accuracy        F1       ROC\n",
       "0      LogisticRegression     0.803  0.334459  0.758475\n",
       "1  DecisionTreeClassifier     0.787  0.491647  0.678776\n",
       "2  RandomForestClassifier     0.862  0.584337  0.840208"
      ]
     },
     "metadata": {},
     "output_type": "display_data"
    }
   ],
   "source": [
    "results_upsampling = []\n",
    "\n",
    "for model in models:\n",
    "    model.fit(features_upsampled, target_upsampled)\n",
    "    predictions_valid = model.predict(features_valid)\n",
    "    probabilities_valid = model.predict_proba(features_valid)\n",
    "    \n",
    "    accuracy = accuracy_score(target_valid, predictions_valid)\n",
    "    f1 = f1_score(target_valid, predictions_valid)\n",
    "    roc_auc = roc_auc_score(target_valid, probabilities_valid[:,1])\n",
    "    \n",
    "    results_upsampling.append({'Model': model.__class__.__name__, \n",
    "                               'Accuracy_balance': accuracy,\n",
    "                               'F1_balance': f1, \n",
    "                               'ROC_balance': roc_auc})\n",
    "display(pd.DataFrame(results_upsampling))\n",
    "\n",
    "display(pd.DataFrame(results_imbalanced))"
   ]
  },
  {
   "cell_type": "markdown",
   "metadata": {},
   "source": [
    "Модель случайного леса стала немнго лучше.Метрика F1 была (0.58) , а стала (0.6)"
   ]
  },
  {
   "cell_type": "markdown",
   "metadata": {},
   "source": [
    "### Уменьшение выборки."
   ]
  },
  {
   "cell_type": "code",
   "execution_count": 108,
   "metadata": {},
   "outputs": [],
   "source": [
    "def downsample(features, target, fraction):\n",
    "    features_zeros = features[target == 0]\n",
    "    features_ones = features[target == 1]\n",
    "    target_zeros = target[target == 0]\n",
    "    target_ones = target[target == 1]\n",
    "    features_downsampled = pd.concat([features_zeros.sample(frac=fraction, random_state=12345)] + [features_ones])\n",
    "    target_downsampled = pd.concat([target_zeros.sample(frac=fraction, random_state=12345)] + [target_ones])\n",
    "    features_downsampled, target_downsampled = shuffle(features_downsampled, target_downsampled, random_state=12345)\n",
    "    return features_downsampled, target_downsampled\n",
    "features_downsampled, target_downsampled = downsample(features_train, target_train, 0.25)"
   ]
  },
  {
   "cell_type": "markdown",
   "metadata": {},
   "source": [
    "Посмотрим на балансс классов."
   ]
  },
  {
   "cell_type": "code",
   "execution_count": 109,
   "metadata": {},
   "outputs": [
    {
     "name": "stdout",
     "output_type": "stream",
     "text": [
      "(2397, 11)\n",
      "(2397,)\n"
     ]
    }
   ],
   "source": [
    "print(features_downsampled.shape)\n",
    "print(target_downsampled.shape)"
   ]
  },
  {
   "cell_type": "markdown",
   "metadata": {},
   "source": [
    "Обучим модель на сбаланссированных данных."
   ]
  },
  {
   "cell_type": "code",
   "execution_count": 110,
   "metadata": {},
   "outputs": [],
   "source": [
    "results_downsampling = []\n",
    "\n",
    "for model in models:\n",
    "    model.fit(features_downsampled, target_downsampled)\n",
    "    predictions_valid = model.predict(features_valid)\n",
    "    probabilities_valid = model.predict_proba(features_valid)\n",
    "    \n",
    "    accuracy = accuracy_score(target_valid, predictions_valid)\n",
    "    f1 = f1_score(target_valid, predictions_valid)\n",
    "    roc_auc = roc_auc_score(target_valid, probabilities_valid[:,1])\n",
    "    \n",
    "    results_downsampling.append({'Model': model.__class__.__name__, \n",
    "                                 'Accuracy_Down': accuracy, \n",
    "                                 'F1_Down': f1, \n",
    "                                 'ROC_Down': roc_auc})"
   ]
  },
  {
   "cell_type": "code",
   "execution_count": 111,
   "metadata": {},
   "outputs": [
    {
     "data": {
      "text/html": [
       "<div>\n",
       "<style scoped>\n",
       "    .dataframe tbody tr th:only-of-type {\n",
       "        vertical-align: middle;\n",
       "    }\n",
       "\n",
       "    .dataframe tbody tr th {\n",
       "        vertical-align: top;\n",
       "    }\n",
       "\n",
       "    .dataframe thead th {\n",
       "        text-align: right;\n",
       "    }\n",
       "</style>\n",
       "<table border=\"1\" class=\"dataframe\">\n",
       "  <thead>\n",
       "    <tr style=\"text-align: right;\">\n",
       "      <th></th>\n",
       "      <th>Model</th>\n",
       "      <th>Accuracy</th>\n",
       "      <th>F1</th>\n",
       "      <th>ROC</th>\n",
       "    </tr>\n",
       "  </thead>\n",
       "  <tbody>\n",
       "    <tr>\n",
       "      <th>0</th>\n",
       "      <td>LogisticRegression</td>\n",
       "      <td>0.803</td>\n",
       "      <td>0.334459</td>\n",
       "      <td>0.758475</td>\n",
       "    </tr>\n",
       "    <tr>\n",
       "      <th>1</th>\n",
       "      <td>DecisionTreeClassifier</td>\n",
       "      <td>0.787</td>\n",
       "      <td>0.491647</td>\n",
       "      <td>0.678776</td>\n",
       "    </tr>\n",
       "    <tr>\n",
       "      <th>2</th>\n",
       "      <td>RandomForestClassifier</td>\n",
       "      <td>0.862</td>\n",
       "      <td>0.584337</td>\n",
       "      <td>0.840208</td>\n",
       "    </tr>\n",
       "  </tbody>\n",
       "</table>\n",
       "</div>"
      ],
      "text/plain": [
       "                    Model  Accuracy        F1       ROC\n",
       "0      LogisticRegression     0.803  0.334459  0.758475\n",
       "1  DecisionTreeClassifier     0.787  0.491647  0.678776\n",
       "2  RandomForestClassifier     0.862  0.584337  0.840208"
      ]
     },
     "metadata": {},
     "output_type": "display_data"
    },
    {
     "data": {
      "text/html": [
       "<div>\n",
       "<style scoped>\n",
       "    .dataframe tbody tr th:only-of-type {\n",
       "        vertical-align: middle;\n",
       "    }\n",
       "\n",
       "    .dataframe tbody tr th {\n",
       "        vertical-align: top;\n",
       "    }\n",
       "\n",
       "    .dataframe thead th {\n",
       "        text-align: right;\n",
       "    }\n",
       "</style>\n",
       "<table border=\"1\" class=\"dataframe\">\n",
       "  <thead>\n",
       "    <tr style=\"text-align: right;\">\n",
       "      <th></th>\n",
       "      <th>Model</th>\n",
       "      <th>Accuracy_Down</th>\n",
       "      <th>F1_Down</th>\n",
       "      <th>ROC_Down</th>\n",
       "    </tr>\n",
       "  </thead>\n",
       "  <tbody>\n",
       "    <tr>\n",
       "      <th>0</th>\n",
       "      <td>LogisticRegression</td>\n",
       "      <td>0.7000</td>\n",
       "      <td>0.480069</td>\n",
       "      <td>0.761656</td>\n",
       "    </tr>\n",
       "    <tr>\n",
       "      <th>1</th>\n",
       "      <td>DecisionTreeClassifier</td>\n",
       "      <td>0.6925</td>\n",
       "      <td>0.487073</td>\n",
       "      <td>0.694731</td>\n",
       "    </tr>\n",
       "    <tr>\n",
       "      <th>2</th>\n",
       "      <td>RandomForestClassifier</td>\n",
       "      <td>0.7765</td>\n",
       "      <td>0.577105</td>\n",
       "      <td>0.842796</td>\n",
       "    </tr>\n",
       "  </tbody>\n",
       "</table>\n",
       "</div>"
      ],
      "text/plain": [
       "                    Model  Accuracy_Down   F1_Down  ROC_Down\n",
       "0      LogisticRegression         0.7000  0.480069  0.761656\n",
       "1  DecisionTreeClassifier         0.6925  0.487073  0.694731\n",
       "2  RandomForestClassifier         0.7765  0.577105  0.842796"
      ]
     },
     "metadata": {},
     "output_type": "display_data"
    }
   ],
   "source": [
    "display(pd.DataFrame(results_imbalanced))\n",
    "display(pd.DataFrame(results_downsampling))"
   ]
  },
  {
   "cell_type": "markdown",
   "metadata": {},
   "source": [
    "Лучше стала модель логистической регрессии , но остальные модели лучше работаю с увеличением выборки.Выберем пожалуй случайны лес с upsampled."
   ]
  },
  {
   "cell_type": "markdown",
   "metadata": {},
   "source": [
    "### Подберем гипперпарметры для лучшей модели (Случайный лес)"
   ]
  },
  {
   "cell_type": "code",
   "execution_count": 112,
   "metadata": {},
   "outputs": [
    {
     "name": "stdout",
     "output_type": "stream",
     "text": [
      "CPU times: user 47.8 s, sys: 140 ms, total: 47.9 s\n",
      "Wall time: 48 s\n"
     ]
    }
   ],
   "source": [
    "%%time\n",
    "result = []\n",
    "for depth in range(1,15):\n",
    "    for estimator in range(10, 101, 10): \n",
    "        model = RandomForestClassifier(random_state=12345, n_estimators=estimator, max_depth=depth) \n",
    "        model.fit(features_upsampled, target_upsampled)\n",
    "        predictions_valid = model.predict(features_valid)\n",
    "        probabilities_valid = model.predict_proba(features_valid)\n",
    "        accuracy = accuracy_score(target_valid, predictions_valid)        \n",
    "        f1 = f1_score(target_valid, predictions_valid)\n",
    "        roc_auc = roc_auc_score(target_valid, probabilities_valid[:,1])       \n",
    "        result.append({'Model': 'RandomForestClassifier', \n",
    "                               'Hyperparameters': {'random_state': 12345, \n",
    "                                                   'n_estimators': estimator, \n",
    "                                                   'max_depth':depth}, \n",
    "                                                 'Accuracy': accuracy,\n",
    "                                                 'F1 score': f1, \n",
    "                                                 'ROC AUC score': roc_auc})"
   ]
  },
  {
   "cell_type": "markdown",
   "metadata": {},
   "source": [
    "Выведем лучший результат (можно было сразу в цикле сделать)"
   ]
  },
  {
   "cell_type": "code",
   "execution_count": 113,
   "metadata": {},
   "outputs": [
    {
     "data": {
      "text/html": [
       "<div>\n",
       "<style scoped>\n",
       "    .dataframe tbody tr th:only-of-type {\n",
       "        vertical-align: middle;\n",
       "    }\n",
       "\n",
       "    .dataframe tbody tr th {\n",
       "        vertical-align: top;\n",
       "    }\n",
       "\n",
       "    .dataframe thead th {\n",
       "        text-align: right;\n",
       "    }\n",
       "</style>\n",
       "<table border=\"1\" class=\"dataframe\">\n",
       "  <thead>\n",
       "    <tr style=\"text-align: right;\">\n",
       "      <th></th>\n",
       "      <th>Model</th>\n",
       "      <th>Hyperparameters</th>\n",
       "      <th>Accuracy</th>\n",
       "      <th>F1 score</th>\n",
       "      <th>ROC AUC score</th>\n",
       "    </tr>\n",
       "  </thead>\n",
       "  <tbody>\n",
       "    <tr>\n",
       "      <th>86</th>\n",
       "      <td>RandomForestClassifier</td>\n",
       "      <td>{'random_state': 12345, 'n_estimators': 70, 'm...</td>\n",
       "      <td>0.825</td>\n",
       "      <td>0.630021</td>\n",
       "      <td>0.852574</td>\n",
       "    </tr>\n",
       "  </tbody>\n",
       "</table>\n",
       "</div>"
      ],
      "text/plain": [
       "                     Model                                    Hyperparameters  \\\n",
       "86  RandomForestClassifier  {'random_state': 12345, 'n_estimators': 70, 'm...   \n",
       "\n",
       "    Accuracy  F1 score  ROC AUC score  \n",
       "86     0.825  0.630021       0.852574  "
      ]
     },
     "metadata": {},
     "output_type": "display_data"
    }
   ],
   "source": [
    "df_result = pd.DataFrame.from_dict(result)\n",
    "display(df_result[df_result['F1 score']==df_result['F1 score'].max()])"
   ]
  },
  {
   "cell_type": "markdown",
   "metadata": {},
   "source": [
    "Лучшей значение n_estimators равна 70. "
   ]
  },
  {
   "cell_type": "markdown",
   "metadata": {},
   "source": [
    "### Результат"
   ]
  },
  {
   "cell_type": "markdown",
   "metadata": {},
   "source": [
    "1) Применили несколько способов борьбы с дисбалансом  \n",
    "2) Выяснили , что лучшая модель это Случайный лес при увеличеннии выборки.  \n",
    "3) Настройка гиперпараметров позволила улучшить показатель метрики f1_score для случайного леса:  \n",
    "   Случайный лес: 0.63\n",
    ".\n",
    "\n"
   ]
  },
  {
   "cell_type": "markdown",
   "metadata": {},
   "source": [
    "## Тестирование модели"
   ]
  },
  {
   "cell_type": "markdown",
   "metadata": {},
   "source": [
    "Протестируем на модели случайного леса , так как она показала себя лучше всего"
   ]
  },
  {
   "cell_type": "code",
   "execution_count": 114,
   "metadata": {},
   "outputs": [
    {
     "name": "stdout",
     "output_type": "stream",
     "text": [
      "Accuracy 0.822\n",
      "F1 0.6172043010752688\n",
      "ROC_AUC 0.8553677194781364\n"
     ]
    }
   ],
   "source": [
    "model_final = RandomForestClassifier(random_state=12345, n_estimators=70, max_depth=10)\n",
    "model_final.fit(features_upsampled, target_upsampled)  \n",
    "predictions_final = model_final.predict(features_test)\n",
    "probabilities_final = model_final.predict_proba(features_test)\n",
    "accuracy_final = accuracy_score(target_test, predictions_final)\n",
    "f1_final = f1_score(target_test, predictions_final)\n",
    "roc_auc_final = roc_auc_score(target_test, probabilities_final[:,1])\n",
    "print('Accuracy', accuracy_final)\n",
    "print('F1', f1_final)\n",
    "print('ROC_AUC', roc_auc_final)"
   ]
  },
  {
   "cell_type": "markdown",
   "metadata": {},
   "source": [
    "Как видим значение F1 = 0.61 , что как раз и нудно для задание с этим мы справились , исследуем теперь метрику ROC_AUC"
   ]
  },
  {
   "cell_type": "markdown",
   "metadata": {},
   "source": [
    "Построим график ROC кривой."
   ]
  },
  {
   "cell_type": "code",
   "execution_count": 115,
   "metadata": {},
   "outputs": [
    {
     "data": {
      "image/png": "[encoded data removed]",
      "text/plain": [
       "<Figure size 432x288 with 1 Axes>"
      ]
     },
     "metadata": {
      "needs_background": "light"
     },
     "output_type": "display_data"
    }
   ],
   "source": [
    "fpr, tpr, thresholds = roc_curve(target_test, probabilities_final[:,1])\n",
    "\n",
    "plt.figure()\n",
    "\n",
    "plt.plot(fpr, tpr)\n",
    "\n",
    "plt.plot([0, 1], [0, 1], linestyle='--')\n",
    "\n",
    "plt.xlim([0.0, 1.0])\n",
    "plt.ylim([0.0, 1.0])\n",
    "\n",
    "plt.xlabel('False Positive Rate')\n",
    "plt.ylabel('True Positive Rate')\n",
    "\n",
    "plt.title('ROC-кривая')\n",
    "\n",
    "plt.show()"
   ]
  },
  {
   "cell_type": "markdown",
   "metadata": {},
   "source": [
    "### Итоговый вывод."
   ]
  },
  {
   "cell_type": "markdown",
   "metadata": {},
   "source": [
    "Проверка модели на тестовой выборке показывает, что модель работает достаточно хорошо — показатель метрики f1 удалось достигнуть выше, чем было заявлено в требованиях (минимальное требование к этой метрике было 0.59, наша модель дает результат 0.61).  \n",
    "  \n",
    "Что касаеться roc_auc = 0.855, это хороший результат.  \n",
    "  \n",
    "Считаю , что модель работает хорошо и цель проекта достигнута.  "
   ]
  }
 ],
 "metadata": {
  "ExecuteTimeLog": [
   {
    "duration": 416,
    "start_time": "2023-03-28T10:03:31.903Z"
   },
   {
    "duration": 88,
    "start_time": "2023-03-28T10:07:40.845Z"
   },
   {
    "duration": 2172,
    "start_time": "2023-03-28T10:10:14.161Z"
   },
   {
    "duration": 3223,
    "start_time": "2023-03-28T10:14:31.119Z"
   },
   {
    "duration": 2857,
    "start_time": "2023-03-28T10:14:59.672Z"
   },
   {
    "duration": 63,
    "start_time": "2023-03-28T10:32:04.748Z"
   },
   {
    "duration": 88,
    "start_time": "2023-03-28T11:30:44.994Z"
   },
   {
    "duration": 119,
    "start_time": "2023-03-28T11:32:36.879Z"
   },
   {
    "duration": 1520,
    "start_time": "2023-03-28T11:34:54.116Z"
   },
   {
    "duration": 41,
    "start_time": "2023-03-28T11:35:42.280Z"
   },
   {
    "duration": 2093,
    "start_time": "2023-03-28T11:39:40.694Z"
   },
   {
    "duration": 66,
    "start_time": "2023-03-28T11:42:46.050Z"
   },
   {
    "duration": 54,
    "start_time": "2023-03-28T11:44:20.259Z"
   },
   {
    "duration": 110,
    "start_time": "2023-03-28T11:44:45.513Z"
   },
   {
    "duration": 108,
    "start_time": "2023-03-28T11:44:58.045Z"
   },
   {
    "duration": 2,
    "start_time": "2023-03-28T11:48:00.167Z"
   },
   {
    "duration": 102,
    "start_time": "2023-03-28T11:48:08.146Z"
   },
   {
    "duration": 19,
    "start_time": "2023-03-28T11:49:55.012Z"
   },
   {
    "duration": 13,
    "start_time": "2023-03-28T12:00:48.848Z"
   },
   {
    "duration": 5,
    "start_time": "2023-03-28T12:01:00.781Z"
   },
   {
    "duration": 124,
    "start_time": "2023-03-28T12:11:53.642Z"
   },
   {
    "duration": 234,
    "start_time": "2023-03-28T14:15:02.613Z"
   },
   {
    "duration": 7,
    "start_time": "2023-03-28T14:18:16.195Z"
   },
   {
    "duration": 3,
    "start_time": "2023-03-28T14:18:20.994Z"
   },
   {
    "duration": 49,
    "start_time": "2023-03-28T14:19:21.705Z"
   },
   {
    "duration": 48,
    "start_time": "2023-03-28T14:20:13.402Z"
   },
   {
    "duration": 13,
    "start_time": "2023-03-28T14:25:56.779Z"
   },
   {
    "duration": 12,
    "start_time": "2023-03-28T14:26:09.053Z"
   },
   {
    "duration": 8,
    "start_time": "2023-03-28T14:27:18.772Z"
   },
   {
    "duration": 1402,
    "start_time": "2023-03-28T14:31:16.804Z"
   },
   {
    "duration": 122,
    "start_time": "2023-03-28T14:31:21.169Z"
   },
   {
    "duration": 72,
    "start_time": "2023-03-28T14:40:51.893Z"
   },
   {
    "duration": 222,
    "start_time": "2023-03-28T14:41:16.250Z"
   },
   {
    "duration": 11,
    "start_time": "2023-03-28T14:43:07.780Z"
   },
   {
    "duration": 5,
    "start_time": "2023-03-28T14:43:12.211Z"
   },
   {
    "duration": 21,
    "start_time": "2023-03-28T14:44:18.930Z"
   },
   {
    "duration": 18,
    "start_time": "2023-03-28T14:44:42.784Z"
   },
   {
    "duration": 6,
    "start_time": "2023-03-28T14:45:00.255Z"
   },
   {
    "duration": 85,
    "start_time": "2023-03-28T14:45:54.551Z"
   },
   {
    "duration": 68,
    "start_time": "2023-03-28T14:58:03.816Z"
   },
   {
    "duration": 16,
    "start_time": "2023-03-28T14:58:52.895Z"
   },
   {
    "duration": 70,
    "start_time": "2023-03-28T14:59:14.847Z"
   },
   {
    "duration": 96,
    "start_time": "2023-03-28T15:01:06.378Z"
   },
   {
    "duration": 75,
    "start_time": "2023-03-28T15:01:12.757Z"
   },
   {
    "duration": 82,
    "start_time": "2023-03-28T15:02:25.789Z"
   },
   {
    "duration": 72,
    "start_time": "2023-03-28T15:04:18.873Z"
   },
   {
    "duration": 4,
    "start_time": "2023-03-28T17:43:00.583Z"
   },
   {
    "duration": 76,
    "start_time": "2023-03-28T17:43:15.919Z"
   },
   {
    "duration": 70,
    "start_time": "2023-03-28T17:43:49.444Z"
   },
   {
    "duration": 65,
    "start_time": "2023-03-28T17:43:59.912Z"
   },
   {
    "duration": 91,
    "start_time": "2023-03-28T17:44:29.467Z"
   },
   {
    "duration": 78,
    "start_time": "2023-03-28T17:45:09.365Z"
   },
   {
    "duration": 99,
    "start_time": "2023-03-28T17:45:29.163Z"
   },
   {
    "duration": 3,
    "start_time": "2023-03-28T17:48:12.418Z"
   },
   {
    "duration": 4,
    "start_time": "2023-03-28T17:49:00.680Z"
   },
   {
    "duration": 217,
    "start_time": "2023-03-28T18:34:04.707Z"
   },
   {
    "duration": 5,
    "start_time": "2023-03-28T18:36:12.460Z"
   },
   {
    "duration": 20,
    "start_time": "2023-03-28T18:36:17.143Z"
   },
   {
    "duration": 10,
    "start_time": "2023-03-28T18:39:01.815Z"
   },
   {
    "duration": 57,
    "start_time": "2023-03-28T18:39:28.058Z"
   },
   {
    "duration": 9,
    "start_time": "2023-03-28T18:39:32.803Z"
   },
   {
    "duration": 12,
    "start_time": "2023-03-28T18:39:38.126Z"
   },
   {
    "duration": 13,
    "start_time": "2023-03-28T18:40:01.740Z"
   },
   {
    "duration": 6,
    "start_time": "2023-03-28T18:47:05.388Z"
   },
   {
    "duration": 169,
    "start_time": "2023-03-28T18:47:05.396Z"
   },
   {
    "duration": 14,
    "start_time": "2023-03-28T18:47:05.567Z"
   },
   {
    "duration": 52,
    "start_time": "2023-03-28T18:47:05.583Z"
   },
   {
    "duration": 9,
    "start_time": "2023-03-28T18:47:05.637Z"
   },
   {
    "duration": 9,
    "start_time": "2023-03-28T18:47:05.648Z"
   },
   {
    "duration": 28,
    "start_time": "2023-03-28T18:47:05.659Z"
   },
   {
    "duration": 5,
    "start_time": "2023-03-28T18:47:05.689Z"
   },
   {
    "duration": 6,
    "start_time": "2023-03-28T18:47:05.718Z"
   },
   {
    "duration": 12,
    "start_time": "2023-03-28T18:47:05.725Z"
   },
   {
    "duration": 11,
    "start_time": "2023-03-28T18:47:05.741Z"
   },
   {
    "duration": 12,
    "start_time": "2023-03-28T19:36:16.568Z"
   },
   {
    "duration": 3,
    "start_time": "2023-03-28T19:39:01.185Z"
   },
   {
    "duration": 13,
    "start_time": "2023-03-28T19:40:13.099Z"
   },
   {
    "duration": 27,
    "start_time": "2023-03-28T19:43:50.802Z"
   },
   {
    "duration": 13,
    "start_time": "2023-03-28T19:44:57.949Z"
   },
   {
    "duration": 17,
    "start_time": "2023-03-28T19:45:33.836Z"
   },
   {
    "duration": 1576,
    "start_time": "2023-04-01T16:46:06.767Z"
   },
   {
    "duration": 156,
    "start_time": "2023-04-01T16:46:08.351Z"
   },
   {
    "duration": 14,
    "start_time": "2023-04-01T16:46:08.508Z"
   },
   {
    "duration": 42,
    "start_time": "2023-04-01T16:46:08.524Z"
   },
   {
    "duration": 7,
    "start_time": "2023-04-01T16:46:08.567Z"
   },
   {
    "duration": 15,
    "start_time": "2023-04-01T16:46:08.575Z"
   },
   {
    "duration": 23,
    "start_time": "2023-04-01T16:46:08.592Z"
   },
   {
    "duration": 6,
    "start_time": "2023-04-01T16:46:08.616Z"
   },
   {
    "duration": 27,
    "start_time": "2023-04-01T16:46:08.623Z"
   },
   {
    "duration": 12,
    "start_time": "2023-04-01T16:46:08.653Z"
   },
   {
    "duration": 10,
    "start_time": "2023-04-01T16:46:08.666Z"
   },
   {
    "duration": 15,
    "start_time": "2023-04-01T16:46:08.677Z"
   },
   {
    "duration": 8,
    "start_time": "2023-04-01T16:46:08.694Z"
   },
   {
    "duration": 13,
    "start_time": "2023-04-01T16:46:08.704Z"
   },
   {
    "duration": 30,
    "start_time": "2023-04-01T16:46:08.718Z"
   },
   {
    "duration": 14,
    "start_time": "2023-04-01T16:46:08.750Z"
   },
   {
    "duration": 1222,
    "start_time": "2023-04-01T16:46:08.765Z"
   },
   {
    "duration": 1065,
    "start_time": "2023-04-01T16:46:19.011Z"
   },
   {
    "duration": 17,
    "start_time": "2023-04-01T16:46:29.324Z"
   },
   {
    "duration": 21,
    "start_time": "2023-04-01T16:46:56.349Z"
   },
   {
    "duration": 1346,
    "start_time": "2023-04-01T16:56:29.156Z"
   },
   {
    "duration": 1038,
    "start_time": "2023-04-01T16:57:01.620Z"
   },
   {
    "duration": 1396,
    "start_time": "2023-04-01T16:57:18.433Z"
   },
   {
    "duration": 1157,
    "start_time": "2023-04-01T16:57:44.376Z"
   },
   {
    "duration": 1311,
    "start_time": "2023-04-01T16:58:06.850Z"
   },
   {
    "duration": 1131,
    "start_time": "2023-04-01T16:58:25.456Z"
   },
   {
    "duration": 10,
    "start_time": "2023-04-01T17:12:46.680Z"
   },
   {
    "duration": 14,
    "start_time": "2023-04-01T17:13:04.557Z"
   },
   {
    "duration": 21,
    "start_time": "2023-04-01T17:13:12.421Z"
   },
   {
    "duration": 16,
    "start_time": "2023-04-01T17:14:13.769Z"
   },
   {
    "duration": 9,
    "start_time": "2023-04-01T17:14:38.389Z"
   },
   {
    "duration": 11,
    "start_time": "2023-04-01T17:14:45.148Z"
   },
   {
    "duration": 1148,
    "start_time": "2023-04-01T17:17:04.207Z"
   },
   {
    "duration": 1283,
    "start_time": "2023-04-01T17:17:07.532Z"
   },
   {
    "duration": 1160,
    "start_time": "2023-04-01T17:17:36.620Z"
   },
   {
    "duration": 1302,
    "start_time": "2023-04-01T17:18:50.854Z"
   },
   {
    "duration": 83,
    "start_time": "2023-04-02T11:40:04.343Z"
   },
   {
    "duration": 2138,
    "start_time": "2023-04-02T11:40:09.655Z"
   },
   {
    "duration": 169,
    "start_time": "2023-04-02T11:40:11.796Z"
   },
   {
    "duration": 19,
    "start_time": "2023-04-02T11:40:11.967Z"
   },
   {
    "duration": 82,
    "start_time": "2023-04-02T11:40:11.990Z"
   },
   {
    "duration": 12,
    "start_time": "2023-04-02T11:40:12.074Z"
   },
   {
    "duration": 6,
    "start_time": "2023-04-02T11:40:12.088Z"
   },
   {
    "duration": 21,
    "start_time": "2023-04-02T11:40:12.096Z"
   },
   {
    "duration": 6,
    "start_time": "2023-04-02T11:40:12.119Z"
   },
   {
    "duration": 7,
    "start_time": "2023-04-02T11:40:12.128Z"
   },
   {
    "duration": 11,
    "start_time": "2023-04-02T11:40:12.165Z"
   },
   {
    "duration": 10,
    "start_time": "2023-04-02T11:40:12.178Z"
   },
   {
    "duration": 24,
    "start_time": "2023-04-02T11:40:12.190Z"
   },
   {
    "duration": 4,
    "start_time": "2023-04-02T11:40:12.216Z"
   },
   {
    "duration": 12,
    "start_time": "2023-04-02T11:40:12.222Z"
   },
   {
    "duration": 56,
    "start_time": "2023-04-02T11:40:12.235Z"
   },
   {
    "duration": 13,
    "start_time": "2023-04-02T11:40:12.293Z"
   },
   {
    "duration": 13,
    "start_time": "2023-04-02T11:40:12.308Z"
   },
   {
    "duration": 1589,
    "start_time": "2023-04-02T11:40:12.323Z"
   },
   {
    "duration": 16,
    "start_time": "2023-04-02T11:40:13.914Z"
   },
   {
    "duration": 1615,
    "start_time": "2023-04-02T11:40:13.932Z"
   },
   {
    "duration": 1904,
    "start_time": "2023-04-02T11:40:20.650Z"
   },
   {
    "duration": 1845,
    "start_time": "2023-04-02T11:40:45.734Z"
   },
   {
    "duration": 1428,
    "start_time": "2023-04-02T11:41:00.424Z"
   },
   {
    "duration": 1265,
    "start_time": "2023-04-02T11:41:08.622Z"
   },
   {
    "duration": 2075,
    "start_time": "2023-04-02T11:41:23.109Z"
   },
   {
    "duration": 13,
    "start_time": "2023-04-02T11:42:50.914Z"
   },
   {
    "duration": 29,
    "start_time": "2023-04-02T11:43:11.459Z"
   },
   {
    "duration": 14,
    "start_time": "2023-04-02T11:43:14.225Z"
   },
   {
    "duration": 2036,
    "start_time": "2023-04-02T11:43:21.960Z"
   },
   {
    "duration": 92,
    "start_time": "2023-04-02T11:45:48.821Z"
   },
   {
    "duration": 18,
    "start_time": "2023-04-02T11:51:12.855Z"
   },
   {
    "duration": 105,
    "start_time": "2023-04-02T11:52:17.109Z"
   },
   {
    "duration": 16,
    "start_time": "2023-04-02T11:52:26.057Z"
   },
   {
    "duration": 3,
    "start_time": "2023-04-02T11:53:25.158Z"
   },
   {
    "duration": 977,
    "start_time": "2023-04-02T11:56:10.644Z"
   },
   {
    "duration": 15,
    "start_time": "2023-04-02T11:56:47.491Z"
   },
   {
    "duration": 92,
    "start_time": "2023-04-02T11:58:30.636Z"
   },
   {
    "duration": 1039,
    "start_time": "2023-04-02T12:01:57.601Z"
   },
   {
    "duration": 200,
    "start_time": "2023-04-02T12:02:28.899Z"
   },
   {
    "duration": 55101,
    "start_time": "2023-04-02T12:06:39.480Z"
   },
   {
    "duration": 58745,
    "start_time": "2023-04-02T12:19:12.800Z"
   },
   {
    "duration": 58852,
    "start_time": "2023-04-02T13:04:35.304Z"
   },
   {
    "duration": 70,
    "start_time": "2023-04-02T13:52:58.587Z"
   },
   {
    "duration": 58311,
    "start_time": "2023-04-02T13:56:07.844Z"
   },
   {
    "duration": 223,
    "start_time": "2023-04-02T13:57:06.163Z"
   },
   {
    "duration": 93,
    "start_time": "2023-04-02T13:59:48.618Z"
   },
   {
    "duration": 17,
    "start_time": "2023-04-02T13:59:55.677Z"
   },
   {
    "duration": 17,
    "start_time": "2023-04-02T13:59:59.723Z"
   },
   {
    "duration": 672,
    "start_time": "2023-04-02T14:00:38.603Z"
   },
   {
    "duration": 13,
    "start_time": "2023-04-02T14:06:19.286Z"
   },
   {
    "duration": 5,
    "start_time": "2023-04-02T14:15:30.091Z"
   },
   {
    "duration": 6,
    "start_time": "2023-04-02T14:15:53.108Z"
   },
   {
    "duration": 140,
    "start_time": "2023-04-02T14:16:39.533Z"
   },
   {
    "duration": 51,
    "start_time": "2023-04-03T09:24:33.130Z"
   },
   {
    "duration": 189,
    "start_time": "2023-04-03T09:24:38.925Z"
   },
   {
    "duration": 1388,
    "start_time": "2023-04-03T09:24:43.829Z"
   },
   {
    "duration": 81,
    "start_time": "2023-04-03T09:26:17.959Z"
   },
   {
    "duration": 3,
    "start_time": "2023-04-03T09:29:17.858Z"
   },
   {
    "duration": 4,
    "start_time": "2023-04-03T09:29:43.128Z"
   },
   {
    "duration": 101,
    "start_time": "2023-04-03T09:29:51.766Z"
   },
   {
    "duration": 4,
    "start_time": "2023-04-03T09:30:00.472Z"
   },
   {
    "duration": 171,
    "start_time": "2023-04-03T09:30:00.478Z"
   },
   {
    "duration": 13,
    "start_time": "2023-04-03T09:30:00.650Z"
   },
   {
    "duration": 61,
    "start_time": "2023-04-03T09:30:00.665Z"
   },
   {
    "duration": 6,
    "start_time": "2023-04-03T09:30:00.728Z"
   },
   {
    "duration": 26,
    "start_time": "2023-04-03T09:30:00.736Z"
   },
   {
    "duration": 51,
    "start_time": "2023-04-03T09:30:00.764Z"
   },
   {
    "duration": 31,
    "start_time": "2023-04-03T09:30:00.817Z"
   },
   {
    "duration": 46,
    "start_time": "2023-04-03T09:30:00.849Z"
   },
   {
    "duration": 30,
    "start_time": "2023-04-03T09:30:00.897Z"
   },
   {
    "duration": 34,
    "start_time": "2023-04-03T09:30:00.929Z"
   },
   {
    "duration": 19,
    "start_time": "2023-04-03T09:30:00.965Z"
   },
   {
    "duration": 36,
    "start_time": "2023-04-03T09:30:00.986Z"
   },
   {
    "duration": 56,
    "start_time": "2023-04-03T09:30:01.023Z"
   },
   {
    "duration": 100,
    "start_time": "2023-04-03T09:30:01.081Z"
   },
   {
    "duration": 50,
    "start_time": "2023-04-03T09:30:01.182Z"
   },
   {
    "duration": 56,
    "start_time": "2023-04-03T09:30:01.234Z"
   },
   {
    "duration": 1045,
    "start_time": "2023-04-03T09:30:01.291Z"
   },
   {
    "duration": 16,
    "start_time": "2023-04-03T09:30:02.337Z"
   },
   {
    "duration": 1273,
    "start_time": "2023-04-03T09:30:02.355Z"
   },
   {
    "duration": 8,
    "start_time": "2023-04-03T09:30:03.629Z"
   },
   {
    "duration": 11,
    "start_time": "2023-04-03T09:30:03.638Z"
   },
   {
    "duration": 655,
    "start_time": "2023-04-03T09:30:03.650Z"
   },
   {
    "duration": 12,
    "start_time": "2023-04-03T09:30:04.307Z"
   },
   {
    "duration": 50168,
    "start_time": "2023-04-03T09:30:04.320Z"
   },
   {
    "duration": 11,
    "start_time": "2023-04-03T09:30:54.490Z"
   },
   {
    "duration": 610,
    "start_time": "2023-04-03T09:30:54.502Z"
   },
   {
    "duration": 9,
    "start_time": "2023-04-03T09:30:55.115Z"
   },
   {
    "duration": 86,
    "start_time": "2023-04-03T09:31:08.593Z"
   },
   {
    "duration": 9,
    "start_time": "2023-04-03T09:34:31.529Z"
   },
   {
    "duration": 51,
    "start_time": "2023-04-03T09:36:12.025Z"
   },
   {
    "duration": 3,
    "start_time": "2023-04-03T09:37:19.571Z"
   },
   {
    "duration": 4,
    "start_time": "2023-04-03T09:37:28.227Z"
   },
   {
    "duration": 60,
    "start_time": "2023-04-03T09:37:28.255Z"
   },
   {
    "duration": 10,
    "start_time": "2023-04-03T09:37:28.317Z"
   },
   {
    "duration": 32,
    "start_time": "2023-04-03T09:37:28.328Z"
   },
   {
    "duration": 6,
    "start_time": "2023-04-03T09:37:28.361Z"
   },
   {
    "duration": 18,
    "start_time": "2023-04-03T09:37:28.369Z"
   },
   {
    "duration": 32,
    "start_time": "2023-04-03T09:37:28.389Z"
   },
   {
    "duration": 4,
    "start_time": "2023-04-03T09:37:28.422Z"
   },
   {
    "duration": 10,
    "start_time": "2023-04-03T09:37:28.428Z"
   },
   {
    "duration": 7,
    "start_time": "2023-04-03T09:37:28.440Z"
   },
   {
    "duration": 9,
    "start_time": "2023-04-03T09:37:28.448Z"
   },
   {
    "duration": 16,
    "start_time": "2023-04-03T09:37:28.458Z"
   },
   {
    "duration": 16,
    "start_time": "2023-04-03T09:37:28.475Z"
   },
   {
    "duration": 9,
    "start_time": "2023-04-03T09:37:28.493Z"
   },
   {
    "duration": 35,
    "start_time": "2023-04-03T09:37:28.505Z"
   },
   {
    "duration": 9,
    "start_time": "2023-04-03T09:37:28.542Z"
   },
   {
    "duration": 10,
    "start_time": "2023-04-03T09:37:28.553Z"
   },
   {
    "duration": 1257,
    "start_time": "2023-04-03T09:37:28.564Z"
   },
   {
    "duration": 10,
    "start_time": "2023-04-03T09:37:29.823Z"
   },
   {
    "duration": 1314,
    "start_time": "2023-04-03T09:37:29.835Z"
   },
   {
    "duration": 10,
    "start_time": "2023-04-03T09:37:31.150Z"
   },
   {
    "duration": 32,
    "start_time": "2023-04-03T09:37:31.161Z"
   },
   {
    "duration": 637,
    "start_time": "2023-04-03T09:37:31.195Z"
   },
   {
    "duration": 15,
    "start_time": "2023-04-03T09:37:31.834Z"
   },
   {
    "duration": 50025,
    "start_time": "2023-04-03T09:37:31.850Z"
   },
   {
    "duration": 9,
    "start_time": "2023-04-03T09:38:21.877Z"
   },
   {
    "duration": 587,
    "start_time": "2023-04-03T09:38:21.887Z"
   },
   {
    "duration": 105,
    "start_time": "2023-04-03T09:38:22.589Z"
   },
   {
    "duration": 20,
    "start_time": "2023-04-03T09:44:07.995Z"
   },
   {
    "duration": 228,
    "start_time": "2023-04-03T09:44:27.506Z"
   },
   {
    "duration": 199,
    "start_time": "2023-04-03T09:44:54.273Z"
   },
   {
    "duration": 190,
    "start_time": "2023-04-03T09:45:31.271Z"
   },
   {
    "duration": 188,
    "start_time": "2023-04-03T09:45:37.255Z"
   },
   {
    "duration": 191,
    "start_time": "2023-04-03T09:50:36.100Z"
   },
   {
    "duration": 195,
    "start_time": "2023-04-03T09:50:39.491Z"
   },
   {
    "duration": 205,
    "start_time": "2023-04-03T09:51:37.055Z"
   },
   {
    "duration": 192,
    "start_time": "2023-04-03T09:51:42.499Z"
   },
   {
    "duration": 5984,
    "start_time": "2023-04-03T09:54:21.596Z"
   },
   {
    "duration": 40454,
    "start_time": "2023-04-03T09:54:44.756Z"
   },
   {
    "duration": 222,
    "start_time": "2023-04-03T09:59:22.909Z"
   },
   {
    "duration": 4,
    "start_time": "2023-04-03T10:49:20.534Z"
   },
   {
    "duration": 310,
    "start_time": "2023-04-03T10:49:20.539Z"
   },
   {
    "duration": 11,
    "start_time": "2023-04-03T10:49:20.851Z"
   },
   {
    "duration": 47,
    "start_time": "2023-04-03T10:49:20.863Z"
   },
   {
    "duration": 14,
    "start_time": "2023-04-03T10:49:20.911Z"
   },
   {
    "duration": 16,
    "start_time": "2023-04-03T10:49:20.926Z"
   },
   {
    "duration": 28,
    "start_time": "2023-04-03T10:49:20.944Z"
   },
   {
    "duration": 4,
    "start_time": "2023-04-03T10:49:20.973Z"
   },
   {
    "duration": 8,
    "start_time": "2023-04-03T10:49:20.979Z"
   },
   {
    "duration": 13,
    "start_time": "2023-04-03T10:49:20.988Z"
   },
   {
    "duration": 11,
    "start_time": "2023-04-03T10:49:21.003Z"
   },
   {
    "duration": 18,
    "start_time": "2023-04-03T10:49:21.015Z"
   },
   {
    "duration": 6,
    "start_time": "2023-04-03T10:49:21.035Z"
   },
   {
    "duration": 11,
    "start_time": "2023-04-03T10:49:21.043Z"
   },
   {
    "duration": 59,
    "start_time": "2023-04-03T10:49:21.056Z"
   },
   {
    "duration": 10,
    "start_time": "2023-04-03T10:49:21.116Z"
   },
   {
    "duration": 23,
    "start_time": "2023-04-03T10:49:21.127Z"
   },
   {
    "duration": 1180,
    "start_time": "2023-04-03T10:49:21.151Z"
   },
   {
    "duration": 213,
    "start_time": "2023-04-03T10:49:22.332Z"
   },
   {
    "duration": 37051,
    "start_time": "2023-04-03T10:49:22.549Z"
   },
   {
    "duration": 9,
    "start_time": "2023-04-03T10:49:59.602Z"
   },
   {
    "duration": 1449,
    "start_time": "2023-04-03T10:49:59.612Z"
   },
   {
    "duration": 12,
    "start_time": "2023-04-03T10:50:01.062Z"
   },
   {
    "duration": 51,
    "start_time": "2023-04-03T10:50:01.076Z"
   },
   {
    "duration": 609,
    "start_time": "2023-04-03T10:50:01.128Z"
   },
   {
    "duration": 15,
    "start_time": "2023-04-03T10:50:01.739Z"
   },
   {
    "duration": 48010,
    "start_time": "2023-04-03T10:50:01.756Z"
   },
   {
    "duration": 11,
    "start_time": "2023-04-03T10:50:49.768Z"
   },
   {
    "duration": 593,
    "start_time": "2023-04-03T10:50:49.780Z"
   },
   {
    "duration": 104,
    "start_time": "2023-04-03T10:50:50.374Z"
   }
  ],
  "kernelspec": {
   "display_name": "Python 3 (ipykernel)",
   "language": "python",
   "name": "python3"
  },
  "language_info": {
   "codemirror_mode": {
    "name": "ipython",
    "version": 3
   },
   "file_extension": ".py",
   "mimetype": "text/x-python",
   "name": "python",
   "nbconvert_exporter": "python",
   "pygments_lexer": "ipython3",
   "version": "3.9.5"
  },
  "toc": {
   "base_numbering": 1,
   "nav_menu": {},
   "number_sections": true,
   "sideBar": true,
   "skip_h1_title": true,
   "title_cell": "Содержание",
   "title_sidebar": "Contents",
   "toc_cell": true,
   "toc_position": {},
   "toc_section_display": true,
   "toc_window_display": false
  }
 },
 "nbformat": 4,
 "nbformat_minor": 2
}
